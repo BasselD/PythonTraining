{
 "cells": [
  {
   "cell_type": "markdown",
   "id": "9f214142",
   "metadata": {
    "papermill": {
     "duration": 0.094402,
     "end_time": "2021-12-10T16:03:26.483769",
     "exception": false,
     "start_time": "2021-12-10T16:03:26.389367",
     "status": "completed"
    },
    "tags": []
   },
   "source": [
    "#                                      ICMR Healthcare  Cancer Type Detections  and Gene Type Analysis \n",
    "\n",
    "* Data Analyst : Sheri Prashanth Reddy \n",
    "\n",
    "## DESCRIPTION\n",
    "\n",
    "### Problem Statement: \n",
    "\n",
    "ICMR wants to analyze different types of cancers, such as breast cancer, renal cancer, colon cancer, lung cancer, and prostate cancer becoming a cause of worry in recent years. They would like to identify the probable cause of these cancers in terms of genes responsible for each cancer type. This would lead us to early identification of each type of cancer reducing the fatality rate.\n",
    "\n",
    "### Dataset Details: \n",
    "\n",
    "The input dataset contains 802 samples for the corresponding 802 people who have been detected with different types of cancer. Each sample contains expression values of more than 20K genes. Samples have one of the types of tumors: BRCA, KIRC, COAD, LUAD, and PRAD.\n",
    "\n",
    "\n",
    "### Project Tasks are divided in 4 weeks "
   ]
  },
  {
   "cell_type": "markdown",
   "id": "6d4e55dd",
   "metadata": {
    "papermill": {
     "duration": 0.091399,
     "end_time": "2021-12-10T16:03:26.669234",
     "exception": false,
     "start_time": "2021-12-10T16:03:26.577835",
     "status": "completed"
    },
    "tags": []
   },
   "source": [
    "## Week 1:-  Exploratory Data Analysis\n",
    "\n",
    "\n",
    "#### Project Task: Week 1:\n",
    "\n",
    "Exploratory Data Analysis:\n",
    "\n",
    "Merge both the datasets.\n",
    "\n",
    "Plot the merged dataset as a hierarchically-clustered heatmap.\n",
    "\n",
    "Perform Null-hypothesis testing.\n",
    " "
   ]
  },
  {
   "cell_type": "code",
   "execution_count": 1,
   "id": "fa935245",
   "metadata": {
    "execution": {
     "iopub.execute_input": "2021-12-10T16:03:26.862430Z",
     "iopub.status.busy": "2021-12-10T16:03:26.861106Z",
     "iopub.status.idle": "2021-12-10T16:03:28.245725Z",
     "shell.execute_reply": "2021-12-10T16:03:28.246274Z",
     "shell.execute_reply.started": "2021-12-10T15:50:58.689841Z"
    },
    "papermill": {
     "duration": 1.484013,
     "end_time": "2021-12-10T16:03:28.246635",
     "exception": false,
     "start_time": "2021-12-10T16:03:26.762622",
     "status": "completed"
    },
    "tags": []
   },
   "outputs": [],
   "source": [
    "import pandas as pd\n",
    "import numpy as np\n",
    "import scipy.stats as stats\n",
    "import matplotlib.pyplot as plt\n",
    "import seaborn as sns\n",
    "%matplotlib inline\n",
    "\n",
    "\n",
    "\n",
    "from sklearn.decomposition import PCA\n",
    "from sklearn.discriminant_analysis import LinearDiscriminantAnalysis\n",
    "colors = ['royalblue','red','deeppink', 'maroon', 'mediumorchid', 'tan', 'forestgreen', 'olive', 'goldenrod', 'lightcyan', 'navy']\n",
    "vectorizer = np.vectorize(lambda x: colors[x % len(colors)])\n",
    "\n",
    "import warnings\n",
    "warnings.filterwarnings(action='ignore',category=DeprecationWarning)\n",
    "warnings.filterwarnings(action='ignore',category=FutureWarning)"
   ]
  },
  {
   "cell_type": "markdown",
   "id": "34b7b64f",
   "metadata": {
    "papermill": {
     "duration": 0.094129,
     "end_time": "2021-12-10T16:03:28.435429",
     "exception": false,
     "start_time": "2021-12-10T16:03:28.341300",
     "status": "completed"
    },
    "tags": []
   },
   "source": [
    "### Week1: Load Data in dataframe for labels and the data "
   ]
  },
  {
   "cell_type": "code",
   "execution_count": 3,
   "id": "93929dad",
   "metadata": {
    "execution": {
     "iopub.execute_input": "2021-12-10T16:03:28.629212Z",
     "iopub.status.busy": "2021-12-10T16:03:28.628344Z",
     "iopub.status.idle": "2021-12-10T16:04:38.412775Z",
     "shell.execute_reply": "2021-12-10T16:04:38.413393Z",
     "shell.execute_reply.started": "2021-12-10T15:51:00.164033Z"
    },
    "papermill": {
     "duration": 69.883911,
     "end_time": "2021-12-10T16:04:38.413631",
     "exception": false,
     "start_time": "2021-12-10T16:03:28.529720",
     "status": "completed"
    },
    "tags": []
   },
   "outputs": [
    {
     "data": {
      "text/html": [
       "<div>\n",
       "<style scoped>\n",
       "    .dataframe tbody tr th:only-of-type {\n",
       "        vertical-align: middle;\n",
       "    }\n",
       "\n",
       "    .dataframe tbody tr th {\n",
       "        vertical-align: top;\n",
       "    }\n",
       "\n",
       "    .dataframe thead th {\n",
       "        text-align: right;\n",
       "    }\n",
       "</style>\n",
       "<table border=\"1\" class=\"dataframe\">\n",
       "  <thead>\n",
       "    <tr style=\"text-align: right;\">\n",
       "      <th></th>\n",
       "      <th>gene_0</th>\n",
       "      <th>gene_1</th>\n",
       "      <th>gene_2</th>\n",
       "      <th>gene_3</th>\n",
       "      <th>gene_4</th>\n",
       "      <th>gene_5</th>\n",
       "      <th>gene_6</th>\n",
       "      <th>gene_7</th>\n",
       "      <th>gene_8</th>\n",
       "      <th>gene_9</th>\n",
       "      <th>...</th>\n",
       "      <th>gene_20521</th>\n",
       "      <th>gene_20522</th>\n",
       "      <th>gene_20523</th>\n",
       "      <th>gene_20524</th>\n",
       "      <th>gene_20525</th>\n",
       "      <th>gene_20526</th>\n",
       "      <th>gene_20527</th>\n",
       "      <th>gene_20528</th>\n",
       "      <th>gene_20529</th>\n",
       "      <th>gene_20530</th>\n",
       "    </tr>\n",
       "  </thead>\n",
       "  <tbody>\n",
       "    <tr>\n",
       "      <th>count</th>\n",
       "      <td>801.000000</td>\n",
       "      <td>801.000000</td>\n",
       "      <td>801.000000</td>\n",
       "      <td>801.000000</td>\n",
       "      <td>801.000000</td>\n",
       "      <td>801.0</td>\n",
       "      <td>801.000000</td>\n",
       "      <td>801.000000</td>\n",
       "      <td>801.000000</td>\n",
       "      <td>801.000000</td>\n",
       "      <td>...</td>\n",
       "      <td>801.000000</td>\n",
       "      <td>801.000000</td>\n",
       "      <td>801.000000</td>\n",
       "      <td>801.000000</td>\n",
       "      <td>801.000000</td>\n",
       "      <td>801.000000</td>\n",
       "      <td>801.000000</td>\n",
       "      <td>801.000000</td>\n",
       "      <td>801.000000</td>\n",
       "      <td>801.000000</td>\n",
       "    </tr>\n",
       "    <tr>\n",
       "      <th>mean</th>\n",
       "      <td>0.026642</td>\n",
       "      <td>3.010909</td>\n",
       "      <td>3.095350</td>\n",
       "      <td>6.722305</td>\n",
       "      <td>9.813612</td>\n",
       "      <td>0.0</td>\n",
       "      <td>7.405509</td>\n",
       "      <td>0.499882</td>\n",
       "      <td>0.016744</td>\n",
       "      <td>0.013428</td>\n",
       "      <td>...</td>\n",
       "      <td>5.896573</td>\n",
       "      <td>8.765891</td>\n",
       "      <td>10.056252</td>\n",
       "      <td>4.847727</td>\n",
       "      <td>9.741987</td>\n",
       "      <td>11.742228</td>\n",
       "      <td>10.155271</td>\n",
       "      <td>9.590726</td>\n",
       "      <td>5.528177</td>\n",
       "      <td>0.095411</td>\n",
       "    </tr>\n",
       "    <tr>\n",
       "      <th>std</th>\n",
       "      <td>0.136850</td>\n",
       "      <td>1.200828</td>\n",
       "      <td>1.065601</td>\n",
       "      <td>0.638819</td>\n",
       "      <td>0.506537</td>\n",
       "      <td>0.0</td>\n",
       "      <td>1.108237</td>\n",
       "      <td>0.508799</td>\n",
       "      <td>0.133635</td>\n",
       "      <td>0.204722</td>\n",
       "      <td>...</td>\n",
       "      <td>0.746399</td>\n",
       "      <td>0.603176</td>\n",
       "      <td>0.379278</td>\n",
       "      <td>2.382728</td>\n",
       "      <td>0.533898</td>\n",
       "      <td>0.670371</td>\n",
       "      <td>0.580569</td>\n",
       "      <td>0.563849</td>\n",
       "      <td>2.073859</td>\n",
       "      <td>0.364529</td>\n",
       "    </tr>\n",
       "    <tr>\n",
       "      <th>min</th>\n",
       "      <td>0.000000</td>\n",
       "      <td>0.000000</td>\n",
       "      <td>0.000000</td>\n",
       "      <td>5.009284</td>\n",
       "      <td>8.435999</td>\n",
       "      <td>0.0</td>\n",
       "      <td>3.930747</td>\n",
       "      <td>0.000000</td>\n",
       "      <td>0.000000</td>\n",
       "      <td>0.000000</td>\n",
       "      <td>...</td>\n",
       "      <td>2.853517</td>\n",
       "      <td>6.678368</td>\n",
       "      <td>8.669456</td>\n",
       "      <td>0.000000</td>\n",
       "      <td>7.974942</td>\n",
       "      <td>9.045255</td>\n",
       "      <td>7.530141</td>\n",
       "      <td>7.864533</td>\n",
       "      <td>0.593975</td>\n",
       "      <td>0.000000</td>\n",
       "    </tr>\n",
       "    <tr>\n",
       "      <th>25%</th>\n",
       "      <td>0.000000</td>\n",
       "      <td>2.299039</td>\n",
       "      <td>2.390365</td>\n",
       "      <td>6.303346</td>\n",
       "      <td>9.464466</td>\n",
       "      <td>0.0</td>\n",
       "      <td>6.676042</td>\n",
       "      <td>0.000000</td>\n",
       "      <td>0.000000</td>\n",
       "      <td>0.000000</td>\n",
       "      <td>...</td>\n",
       "      <td>5.454926</td>\n",
       "      <td>8.383834</td>\n",
       "      <td>9.826027</td>\n",
       "      <td>3.130750</td>\n",
       "      <td>9.400747</td>\n",
       "      <td>11.315857</td>\n",
       "      <td>9.836525</td>\n",
       "      <td>9.244219</td>\n",
       "      <td>4.092385</td>\n",
       "      <td>0.000000</td>\n",
       "    </tr>\n",
       "    <tr>\n",
       "      <th>50%</th>\n",
       "      <td>0.000000</td>\n",
       "      <td>3.143687</td>\n",
       "      <td>3.127006</td>\n",
       "      <td>6.655893</td>\n",
       "      <td>9.791599</td>\n",
       "      <td>0.0</td>\n",
       "      <td>7.450114</td>\n",
       "      <td>0.443076</td>\n",
       "      <td>0.000000</td>\n",
       "      <td>0.000000</td>\n",
       "      <td>...</td>\n",
       "      <td>5.972582</td>\n",
       "      <td>8.784144</td>\n",
       "      <td>10.066385</td>\n",
       "      <td>5.444935</td>\n",
       "      <td>9.784524</td>\n",
       "      <td>11.749802</td>\n",
       "      <td>10.191207</td>\n",
       "      <td>9.566511</td>\n",
       "      <td>5.218618</td>\n",
       "      <td>0.000000</td>\n",
       "    </tr>\n",
       "    <tr>\n",
       "      <th>75%</th>\n",
       "      <td>0.000000</td>\n",
       "      <td>3.883484</td>\n",
       "      <td>3.802534</td>\n",
       "      <td>7.038447</td>\n",
       "      <td>10.142324</td>\n",
       "      <td>0.0</td>\n",
       "      <td>8.121984</td>\n",
       "      <td>0.789354</td>\n",
       "      <td>0.000000</td>\n",
       "      <td>0.000000</td>\n",
       "      <td>...</td>\n",
       "      <td>6.411292</td>\n",
       "      <td>9.147136</td>\n",
       "      <td>10.299025</td>\n",
       "      <td>6.637412</td>\n",
       "      <td>10.082269</td>\n",
       "      <td>12.177852</td>\n",
       "      <td>10.578561</td>\n",
       "      <td>9.917888</td>\n",
       "      <td>6.876382</td>\n",
       "      <td>0.000000</td>\n",
       "    </tr>\n",
       "    <tr>\n",
       "      <th>max</th>\n",
       "      <td>1.482332</td>\n",
       "      <td>6.237034</td>\n",
       "      <td>6.063484</td>\n",
       "      <td>10.129528</td>\n",
       "      <td>11.355621</td>\n",
       "      <td>0.0</td>\n",
       "      <td>10.718190</td>\n",
       "      <td>2.779008</td>\n",
       "      <td>1.785592</td>\n",
       "      <td>4.067604</td>\n",
       "      <td>...</td>\n",
       "      <td>7.771054</td>\n",
       "      <td>11.105431</td>\n",
       "      <td>11.318243</td>\n",
       "      <td>9.207495</td>\n",
       "      <td>11.811632</td>\n",
       "      <td>13.715361</td>\n",
       "      <td>11.675653</td>\n",
       "      <td>12.813320</td>\n",
       "      <td>11.205836</td>\n",
       "      <td>5.254133</td>\n",
       "    </tr>\n",
       "  </tbody>\n",
       "</table>\n",
       "<p>8 rows × 20531 columns</p>\n",
       "</div>"
      ],
      "text/plain": [
       "           gene_0      gene_1      gene_2      gene_3      gene_4  gene_5  \\\n",
       "count  801.000000  801.000000  801.000000  801.000000  801.000000   801.0   \n",
       "mean     0.026642    3.010909    3.095350    6.722305    9.813612     0.0   \n",
       "std      0.136850    1.200828    1.065601    0.638819    0.506537     0.0   \n",
       "min      0.000000    0.000000    0.000000    5.009284    8.435999     0.0   \n",
       "25%      0.000000    2.299039    2.390365    6.303346    9.464466     0.0   \n",
       "50%      0.000000    3.143687    3.127006    6.655893    9.791599     0.0   \n",
       "75%      0.000000    3.883484    3.802534    7.038447   10.142324     0.0   \n",
       "max      1.482332    6.237034    6.063484   10.129528   11.355621     0.0   \n",
       "\n",
       "           gene_6      gene_7      gene_8      gene_9  ...  gene_20521  \\\n",
       "count  801.000000  801.000000  801.000000  801.000000  ...  801.000000   \n",
       "mean     7.405509    0.499882    0.016744    0.013428  ...    5.896573   \n",
       "std      1.108237    0.508799    0.133635    0.204722  ...    0.746399   \n",
       "min      3.930747    0.000000    0.000000    0.000000  ...    2.853517   \n",
       "25%      6.676042    0.000000    0.000000    0.000000  ...    5.454926   \n",
       "50%      7.450114    0.443076    0.000000    0.000000  ...    5.972582   \n",
       "75%      8.121984    0.789354    0.000000    0.000000  ...    6.411292   \n",
       "max     10.718190    2.779008    1.785592    4.067604  ...    7.771054   \n",
       "\n",
       "       gene_20522  gene_20523  gene_20524  gene_20525  gene_20526  gene_20527  \\\n",
       "count  801.000000  801.000000  801.000000  801.000000  801.000000  801.000000   \n",
       "mean     8.765891   10.056252    4.847727    9.741987   11.742228   10.155271   \n",
       "std      0.603176    0.379278    2.382728    0.533898    0.670371    0.580569   \n",
       "min      6.678368    8.669456    0.000000    7.974942    9.045255    7.530141   \n",
       "25%      8.383834    9.826027    3.130750    9.400747   11.315857    9.836525   \n",
       "50%      8.784144   10.066385    5.444935    9.784524   11.749802   10.191207   \n",
       "75%      9.147136   10.299025    6.637412   10.082269   12.177852   10.578561   \n",
       "max     11.105431   11.318243    9.207495   11.811632   13.715361   11.675653   \n",
       "\n",
       "       gene_20528  gene_20529  gene_20530  \n",
       "count  801.000000  801.000000  801.000000  \n",
       "mean     9.590726    5.528177    0.095411  \n",
       "std      0.563849    2.073859    0.364529  \n",
       "min      7.864533    0.593975    0.000000  \n",
       "25%      9.244219    4.092385    0.000000  \n",
       "50%      9.566511    5.218618    0.000000  \n",
       "75%      9.917888    6.876382    0.000000  \n",
       "max     12.813320   11.205836    5.254133  \n",
       "\n",
       "[8 rows x 20531 columns]"
      ]
     },
     "execution_count": 3,
     "metadata": {},
     "output_type": "execute_result"
    }
   ],
   "source": [
    "label = pd.read_csv('dataset/labels.csv',delimiter=',',engine='python')\n",
    "data = pd.read_csv('dataset/data.csv',delimiter=',',engine='python')\n",
    "data.describe()"
   ]
  },
  {
   "cell_type": "markdown",
   "id": "b73472e9",
   "metadata": {
    "papermill": {
     "duration": 0.094567,
     "end_time": "2021-12-10T16:04:38.602946",
     "exception": false,
     "start_time": "2021-12-10T16:04:38.508379",
     "status": "completed"
    },
    "tags": []
   },
   "source": [
    "### Week1:- Merge data set "
   ]
  },
  {
   "cell_type": "code",
   "execution_count": 3,
   "id": "f33a8e48",
   "metadata": {
    "execution": {
     "iopub.execute_input": "2021-12-10T16:04:38.795100Z",
     "iopub.status.busy": "2021-12-10T16:04:38.794406Z",
     "iopub.status.idle": "2021-12-10T16:04:39.011419Z",
     "shell.execute_reply": "2021-12-10T16:04:39.010855Z",
     "shell.execute_reply.started": "2021-12-10T15:52:05.781619Z"
    },
    "papermill": {
     "duration": 0.313574,
     "end_time": "2021-12-10T16:04:39.011589",
     "exception": false,
     "start_time": "2021-12-10T16:04:38.698015",
     "status": "completed"
    },
    "tags": []
   },
   "outputs": [
    {
     "data": {
      "text/html": [
       "<div>\n",
       "<style scoped>\n",
       "    .dataframe tbody tr th:only-of-type {\n",
       "        vertical-align: middle;\n",
       "    }\n",
       "\n",
       "    .dataframe tbody tr th {\n",
       "        vertical-align: top;\n",
       "    }\n",
       "\n",
       "    .dataframe thead th {\n",
       "        text-align: right;\n",
       "    }\n",
       "</style>\n",
       "<table border=\"1\" class=\"dataframe\">\n",
       "  <thead>\n",
       "    <tr style=\"text-align: right;\">\n",
       "      <th></th>\n",
       "      <th>Unnamed: 0</th>\n",
       "      <th>Class</th>\n",
       "      <th>gene_0</th>\n",
       "      <th>gene_1</th>\n",
       "      <th>gene_2</th>\n",
       "      <th>gene_3</th>\n",
       "      <th>gene_4</th>\n",
       "      <th>gene_5</th>\n",
       "      <th>gene_6</th>\n",
       "      <th>gene_7</th>\n",
       "      <th>...</th>\n",
       "      <th>gene_20521</th>\n",
       "      <th>gene_20522</th>\n",
       "      <th>gene_20523</th>\n",
       "      <th>gene_20524</th>\n",
       "      <th>gene_20525</th>\n",
       "      <th>gene_20526</th>\n",
       "      <th>gene_20527</th>\n",
       "      <th>gene_20528</th>\n",
       "      <th>gene_20529</th>\n",
       "      <th>gene_20530</th>\n",
       "    </tr>\n",
       "  </thead>\n",
       "  <tbody>\n",
       "    <tr>\n",
       "      <th>0</th>\n",
       "      <td>sample_0</td>\n",
       "      <td>PRAD</td>\n",
       "      <td>0.0</td>\n",
       "      <td>2.017209</td>\n",
       "      <td>3.265527</td>\n",
       "      <td>5.478487</td>\n",
       "      <td>10.431999</td>\n",
       "      <td>0.0</td>\n",
       "      <td>7.175175</td>\n",
       "      <td>0.591871</td>\n",
       "      <td>...</td>\n",
       "      <td>4.926711</td>\n",
       "      <td>8.210257</td>\n",
       "      <td>9.723516</td>\n",
       "      <td>7.220030</td>\n",
       "      <td>9.119813</td>\n",
       "      <td>12.003135</td>\n",
       "      <td>9.650743</td>\n",
       "      <td>8.921326</td>\n",
       "      <td>5.286759</td>\n",
       "      <td>0.0</td>\n",
       "    </tr>\n",
       "    <tr>\n",
       "      <th>1</th>\n",
       "      <td>sample_1</td>\n",
       "      <td>LUAD</td>\n",
       "      <td>0.0</td>\n",
       "      <td>0.592732</td>\n",
       "      <td>1.588421</td>\n",
       "      <td>7.586157</td>\n",
       "      <td>9.623011</td>\n",
       "      <td>0.0</td>\n",
       "      <td>6.816049</td>\n",
       "      <td>0.000000</td>\n",
       "      <td>...</td>\n",
       "      <td>4.593372</td>\n",
       "      <td>7.323865</td>\n",
       "      <td>9.740931</td>\n",
       "      <td>6.256586</td>\n",
       "      <td>8.381612</td>\n",
       "      <td>12.674552</td>\n",
       "      <td>10.517059</td>\n",
       "      <td>9.397854</td>\n",
       "      <td>2.094168</td>\n",
       "      <td>0.0</td>\n",
       "    </tr>\n",
       "    <tr>\n",
       "      <th>2</th>\n",
       "      <td>sample_2</td>\n",
       "      <td>PRAD</td>\n",
       "      <td>0.0</td>\n",
       "      <td>3.511759</td>\n",
       "      <td>4.327199</td>\n",
       "      <td>6.881787</td>\n",
       "      <td>9.870730</td>\n",
       "      <td>0.0</td>\n",
       "      <td>6.972130</td>\n",
       "      <td>0.452595</td>\n",
       "      <td>...</td>\n",
       "      <td>5.125213</td>\n",
       "      <td>8.127123</td>\n",
       "      <td>10.908640</td>\n",
       "      <td>5.401607</td>\n",
       "      <td>9.911597</td>\n",
       "      <td>9.045255</td>\n",
       "      <td>9.788359</td>\n",
       "      <td>10.090470</td>\n",
       "      <td>1.683023</td>\n",
       "      <td>0.0</td>\n",
       "    </tr>\n",
       "    <tr>\n",
       "      <th>3</th>\n",
       "      <td>sample_3</td>\n",
       "      <td>PRAD</td>\n",
       "      <td>0.0</td>\n",
       "      <td>3.663618</td>\n",
       "      <td>4.507649</td>\n",
       "      <td>6.659068</td>\n",
       "      <td>10.196184</td>\n",
       "      <td>0.0</td>\n",
       "      <td>7.843375</td>\n",
       "      <td>0.434882</td>\n",
       "      <td>...</td>\n",
       "      <td>6.076566</td>\n",
       "      <td>8.792959</td>\n",
       "      <td>10.141520</td>\n",
       "      <td>8.942805</td>\n",
       "      <td>9.601208</td>\n",
       "      <td>11.392682</td>\n",
       "      <td>9.694814</td>\n",
       "      <td>9.684365</td>\n",
       "      <td>3.292001</td>\n",
       "      <td>0.0</td>\n",
       "    </tr>\n",
       "    <tr>\n",
       "      <th>4</th>\n",
       "      <td>sample_4</td>\n",
       "      <td>BRCA</td>\n",
       "      <td>0.0</td>\n",
       "      <td>2.655741</td>\n",
       "      <td>2.821547</td>\n",
       "      <td>6.539454</td>\n",
       "      <td>9.738265</td>\n",
       "      <td>0.0</td>\n",
       "      <td>6.566967</td>\n",
       "      <td>0.360982</td>\n",
       "      <td>...</td>\n",
       "      <td>5.996032</td>\n",
       "      <td>8.891425</td>\n",
       "      <td>10.373790</td>\n",
       "      <td>7.181162</td>\n",
       "      <td>9.846910</td>\n",
       "      <td>11.922439</td>\n",
       "      <td>9.217749</td>\n",
       "      <td>9.461191</td>\n",
       "      <td>5.110372</td>\n",
       "      <td>0.0</td>\n",
       "    </tr>\n",
       "  </tbody>\n",
       "</table>\n",
       "<p>5 rows × 20533 columns</p>\n",
       "</div>"
      ],
      "text/plain": [
       "  Unnamed: 0 Class  gene_0    gene_1    gene_2    gene_3     gene_4  gene_5  \\\n",
       "0   sample_0  PRAD     0.0  2.017209  3.265527  5.478487  10.431999     0.0   \n",
       "1   sample_1  LUAD     0.0  0.592732  1.588421  7.586157   9.623011     0.0   \n",
       "2   sample_2  PRAD     0.0  3.511759  4.327199  6.881787   9.870730     0.0   \n",
       "3   sample_3  PRAD     0.0  3.663618  4.507649  6.659068  10.196184     0.0   \n",
       "4   sample_4  BRCA     0.0  2.655741  2.821547  6.539454   9.738265     0.0   \n",
       "\n",
       "     gene_6    gene_7  ...  gene_20521  gene_20522  gene_20523  gene_20524  \\\n",
       "0  7.175175  0.591871  ...    4.926711    8.210257    9.723516    7.220030   \n",
       "1  6.816049  0.000000  ...    4.593372    7.323865    9.740931    6.256586   \n",
       "2  6.972130  0.452595  ...    5.125213    8.127123   10.908640    5.401607   \n",
       "3  7.843375  0.434882  ...    6.076566    8.792959   10.141520    8.942805   \n",
       "4  6.566967  0.360982  ...    5.996032    8.891425   10.373790    7.181162   \n",
       "\n",
       "   gene_20525  gene_20526  gene_20527  gene_20528  gene_20529  gene_20530  \n",
       "0    9.119813   12.003135    9.650743    8.921326    5.286759         0.0  \n",
       "1    8.381612   12.674552   10.517059    9.397854    2.094168         0.0  \n",
       "2    9.911597    9.045255    9.788359   10.090470    1.683023         0.0  \n",
       "3    9.601208   11.392682    9.694814    9.684365    3.292001         0.0  \n",
       "4    9.846910   11.922439    9.217749    9.461191    5.110372         0.0  \n",
       "\n",
       "[5 rows x 20533 columns]"
      ]
     },
     "execution_count": 3,
     "metadata": {},
     "output_type": "execute_result"
    }
   ],
   "source": [
    "master_data = pd.merge(label,data)\n",
    "master_data.head()"
   ]
  },
  {
   "cell_type": "code",
   "execution_count": 4,
   "id": "7b1969f4",
   "metadata": {
    "execution": {
     "iopub.execute_input": "2021-12-10T16:04:39.208621Z",
     "iopub.status.busy": "2021-12-10T16:04:39.207925Z",
     "iopub.status.idle": "2021-12-10T16:04:39.338169Z",
     "shell.execute_reply": "2021-12-10T16:04:39.337605Z",
     "shell.execute_reply.started": "2021-12-10T15:52:06.061530Z"
    },
    "papermill": {
     "duration": 0.22943,
     "end_time": "2021-12-10T16:04:39.338338",
     "exception": false,
     "start_time": "2021-12-10T16:04:39.108908",
     "status": "completed"
    },
    "tags": []
   },
   "outputs": [
    {
     "data": {
      "text/plain": [
       "Unnamed: 0    0\n",
       "Class         0\n",
       "gene_0        0\n",
       "gene_1        0\n",
       "gene_2        0\n",
       "             ..\n",
       "gene_20526    0\n",
       "gene_20527    0\n",
       "gene_20528    0\n",
       "gene_20529    0\n",
       "gene_20530    0\n",
       "Length: 20533, dtype: int64"
      ]
     },
     "execution_count": 4,
     "metadata": {},
     "output_type": "execute_result"
    }
   ],
   "source": [
    "master_data.isnull().sum()"
   ]
  },
  {
   "cell_type": "code",
   "execution_count": 5,
   "id": "18266d9f",
   "metadata": {
    "execution": {
     "iopub.execute_input": "2021-12-10T16:04:39.534017Z",
     "iopub.status.busy": "2021-12-10T16:04:39.533290Z",
     "iopub.status.idle": "2021-12-10T16:05:23.977224Z",
     "shell.execute_reply": "2021-12-10T16:05:23.977800Z",
     "shell.execute_reply.started": "2021-12-10T15:52:06.191561Z"
    },
    "papermill": {
     "duration": 44.545083,
     "end_time": "2021-12-10T16:05:23.977987",
     "exception": false,
     "start_time": "2021-12-10T16:04:39.432904",
     "status": "completed"
    },
    "tags": []
   },
   "outputs": [
    {
     "data": {
      "text/html": [
       "<div>\n",
       "<style scoped>\n",
       "    .dataframe tbody tr th:only-of-type {\n",
       "        vertical-align: middle;\n",
       "    }\n",
       "\n",
       "    .dataframe tbody tr th {\n",
       "        vertical-align: top;\n",
       "    }\n",
       "\n",
       "    .dataframe thead th {\n",
       "        text-align: right;\n",
       "    }\n",
       "</style>\n",
       "<table border=\"1\" class=\"dataframe\">\n",
       "  <thead>\n",
       "    <tr style=\"text-align: right;\">\n",
       "      <th></th>\n",
       "      <th>gene_0</th>\n",
       "      <th>gene_1</th>\n",
       "      <th>gene_2</th>\n",
       "      <th>gene_3</th>\n",
       "      <th>gene_4</th>\n",
       "      <th>gene_5</th>\n",
       "      <th>gene_6</th>\n",
       "      <th>gene_7</th>\n",
       "      <th>gene_8</th>\n",
       "      <th>gene_9</th>\n",
       "      <th>...</th>\n",
       "      <th>gene_20521</th>\n",
       "      <th>gene_20522</th>\n",
       "      <th>gene_20523</th>\n",
       "      <th>gene_20524</th>\n",
       "      <th>gene_20525</th>\n",
       "      <th>gene_20526</th>\n",
       "      <th>gene_20527</th>\n",
       "      <th>gene_20528</th>\n",
       "      <th>gene_20529</th>\n",
       "      <th>gene_20530</th>\n",
       "    </tr>\n",
       "  </thead>\n",
       "  <tbody>\n",
       "    <tr>\n",
       "      <th>count</th>\n",
       "      <td>801.000000</td>\n",
       "      <td>801.000000</td>\n",
       "      <td>801.000000</td>\n",
       "      <td>801.000000</td>\n",
       "      <td>801.000000</td>\n",
       "      <td>801.0</td>\n",
       "      <td>801.000000</td>\n",
       "      <td>801.000000</td>\n",
       "      <td>801.000000</td>\n",
       "      <td>801.000000</td>\n",
       "      <td>...</td>\n",
       "      <td>801.000000</td>\n",
       "      <td>801.000000</td>\n",
       "      <td>801.000000</td>\n",
       "      <td>801.000000</td>\n",
       "      <td>801.000000</td>\n",
       "      <td>801.000000</td>\n",
       "      <td>801.000000</td>\n",
       "      <td>801.000000</td>\n",
       "      <td>801.000000</td>\n",
       "      <td>801.000000</td>\n",
       "    </tr>\n",
       "    <tr>\n",
       "      <th>mean</th>\n",
       "      <td>0.026642</td>\n",
       "      <td>3.010909</td>\n",
       "      <td>3.095350</td>\n",
       "      <td>6.722305</td>\n",
       "      <td>9.813612</td>\n",
       "      <td>0.0</td>\n",
       "      <td>7.405509</td>\n",
       "      <td>0.499882</td>\n",
       "      <td>0.016744</td>\n",
       "      <td>0.013428</td>\n",
       "      <td>...</td>\n",
       "      <td>5.896573</td>\n",
       "      <td>8.765891</td>\n",
       "      <td>10.056252</td>\n",
       "      <td>4.847727</td>\n",
       "      <td>9.741987</td>\n",
       "      <td>11.742228</td>\n",
       "      <td>10.155271</td>\n",
       "      <td>9.590726</td>\n",
       "      <td>5.528177</td>\n",
       "      <td>0.095411</td>\n",
       "    </tr>\n",
       "    <tr>\n",
       "      <th>std</th>\n",
       "      <td>0.136850</td>\n",
       "      <td>1.200828</td>\n",
       "      <td>1.065601</td>\n",
       "      <td>0.638819</td>\n",
       "      <td>0.506537</td>\n",
       "      <td>0.0</td>\n",
       "      <td>1.108237</td>\n",
       "      <td>0.508799</td>\n",
       "      <td>0.133635</td>\n",
       "      <td>0.204722</td>\n",
       "      <td>...</td>\n",
       "      <td>0.746399</td>\n",
       "      <td>0.603176</td>\n",
       "      <td>0.379278</td>\n",
       "      <td>2.382728</td>\n",
       "      <td>0.533898</td>\n",
       "      <td>0.670371</td>\n",
       "      <td>0.580569</td>\n",
       "      <td>0.563849</td>\n",
       "      <td>2.073859</td>\n",
       "      <td>0.364529</td>\n",
       "    </tr>\n",
       "    <tr>\n",
       "      <th>min</th>\n",
       "      <td>0.000000</td>\n",
       "      <td>0.000000</td>\n",
       "      <td>0.000000</td>\n",
       "      <td>5.009284</td>\n",
       "      <td>8.435999</td>\n",
       "      <td>0.0</td>\n",
       "      <td>3.930747</td>\n",
       "      <td>0.000000</td>\n",
       "      <td>0.000000</td>\n",
       "      <td>0.000000</td>\n",
       "      <td>...</td>\n",
       "      <td>2.853517</td>\n",
       "      <td>6.678368</td>\n",
       "      <td>8.669456</td>\n",
       "      <td>0.000000</td>\n",
       "      <td>7.974942</td>\n",
       "      <td>9.045255</td>\n",
       "      <td>7.530141</td>\n",
       "      <td>7.864533</td>\n",
       "      <td>0.593975</td>\n",
       "      <td>0.000000</td>\n",
       "    </tr>\n",
       "    <tr>\n",
       "      <th>25%</th>\n",
       "      <td>0.000000</td>\n",
       "      <td>2.299039</td>\n",
       "      <td>2.390365</td>\n",
       "      <td>6.303346</td>\n",
       "      <td>9.464466</td>\n",
       "      <td>0.0</td>\n",
       "      <td>6.676042</td>\n",
       "      <td>0.000000</td>\n",
       "      <td>0.000000</td>\n",
       "      <td>0.000000</td>\n",
       "      <td>...</td>\n",
       "      <td>5.454926</td>\n",
       "      <td>8.383834</td>\n",
       "      <td>9.826027</td>\n",
       "      <td>3.130750</td>\n",
       "      <td>9.400747</td>\n",
       "      <td>11.315857</td>\n",
       "      <td>9.836525</td>\n",
       "      <td>9.244219</td>\n",
       "      <td>4.092385</td>\n",
       "      <td>0.000000</td>\n",
       "    </tr>\n",
       "    <tr>\n",
       "      <th>50%</th>\n",
       "      <td>0.000000</td>\n",
       "      <td>3.143687</td>\n",
       "      <td>3.127006</td>\n",
       "      <td>6.655893</td>\n",
       "      <td>9.791599</td>\n",
       "      <td>0.0</td>\n",
       "      <td>7.450114</td>\n",
       "      <td>0.443076</td>\n",
       "      <td>0.000000</td>\n",
       "      <td>0.000000</td>\n",
       "      <td>...</td>\n",
       "      <td>5.972582</td>\n",
       "      <td>8.784144</td>\n",
       "      <td>10.066385</td>\n",
       "      <td>5.444935</td>\n",
       "      <td>9.784524</td>\n",
       "      <td>11.749802</td>\n",
       "      <td>10.191207</td>\n",
       "      <td>9.566511</td>\n",
       "      <td>5.218618</td>\n",
       "      <td>0.000000</td>\n",
       "    </tr>\n",
       "    <tr>\n",
       "      <th>75%</th>\n",
       "      <td>0.000000</td>\n",
       "      <td>3.883484</td>\n",
       "      <td>3.802534</td>\n",
       "      <td>7.038447</td>\n",
       "      <td>10.142324</td>\n",
       "      <td>0.0</td>\n",
       "      <td>8.121984</td>\n",
       "      <td>0.789354</td>\n",
       "      <td>0.000000</td>\n",
       "      <td>0.000000</td>\n",
       "      <td>...</td>\n",
       "      <td>6.411292</td>\n",
       "      <td>9.147136</td>\n",
       "      <td>10.299025</td>\n",
       "      <td>6.637412</td>\n",
       "      <td>10.082269</td>\n",
       "      <td>12.177852</td>\n",
       "      <td>10.578561</td>\n",
       "      <td>9.917888</td>\n",
       "      <td>6.876382</td>\n",
       "      <td>0.000000</td>\n",
       "    </tr>\n",
       "    <tr>\n",
       "      <th>max</th>\n",
       "      <td>1.482332</td>\n",
       "      <td>6.237034</td>\n",
       "      <td>6.063484</td>\n",
       "      <td>10.129528</td>\n",
       "      <td>11.355621</td>\n",
       "      <td>0.0</td>\n",
       "      <td>10.718190</td>\n",
       "      <td>2.779008</td>\n",
       "      <td>1.785592</td>\n",
       "      <td>4.067604</td>\n",
       "      <td>...</td>\n",
       "      <td>7.771054</td>\n",
       "      <td>11.105431</td>\n",
       "      <td>11.318243</td>\n",
       "      <td>9.207495</td>\n",
       "      <td>11.811632</td>\n",
       "      <td>13.715361</td>\n",
       "      <td>11.675653</td>\n",
       "      <td>12.813320</td>\n",
       "      <td>11.205836</td>\n",
       "      <td>5.254133</td>\n",
       "    </tr>\n",
       "  </tbody>\n",
       "</table>\n",
       "<p>8 rows × 20531 columns</p>\n",
       "</div>"
      ],
      "text/plain": [
       "           gene_0      gene_1      gene_2      gene_3      gene_4  gene_5  \\\n",
       "count  801.000000  801.000000  801.000000  801.000000  801.000000   801.0   \n",
       "mean     0.026642    3.010909    3.095350    6.722305    9.813612     0.0   \n",
       "std      0.136850    1.200828    1.065601    0.638819    0.506537     0.0   \n",
       "min      0.000000    0.000000    0.000000    5.009284    8.435999     0.0   \n",
       "25%      0.000000    2.299039    2.390365    6.303346    9.464466     0.0   \n",
       "50%      0.000000    3.143687    3.127006    6.655893    9.791599     0.0   \n",
       "75%      0.000000    3.883484    3.802534    7.038447   10.142324     0.0   \n",
       "max      1.482332    6.237034    6.063484   10.129528   11.355621     0.0   \n",
       "\n",
       "           gene_6      gene_7      gene_8      gene_9  ...  gene_20521  \\\n",
       "count  801.000000  801.000000  801.000000  801.000000  ...  801.000000   \n",
       "mean     7.405509    0.499882    0.016744    0.013428  ...    5.896573   \n",
       "std      1.108237    0.508799    0.133635    0.204722  ...    0.746399   \n",
       "min      3.930747    0.000000    0.000000    0.000000  ...    2.853517   \n",
       "25%      6.676042    0.000000    0.000000    0.000000  ...    5.454926   \n",
       "50%      7.450114    0.443076    0.000000    0.000000  ...    5.972582   \n",
       "75%      8.121984    0.789354    0.000000    0.000000  ...    6.411292   \n",
       "max     10.718190    2.779008    1.785592    4.067604  ...    7.771054   \n",
       "\n",
       "       gene_20522  gene_20523  gene_20524  gene_20525  gene_20526  gene_20527  \\\n",
       "count  801.000000  801.000000  801.000000  801.000000  801.000000  801.000000   \n",
       "mean     8.765891   10.056252    4.847727    9.741987   11.742228   10.155271   \n",
       "std      0.603176    0.379278    2.382728    0.533898    0.670371    0.580569   \n",
       "min      6.678368    8.669456    0.000000    7.974942    9.045255    7.530141   \n",
       "25%      8.383834    9.826027    3.130750    9.400747   11.315857    9.836525   \n",
       "50%      8.784144   10.066385    5.444935    9.784524   11.749802   10.191207   \n",
       "75%      9.147136   10.299025    6.637412   10.082269   12.177852   10.578561   \n",
       "max     11.105431   11.318243    9.207495   11.811632   13.715361   11.675653   \n",
       "\n",
       "       gene_20528  gene_20529  gene_20530  \n",
       "count  801.000000  801.000000  801.000000  \n",
       "mean     9.590726    5.528177    0.095411  \n",
       "std      0.563849    2.073859    0.364529  \n",
       "min      7.864533    0.593975    0.000000  \n",
       "25%      9.244219    4.092385    0.000000  \n",
       "50%      9.566511    5.218618    0.000000  \n",
       "75%      9.917888    6.876382    0.000000  \n",
       "max     12.813320   11.205836    5.254133  \n",
       "\n",
       "[8 rows x 20531 columns]"
      ]
     },
     "execution_count": 5,
     "metadata": {},
     "output_type": "execute_result"
    }
   ],
   "source": [
    "master_data.describe()"
   ]
  },
  {
   "cell_type": "markdown",
   "id": "60cb1fba",
   "metadata": {
    "papermill": {
     "duration": 0.094832,
     "end_time": "2021-12-10T16:05:24.168419",
     "exception": false,
     "start_time": "2021-12-10T16:05:24.073587",
     "status": "completed"
    },
    "tags": []
   },
   "source": [
    "### Week1:- Plot the merged dataset as a hierarchically-clustered heatmap."
   ]
  },
  {
   "cell_type": "code",
   "execution_count": 6,
   "id": "0c076c77",
   "metadata": {
    "execution": {
     "iopub.execute_input": "2021-12-10T16:05:24.363937Z",
     "iopub.status.busy": "2021-12-10T16:05:24.363265Z",
     "iopub.status.idle": "2021-12-10T16:05:26.391467Z",
     "shell.execute_reply": "2021-12-10T16:05:26.390586Z",
     "shell.execute_reply.started": "2021-12-10T15:52:43.679555Z"
    },
    "papermill": {
     "duration": 2.127202,
     "end_time": "2021-12-10T16:05:26.391720",
     "exception": false,
     "start_time": "2021-12-10T16:05:24.264518",
     "status": "completed"
    },
    "tags": []
   },
   "outputs": [
    {
     "data": {
      "text/html": [
       "<div>\n",
       "<style scoped>\n",
       "    .dataframe tbody tr th:only-of-type {\n",
       "        vertical-align: middle;\n",
       "    }\n",
       "\n",
       "    .dataframe tbody tr th {\n",
       "        vertical-align: top;\n",
       "    }\n",
       "\n",
       "    .dataframe thead th {\n",
       "        text-align: right;\n",
       "    }\n",
       "</style>\n",
       "<table border=\"1\" class=\"dataframe\">\n",
       "  <thead>\n",
       "    <tr style=\"text-align: right;\">\n",
       "      <th></th>\n",
       "      <th>gene_0</th>\n",
       "      <th>gene_1</th>\n",
       "      <th>gene_10</th>\n",
       "      <th>gene_100</th>\n",
       "      <th>gene_1000</th>\n",
       "      <th>gene_10000</th>\n",
       "      <th>gene_10001</th>\n",
       "      <th>gene_10002</th>\n",
       "      <th>gene_10003</th>\n",
       "      <th>gene_10004</th>\n",
       "      <th>...</th>\n",
       "      <th>gene_9990</th>\n",
       "      <th>gene_9991</th>\n",
       "      <th>gene_9992</th>\n",
       "      <th>gene_9993</th>\n",
       "      <th>gene_9994</th>\n",
       "      <th>gene_9995</th>\n",
       "      <th>gene_9996</th>\n",
       "      <th>gene_9997</th>\n",
       "      <th>gene_9998</th>\n",
       "      <th>gene_9999</th>\n",
       "    </tr>\n",
       "    <tr>\n",
       "      <th>Class</th>\n",
       "      <th></th>\n",
       "      <th></th>\n",
       "      <th></th>\n",
       "      <th></th>\n",
       "      <th></th>\n",
       "      <th></th>\n",
       "      <th></th>\n",
       "      <th></th>\n",
       "      <th></th>\n",
       "      <th></th>\n",
       "      <th></th>\n",
       "      <th></th>\n",
       "      <th></th>\n",
       "      <th></th>\n",
       "      <th></th>\n",
       "      <th></th>\n",
       "      <th></th>\n",
       "      <th></th>\n",
       "      <th></th>\n",
       "      <th></th>\n",
       "      <th></th>\n",
       "    </tr>\n",
       "  </thead>\n",
       "  <tbody>\n",
       "    <tr>\n",
       "      <th>BRCA</th>\n",
       "      <td>0.011362</td>\n",
       "      <td>2.839739</td>\n",
       "      <td>0.544066</td>\n",
       "      <td>10.681488</td>\n",
       "      <td>10.303568</td>\n",
       "      <td>3.258028</td>\n",
       "      <td>7.339461</td>\n",
       "      <td>7.900497</td>\n",
       "      <td>7.489146</td>\n",
       "      <td>7.508378</td>\n",
       "      <td>...</td>\n",
       "      <td>1.969278</td>\n",
       "      <td>5.142237</td>\n",
       "      <td>1.736160</td>\n",
       "      <td>2.312551</td>\n",
       "      <td>1.696127</td>\n",
       "      <td>2.493789</td>\n",
       "      <td>0.046527</td>\n",
       "      <td>2.099709</td>\n",
       "      <td>0.151063</td>\n",
       "      <td>6.954733</td>\n",
       "    </tr>\n",
       "    <tr>\n",
       "      <th>COAD</th>\n",
       "      <td>0.022212</td>\n",
       "      <td>3.438381</td>\n",
       "      <td>0.357278</td>\n",
       "      <td>11.015745</td>\n",
       "      <td>9.951124</td>\n",
       "      <td>3.462039</td>\n",
       "      <td>5.526673</td>\n",
       "      <td>7.487396</td>\n",
       "      <td>3.783493</td>\n",
       "      <td>6.959238</td>\n",
       "      <td>...</td>\n",
       "      <td>2.216178</td>\n",
       "      <td>0.354828</td>\n",
       "      <td>1.833606</td>\n",
       "      <td>1.619692</td>\n",
       "      <td>3.839205</td>\n",
       "      <td>2.396207</td>\n",
       "      <td>0.090327</td>\n",
       "      <td>2.298246</td>\n",
       "      <td>0.065007</td>\n",
       "      <td>6.618466</td>\n",
       "    </tr>\n",
       "    <tr>\n",
       "      <th>KIRC</th>\n",
       "      <td>0.046544</td>\n",
       "      <td>2.398129</td>\n",
       "      <td>1.166824</td>\n",
       "      <td>10.238999</td>\n",
       "      <td>11.148094</td>\n",
       "      <td>1.651798</td>\n",
       "      <td>6.895752</td>\n",
       "      <td>7.686932</td>\n",
       "      <td>7.269611</td>\n",
       "      <td>7.636246</td>\n",
       "      <td>...</td>\n",
       "      <td>1.824964</td>\n",
       "      <td>0.596508</td>\n",
       "      <td>2.393303</td>\n",
       "      <td>1.872888</td>\n",
       "      <td>1.289448</td>\n",
       "      <td>3.139623</td>\n",
       "      <td>0.130416</td>\n",
       "      <td>2.387948</td>\n",
       "      <td>0.148641</td>\n",
       "      <td>6.429343</td>\n",
       "    </tr>\n",
       "    <tr>\n",
       "      <th>LUAD</th>\n",
       "      <td>0.041088</td>\n",
       "      <td>3.358260</td>\n",
       "      <td>0.607541</td>\n",
       "      <td>10.517670</td>\n",
       "      <td>10.503698</td>\n",
       "      <td>3.754181</td>\n",
       "      <td>7.281878</td>\n",
       "      <td>7.041924</td>\n",
       "      <td>6.145042</td>\n",
       "      <td>7.148682</td>\n",
       "      <td>...</td>\n",
       "      <td>2.609490</td>\n",
       "      <td>2.801700</td>\n",
       "      <td>2.738326</td>\n",
       "      <td>1.869805</td>\n",
       "      <td>2.217144</td>\n",
       "      <td>2.459608</td>\n",
       "      <td>0.042070</td>\n",
       "      <td>2.281828</td>\n",
       "      <td>0.056608</td>\n",
       "      <td>6.721517</td>\n",
       "    </tr>\n",
       "    <tr>\n",
       "      <th>PRAD</th>\n",
       "      <td>0.026544</td>\n",
       "      <td>3.441041</td>\n",
       "      <td>0.765608</td>\n",
       "      <td>10.282936</td>\n",
       "      <td>9.967433</td>\n",
       "      <td>1.949878</td>\n",
       "      <td>7.946141</td>\n",
       "      <td>8.529695</td>\n",
       "      <td>5.696368</td>\n",
       "      <td>7.396572</td>\n",
       "      <td>...</td>\n",
       "      <td>1.623491</td>\n",
       "      <td>4.594215</td>\n",
       "      <td>1.684084</td>\n",
       "      <td>2.588050</td>\n",
       "      <td>1.703772</td>\n",
       "      <td>3.568490</td>\n",
       "      <td>0.572893</td>\n",
       "      <td>3.621548</td>\n",
       "      <td>0.094953</td>\n",
       "      <td>7.104225</td>\n",
       "    </tr>\n",
       "  </tbody>\n",
       "</table>\n",
       "<p>5 rows × 20531 columns</p>\n",
       "</div>"
      ],
      "text/plain": [
       "         gene_0    gene_1   gene_10   gene_100  gene_1000  gene_10000  \\\n",
       "Class                                                                   \n",
       "BRCA   0.011362  2.839739  0.544066  10.681488  10.303568    3.258028   \n",
       "COAD   0.022212  3.438381  0.357278  11.015745   9.951124    3.462039   \n",
       "KIRC   0.046544  2.398129  1.166824  10.238999  11.148094    1.651798   \n",
       "LUAD   0.041088  3.358260  0.607541  10.517670  10.503698    3.754181   \n",
       "PRAD   0.026544  3.441041  0.765608  10.282936   9.967433    1.949878   \n",
       "\n",
       "       gene_10001  gene_10002  gene_10003  gene_10004  ...  gene_9990  \\\n",
       "Class                                                  ...              \n",
       "BRCA     7.339461    7.900497    7.489146    7.508378  ...   1.969278   \n",
       "COAD     5.526673    7.487396    3.783493    6.959238  ...   2.216178   \n",
       "KIRC     6.895752    7.686932    7.269611    7.636246  ...   1.824964   \n",
       "LUAD     7.281878    7.041924    6.145042    7.148682  ...   2.609490   \n",
       "PRAD     7.946141    8.529695    5.696368    7.396572  ...   1.623491   \n",
       "\n",
       "       gene_9991  gene_9992  gene_9993  gene_9994  gene_9995  gene_9996  \\\n",
       "Class                                                                     \n",
       "BRCA    5.142237   1.736160   2.312551   1.696127   2.493789   0.046527   \n",
       "COAD    0.354828   1.833606   1.619692   3.839205   2.396207   0.090327   \n",
       "KIRC    0.596508   2.393303   1.872888   1.289448   3.139623   0.130416   \n",
       "LUAD    2.801700   2.738326   1.869805   2.217144   2.459608   0.042070   \n",
       "PRAD    4.594215   1.684084   2.588050   1.703772   3.568490   0.572893   \n",
       "\n",
       "       gene_9997  gene_9998  gene_9999  \n",
       "Class                                   \n",
       "BRCA    2.099709   0.151063   6.954733  \n",
       "COAD    2.298246   0.065007   6.618466  \n",
       "KIRC    2.387948   0.148641   6.429343  \n",
       "LUAD    2.281828   0.056608   6.721517  \n",
       "PRAD    3.621548   0.094953   7.104225  \n",
       "\n",
       "[5 rows x 20531 columns]"
      ]
     },
     "execution_count": 6,
     "metadata": {},
     "output_type": "execute_result"
    }
   ],
   "source": [
    "heatmap_data = pd.pivot_table(master_data, index=['Class'])\n",
    "                              \n",
    "heatmap_data.head()"
   ]
  },
  {
   "cell_type": "code",
   "execution_count": 7,
   "id": "a926b2e6",
   "metadata": {
    "execution": {
     "iopub.execute_input": "2021-12-10T16:05:26.603367Z",
     "iopub.status.busy": "2021-12-10T16:05:26.602281Z",
     "iopub.status.idle": "2021-12-10T16:05:53.706882Z",
     "shell.execute_reply": "2021-12-10T16:05:53.707434Z",
     "shell.execute_reply.started": "2021-12-10T15:52:45.277266Z"
    },
    "papermill": {
     "duration": 27.204974,
     "end_time": "2021-12-10T16:05:53.707641",
     "exception": false,
     "start_time": "2021-12-10T16:05:26.502667",
     "status": "completed"
    },
    "tags": []
   },
   "outputs": [
    {
     "name": "stderr",
     "output_type": "stream",
     "text": [
      "/opt/conda/lib/python3.7/site-packages/seaborn/matrix.py:654: UserWarning: Clustering large matrix with scipy. Installing `fastcluster` may give better performance.\n",
      "  warnings.warn(msg)\n"
     ]
    },
    {
     "data": {
      "image/png": "[encoded data removed]",
      "text/plain": [
       "<Figure size 720x720 with 4 Axes>"
      ]
     },
     "metadata": {
      "needs_background": "light"
     },
     "output_type": "display_data"
    }
   ],
   "source": [
    "sns.clustermap(heatmap_data)\n",
    "plt.savefig('heatmap_with_Seaborn_clustermap_python.jpg',\n",
    "            dpi=150, figsize=(8,12))"
   ]
  },
  {
   "cell_type": "code",
   "execution_count": 8,
   "id": "4517148a",
   "metadata": {
    "execution": {
     "iopub.execute_input": "2021-12-10T16:05:53.908070Z",
     "iopub.status.busy": "2021-12-10T16:05:53.906983Z",
     "iopub.status.idle": "2021-12-10T16:06:21.907534Z",
     "shell.execute_reply": "2021-12-10T16:06:21.908117Z",
     "shell.execute_reply.started": "2021-12-10T15:53:18.252613Z"
    },
    "papermill": {
     "duration": 28.102448,
     "end_time": "2021-12-10T16:06:21.908316",
     "exception": false,
     "start_time": "2021-12-10T16:05:53.805868",
     "status": "completed"
    },
    "tags": []
   },
   "outputs": [
    {
     "data": {
      "image/png": "[encoded data removed]",
      "text/plain": [
       "<Figure size 1296x864 with 4 Axes>"
      ]
     },
     "metadata": {
      "needs_background": "light"
     },
     "output_type": "display_data"
    }
   ],
   "source": [
    "sns.clustermap(heatmap_data, figsize=(18,12))\n",
    "plt.savefig('clustered_heatmap_with_dendrograms_Seaborn_clustermap_python.jpg',dpi=150)\n"
   ]
  },
  {
   "cell_type": "markdown",
   "id": "2fd3163e",
   "metadata": {
    "papermill": {
     "duration": 0.099848,
     "end_time": "2021-12-10T16:06:22.109540",
     "exception": false,
     "start_time": "2021-12-10T16:06:22.009692",
     "status": "completed"
    },
    "tags": []
   },
   "source": [
    "### Week1:- Perform Null Hypothesis testing "
   ]
  },
  {
   "cell_type": "markdown",
   "id": "a4d976c5",
   "metadata": {
    "papermill": {
     "duration": 0.100008,
     "end_time": "2021-12-10T16:06:22.308656",
     "exception": false,
     "start_time": "2021-12-10T16:06:22.208648",
     "status": "completed"
    },
    "tags": []
   },
   "source": [
    "### Checking histogram to check if the data is normally distributed "
   ]
  },
  {
   "cell_type": "code",
   "execution_count": 9,
   "id": "bb013319",
   "metadata": {
    "execution": {
     "iopub.execute_input": "2021-12-10T16:06:22.514025Z",
     "iopub.status.busy": "2021-12-10T16:06:22.512936Z",
     "iopub.status.idle": "2021-12-10T16:06:22.680254Z",
     "shell.execute_reply": "2021-12-10T16:06:22.679697Z",
     "shell.execute_reply.started": "2021-12-10T15:53:52.659897Z"
    },
    "papermill": {
     "duration": 0.272064,
     "end_time": "2021-12-10T16:06:22.680405",
     "exception": false,
     "start_time": "2021-12-10T16:06:22.408341",
     "status": "completed"
    },
    "tags": []
   },
   "outputs": [
    {
     "data": {
      "image/png": "[encoded data removed]",
      "text/plain": [
       "<Figure size 1008x432 with 1 Axes>"
      ]
     },
     "metadata": {
      "needs_background": "light"
     },
     "output_type": "display_data"
    }
   ],
   "source": [
    "plt.figure(figsize=(14,6))\n",
    "plt.hist(master_data['Class'])\n",
    "plt.show()"
   ]
  },
  {
   "cell_type": "code",
   "execution_count": 10,
   "id": "db2812ed",
   "metadata": {
    "execution": {
     "iopub.execute_input": "2021-12-10T16:06:22.938687Z",
     "iopub.status.busy": "2021-12-10T16:06:22.888877Z",
     "iopub.status.idle": "2021-12-10T16:06:22.978768Z",
     "shell.execute_reply": "2021-12-10T16:06:22.979286Z",
     "shell.execute_reply.started": "2021-12-10T15:53:52.871379Z"
    },
    "papermill": {
     "duration": 0.198326,
     "end_time": "2021-12-10T16:06:22.979476",
     "exception": false,
     "start_time": "2021-12-10T16:06:22.781150",
     "status": "completed"
    },
    "tags": []
   },
   "outputs": [
    {
     "data": {
      "text/html": [
       "<div>\n",
       "<style scoped>\n",
       "    .dataframe tbody tr th:only-of-type {\n",
       "        vertical-align: middle;\n",
       "    }\n",
       "\n",
       "    .dataframe tbody tr th {\n",
       "        vertical-align: top;\n",
       "    }\n",
       "\n",
       "    .dataframe thead th {\n",
       "        text-align: right;\n",
       "    }\n",
       "</style>\n",
       "<table border=\"1\" class=\"dataframe\">\n",
       "  <thead>\n",
       "    <tr style=\"text-align: right;\">\n",
       "      <th></th>\n",
       "      <th>Class</th>\n",
       "      <th>gene_0</th>\n",
       "      <th>gene_1</th>\n",
       "      <th>gene_2</th>\n",
       "      <th>gene_3</th>\n",
       "      <th>gene_4</th>\n",
       "      <th>gene_5</th>\n",
       "      <th>gene_6</th>\n",
       "      <th>gene_7</th>\n",
       "      <th>gene_8</th>\n",
       "      <th>...</th>\n",
       "      <th>gene_20521</th>\n",
       "      <th>gene_20522</th>\n",
       "      <th>gene_20523</th>\n",
       "      <th>gene_20524</th>\n",
       "      <th>gene_20525</th>\n",
       "      <th>gene_20526</th>\n",
       "      <th>gene_20527</th>\n",
       "      <th>gene_20528</th>\n",
       "      <th>gene_20529</th>\n",
       "      <th>gene_20530</th>\n",
       "    </tr>\n",
       "  </thead>\n",
       "  <tbody>\n",
       "    <tr>\n",
       "      <th>0</th>\n",
       "      <td>PRAD</td>\n",
       "      <td>0.0</td>\n",
       "      <td>2.017209</td>\n",
       "      <td>3.265527</td>\n",
       "      <td>5.478487</td>\n",
       "      <td>10.431999</td>\n",
       "      <td>0.0</td>\n",
       "      <td>7.175175</td>\n",
       "      <td>0.591871</td>\n",
       "      <td>0.0</td>\n",
       "      <td>...</td>\n",
       "      <td>4.926711</td>\n",
       "      <td>8.210257</td>\n",
       "      <td>9.723516</td>\n",
       "      <td>7.220030</td>\n",
       "      <td>9.119813</td>\n",
       "      <td>12.003135</td>\n",
       "      <td>9.650743</td>\n",
       "      <td>8.921326</td>\n",
       "      <td>5.286759</td>\n",
       "      <td>0.000000</td>\n",
       "    </tr>\n",
       "    <tr>\n",
       "      <th>1</th>\n",
       "      <td>LUAD</td>\n",
       "      <td>0.0</td>\n",
       "      <td>0.592732</td>\n",
       "      <td>1.588421</td>\n",
       "      <td>7.586157</td>\n",
       "      <td>9.623011</td>\n",
       "      <td>0.0</td>\n",
       "      <td>6.816049</td>\n",
       "      <td>0.000000</td>\n",
       "      <td>0.0</td>\n",
       "      <td>...</td>\n",
       "      <td>4.593372</td>\n",
       "      <td>7.323865</td>\n",
       "      <td>9.740931</td>\n",
       "      <td>6.256586</td>\n",
       "      <td>8.381612</td>\n",
       "      <td>12.674552</td>\n",
       "      <td>10.517059</td>\n",
       "      <td>9.397854</td>\n",
       "      <td>2.094168</td>\n",
       "      <td>0.000000</td>\n",
       "    </tr>\n",
       "    <tr>\n",
       "      <th>2</th>\n",
       "      <td>PRAD</td>\n",
       "      <td>0.0</td>\n",
       "      <td>3.511759</td>\n",
       "      <td>4.327199</td>\n",
       "      <td>6.881787</td>\n",
       "      <td>9.870730</td>\n",
       "      <td>0.0</td>\n",
       "      <td>6.972130</td>\n",
       "      <td>0.452595</td>\n",
       "      <td>0.0</td>\n",
       "      <td>...</td>\n",
       "      <td>5.125213</td>\n",
       "      <td>8.127123</td>\n",
       "      <td>10.908640</td>\n",
       "      <td>5.401607</td>\n",
       "      <td>9.911597</td>\n",
       "      <td>9.045255</td>\n",
       "      <td>9.788359</td>\n",
       "      <td>10.090470</td>\n",
       "      <td>1.683023</td>\n",
       "      <td>0.000000</td>\n",
       "    </tr>\n",
       "    <tr>\n",
       "      <th>3</th>\n",
       "      <td>PRAD</td>\n",
       "      <td>0.0</td>\n",
       "      <td>3.663618</td>\n",
       "      <td>4.507649</td>\n",
       "      <td>6.659068</td>\n",
       "      <td>10.196184</td>\n",
       "      <td>0.0</td>\n",
       "      <td>7.843375</td>\n",
       "      <td>0.434882</td>\n",
       "      <td>0.0</td>\n",
       "      <td>...</td>\n",
       "      <td>6.076566</td>\n",
       "      <td>8.792959</td>\n",
       "      <td>10.141520</td>\n",
       "      <td>8.942805</td>\n",
       "      <td>9.601208</td>\n",
       "      <td>11.392682</td>\n",
       "      <td>9.694814</td>\n",
       "      <td>9.684365</td>\n",
       "      <td>3.292001</td>\n",
       "      <td>0.000000</td>\n",
       "    </tr>\n",
       "    <tr>\n",
       "      <th>4</th>\n",
       "      <td>BRCA</td>\n",
       "      <td>0.0</td>\n",
       "      <td>2.655741</td>\n",
       "      <td>2.821547</td>\n",
       "      <td>6.539454</td>\n",
       "      <td>9.738265</td>\n",
       "      <td>0.0</td>\n",
       "      <td>6.566967</td>\n",
       "      <td>0.360982</td>\n",
       "      <td>0.0</td>\n",
       "      <td>...</td>\n",
       "      <td>5.996032</td>\n",
       "      <td>8.891425</td>\n",
       "      <td>10.373790</td>\n",
       "      <td>7.181162</td>\n",
       "      <td>9.846910</td>\n",
       "      <td>11.922439</td>\n",
       "      <td>9.217749</td>\n",
       "      <td>9.461191</td>\n",
       "      <td>5.110372</td>\n",
       "      <td>0.000000</td>\n",
       "    </tr>\n",
       "    <tr>\n",
       "      <th>...</th>\n",
       "      <td>...</td>\n",
       "      <td>...</td>\n",
       "      <td>...</td>\n",
       "      <td>...</td>\n",
       "      <td>...</td>\n",
       "      <td>...</td>\n",
       "      <td>...</td>\n",
       "      <td>...</td>\n",
       "      <td>...</td>\n",
       "      <td>...</td>\n",
       "      <td>...</td>\n",
       "      <td>...</td>\n",
       "      <td>...</td>\n",
       "      <td>...</td>\n",
       "      <td>...</td>\n",
       "      <td>...</td>\n",
       "      <td>...</td>\n",
       "      <td>...</td>\n",
       "      <td>...</td>\n",
       "      <td>...</td>\n",
       "      <td>...</td>\n",
       "    </tr>\n",
       "    <tr>\n",
       "      <th>796</th>\n",
       "      <td>BRCA</td>\n",
       "      <td>0.0</td>\n",
       "      <td>1.865642</td>\n",
       "      <td>2.718197</td>\n",
       "      <td>7.350099</td>\n",
       "      <td>10.006003</td>\n",
       "      <td>0.0</td>\n",
       "      <td>6.764792</td>\n",
       "      <td>0.496922</td>\n",
       "      <td>0.0</td>\n",
       "      <td>...</td>\n",
       "      <td>6.088133</td>\n",
       "      <td>9.118313</td>\n",
       "      <td>10.004852</td>\n",
       "      <td>4.484415</td>\n",
       "      <td>9.614701</td>\n",
       "      <td>12.031267</td>\n",
       "      <td>9.813063</td>\n",
       "      <td>10.092770</td>\n",
       "      <td>8.819269</td>\n",
       "      <td>0.000000</td>\n",
       "    </tr>\n",
       "    <tr>\n",
       "      <th>797</th>\n",
       "      <td>LUAD</td>\n",
       "      <td>0.0</td>\n",
       "      <td>3.942955</td>\n",
       "      <td>4.453807</td>\n",
       "      <td>6.346597</td>\n",
       "      <td>10.056868</td>\n",
       "      <td>0.0</td>\n",
       "      <td>7.320331</td>\n",
       "      <td>0.000000</td>\n",
       "      <td>0.0</td>\n",
       "      <td>...</td>\n",
       "      <td>6.371876</td>\n",
       "      <td>9.623335</td>\n",
       "      <td>9.823921</td>\n",
       "      <td>6.555327</td>\n",
       "      <td>9.064002</td>\n",
       "      <td>11.633422</td>\n",
       "      <td>10.317266</td>\n",
       "      <td>8.745983</td>\n",
       "      <td>9.659081</td>\n",
       "      <td>0.000000</td>\n",
       "    </tr>\n",
       "    <tr>\n",
       "      <th>798</th>\n",
       "      <td>COAD</td>\n",
       "      <td>0.0</td>\n",
       "      <td>3.249582</td>\n",
       "      <td>3.707492</td>\n",
       "      <td>8.185901</td>\n",
       "      <td>9.504082</td>\n",
       "      <td>0.0</td>\n",
       "      <td>7.536589</td>\n",
       "      <td>1.811101</td>\n",
       "      <td>0.0</td>\n",
       "      <td>...</td>\n",
       "      <td>5.719386</td>\n",
       "      <td>8.610704</td>\n",
       "      <td>10.485517</td>\n",
       "      <td>3.589763</td>\n",
       "      <td>9.350636</td>\n",
       "      <td>12.180944</td>\n",
       "      <td>10.681194</td>\n",
       "      <td>9.466711</td>\n",
       "      <td>4.677458</td>\n",
       "      <td>0.586693</td>\n",
       "    </tr>\n",
       "    <tr>\n",
       "      <th>799</th>\n",
       "      <td>PRAD</td>\n",
       "      <td>0.0</td>\n",
       "      <td>2.590339</td>\n",
       "      <td>2.787976</td>\n",
       "      <td>7.318624</td>\n",
       "      <td>9.987136</td>\n",
       "      <td>0.0</td>\n",
       "      <td>9.213464</td>\n",
       "      <td>0.000000</td>\n",
       "      <td>0.0</td>\n",
       "      <td>...</td>\n",
       "      <td>5.785237</td>\n",
       "      <td>8.605387</td>\n",
       "      <td>11.004677</td>\n",
       "      <td>4.745888</td>\n",
       "      <td>9.626383</td>\n",
       "      <td>11.198279</td>\n",
       "      <td>10.335513</td>\n",
       "      <td>10.400581</td>\n",
       "      <td>5.718751</td>\n",
       "      <td>0.000000</td>\n",
       "    </tr>\n",
       "    <tr>\n",
       "      <th>800</th>\n",
       "      <td>PRAD</td>\n",
       "      <td>0.0</td>\n",
       "      <td>2.325242</td>\n",
       "      <td>3.805932</td>\n",
       "      <td>6.530246</td>\n",
       "      <td>9.560367</td>\n",
       "      <td>0.0</td>\n",
       "      <td>7.957027</td>\n",
       "      <td>0.000000</td>\n",
       "      <td>0.0</td>\n",
       "      <td>...</td>\n",
       "      <td>6.403075</td>\n",
       "      <td>8.594354</td>\n",
       "      <td>10.243079</td>\n",
       "      <td>9.139459</td>\n",
       "      <td>10.102934</td>\n",
       "      <td>11.641081</td>\n",
       "      <td>10.607358</td>\n",
       "      <td>9.844794</td>\n",
       "      <td>4.550716</td>\n",
       "      <td>0.000000</td>\n",
       "    </tr>\n",
       "  </tbody>\n",
       "</table>\n",
       "<p>801 rows × 20532 columns</p>\n",
       "</div>"
      ],
      "text/plain": [
       "    Class  gene_0    gene_1    gene_2    gene_3     gene_4  gene_5    gene_6  \\\n",
       "0    PRAD     0.0  2.017209  3.265527  5.478487  10.431999     0.0  7.175175   \n",
       "1    LUAD     0.0  0.592732  1.588421  7.586157   9.623011     0.0  6.816049   \n",
       "2    PRAD     0.0  3.511759  4.327199  6.881787   9.870730     0.0  6.972130   \n",
       "3    PRAD     0.0  3.663618  4.507649  6.659068  10.196184     0.0  7.843375   \n",
       "4    BRCA     0.0  2.655741  2.821547  6.539454   9.738265     0.0  6.566967   \n",
       "..    ...     ...       ...       ...       ...        ...     ...       ...   \n",
       "796  BRCA     0.0  1.865642  2.718197  7.350099  10.006003     0.0  6.764792   \n",
       "797  LUAD     0.0  3.942955  4.453807  6.346597  10.056868     0.0  7.320331   \n",
       "798  COAD     0.0  3.249582  3.707492  8.185901   9.504082     0.0  7.536589   \n",
       "799  PRAD     0.0  2.590339  2.787976  7.318624   9.987136     0.0  9.213464   \n",
       "800  PRAD     0.0  2.325242  3.805932  6.530246   9.560367     0.0  7.957027   \n",
       "\n",
       "       gene_7  gene_8  ...  gene_20521  gene_20522  gene_20523  gene_20524  \\\n",
       "0    0.591871     0.0  ...    4.926711    8.210257    9.723516    7.220030   \n",
       "1    0.000000     0.0  ...    4.593372    7.323865    9.740931    6.256586   \n",
       "2    0.452595     0.0  ...    5.125213    8.127123   10.908640    5.401607   \n",
       "3    0.434882     0.0  ...    6.076566    8.792959   10.141520    8.942805   \n",
       "4    0.360982     0.0  ...    5.996032    8.891425   10.373790    7.181162   \n",
       "..        ...     ...  ...         ...         ...         ...         ...   \n",
       "796  0.496922     0.0  ...    6.088133    9.118313   10.004852    4.484415   \n",
       "797  0.000000     0.0  ...    6.371876    9.623335    9.823921    6.555327   \n",
       "798  1.811101     0.0  ...    5.719386    8.610704   10.485517    3.589763   \n",
       "799  0.000000     0.0  ...    5.785237    8.605387   11.004677    4.745888   \n",
       "800  0.000000     0.0  ...    6.403075    8.594354   10.243079    9.139459   \n",
       "\n",
       "     gene_20525  gene_20526  gene_20527  gene_20528  gene_20529  gene_20530  \n",
       "0      9.119813   12.003135    9.650743    8.921326    5.286759    0.000000  \n",
       "1      8.381612   12.674552   10.517059    9.397854    2.094168    0.000000  \n",
       "2      9.911597    9.045255    9.788359   10.090470    1.683023    0.000000  \n",
       "3      9.601208   11.392682    9.694814    9.684365    3.292001    0.000000  \n",
       "4      9.846910   11.922439    9.217749    9.461191    5.110372    0.000000  \n",
       "..          ...         ...         ...         ...         ...         ...  \n",
       "796    9.614701   12.031267    9.813063   10.092770    8.819269    0.000000  \n",
       "797    9.064002   11.633422   10.317266    8.745983    9.659081    0.000000  \n",
       "798    9.350636   12.180944   10.681194    9.466711    4.677458    0.586693  \n",
       "799    9.626383   11.198279   10.335513   10.400581    5.718751    0.000000  \n",
       "800   10.102934   11.641081   10.607358    9.844794    4.550716    0.000000  \n",
       "\n",
       "[801 rows x 20532 columns]"
      ]
     },
     "execution_count": 10,
     "metadata": {},
     "output_type": "execute_result"
    }
   ],
   "source": [
    "non_cat_data = master_data.drop(['Unnamed: 0'], axis=1)\n",
    "non_cat_data"
   ]
  },
  {
   "cell_type": "markdown",
   "id": "8890fa8b",
   "metadata": {
    "papermill": {
     "duration": 0.102776,
     "end_time": "2021-12-10T16:06:23.183537",
     "exception": false,
     "start_time": "2021-12-10T16:06:23.080761",
     "status": "completed"
    },
    "tags": []
   },
   "source": [
    "### Week1:- F Test\n",
    "\n",
    "F-tests are named after its test statistic, F, which was named in honor of Sir Ronald Fisher. The F-statistic is simply a ratio of two variances. Variances are a measure of dispersion, or how far the data are scattered from the mean. Larger values represent greater dispersion.\n",
    "\n",
    "Variance is the square of the standard deviation. For us humans, standard deviations are easier to understand than variances because they’re in the same units as the data rather than squared units. However, many analyses actually use variances in the calculations.\n",
    "\n",
    "F-statistics are based on the ratio of mean squares. The term “mean squares” may sound confusing but it is simply an estimate of population variance that accounts for the degrees of freedom (DF) used to calculate that estimate."
   ]
  },
  {
   "cell_type": "code",
   "execution_count": 11,
   "id": "86ee4b8c",
   "metadata": {
    "execution": {
     "iopub.execute_input": "2021-12-10T16:06:23.403903Z",
     "iopub.status.busy": "2021-12-10T16:06:23.403214Z",
     "iopub.status.idle": "2021-12-10T16:06:23.406203Z",
     "shell.execute_reply": "2021-12-10T16:06:23.405619Z",
     "shell.execute_reply.started": "2021-12-10T15:53:52.964929Z"
    },
    "papermill": {
     "duration": 0.118205,
     "end_time": "2021-12-10T16:06:23.406366",
     "exception": false,
     "start_time": "2021-12-10T16:06:23.288161",
     "status": "completed"
    },
    "tags": []
   },
   "outputs": [],
   "source": [
    "df_f_test=master_data"
   ]
  },
  {
   "cell_type": "code",
   "execution_count": 12,
   "id": "2af1d39c",
   "metadata": {
    "execution": {
     "iopub.execute_input": "2021-12-10T16:06:23.616888Z",
     "iopub.status.busy": "2021-12-10T16:06:23.616149Z",
     "iopub.status.idle": "2021-12-10T16:06:23.619666Z",
     "shell.execute_reply": "2021-12-10T16:06:23.619053Z",
     "shell.execute_reply.started": "2021-12-10T15:53:52.970641Z"
    },
    "papermill": {
     "duration": 0.112132,
     "end_time": "2021-12-10T16:06:23.619820",
     "exception": false,
     "start_time": "2021-12-10T16:06:23.507688",
     "status": "completed"
    },
    "tags": []
   },
   "outputs": [],
   "source": [
    "def f_test(df_f_test,gene):  \n",
    "    df_anova = df_f_test[[gene,'Class']]\n",
    "    grps = pd.unique(df_anova.Class.values)\n",
    "    grps\n",
    "    d_data = {grp:df_anova[gene][df_anova.Class == grp] for grp in grps}\n",
    "    F, p = stats.f_oneway(d_data['LUAD'], d_data['PRAD'], d_data['BRCA'], d_data['KIRC'], d_data['COAD'])\n",
    "    print(\"p_values:-\",p)\n",
    "    if p<0.05:\n",
    "        print(\"reject null hypothesis\")\n",
    "    else:\n",
    "        print(\"accept null hypothesis\")\n",
    "        \n",
    "    return "
   ]
  },
  {
   "cell_type": "code",
   "execution_count": 13,
   "id": "56ce115f",
   "metadata": {
    "execution": {
     "iopub.execute_input": "2021-12-10T16:06:23.825946Z",
     "iopub.status.busy": "2021-12-10T16:06:23.825268Z",
     "iopub.status.idle": "2021-12-10T16:06:23.834938Z",
     "shell.execute_reply": "2021-12-10T16:06:23.835565Z",
     "shell.execute_reply.started": "2021-12-10T15:53:52.984465Z"
    },
    "papermill": {
     "duration": 0.114598,
     "end_time": "2021-12-10T16:06:23.835771",
     "exception": false,
     "start_time": "2021-12-10T16:06:23.721173",
     "status": "completed"
    },
    "tags": []
   },
   "outputs": [
    {
     "name": "stdout",
     "output_type": "stream",
     "text": [
      "p_values:- 5.472971016870503e-77\n",
      "reject null hypothesis\n"
     ]
    }
   ],
   "source": [
    "f_test(df_f_test,\"gene_3\")"
   ]
  },
  {
   "cell_type": "code",
   "execution_count": 14,
   "id": "87f351b8",
   "metadata": {
    "execution": {
     "iopub.execute_input": "2021-12-10T16:06:24.045811Z",
     "iopub.status.busy": "2021-12-10T16:06:24.044797Z",
     "iopub.status.idle": "2021-12-10T16:06:24.048658Z",
     "shell.execute_reply": "2021-12-10T16:06:24.049225Z",
     "shell.execute_reply.started": "2021-12-10T15:53:53.004783Z"
    },
    "papermill": {
     "duration": 0.114012,
     "end_time": "2021-12-10T16:06:24.049407",
     "exception": false,
     "start_time": "2021-12-10T16:06:23.935395",
     "status": "completed"
    },
    "tags": []
   },
   "outputs": [
    {
     "name": "stdout",
     "output_type": "stream",
     "text": [
      "p_values:- 0.000573692937547449\n",
      "reject null hypothesis\n"
     ]
    }
   ],
   "source": [
    "f_test(df_f_test,\"gene_7\")"
   ]
  },
  {
   "cell_type": "code",
   "execution_count": 15,
   "id": "a4725aef",
   "metadata": {
    "execution": {
     "iopub.execute_input": "2021-12-10T16:06:24.258368Z",
     "iopub.status.busy": "2021-12-10T16:06:24.257305Z",
     "iopub.status.idle": "2021-12-10T16:06:24.267285Z",
     "shell.execute_reply": "2021-12-10T16:06:24.267896Z",
     "shell.execute_reply.started": "2021-12-10T15:53:53.021150Z"
    },
    "papermill": {
     "duration": 0.116452,
     "end_time": "2021-12-10T16:06:24.268082",
     "exception": false,
     "start_time": "2021-12-10T16:06:24.151630",
     "status": "completed"
    },
    "tags": []
   },
   "outputs": [
    {
     "name": "stdout",
     "output_type": "stream",
     "text": [
      "p_values:- 9.733071613348129e-129\n",
      "reject null hypothesis\n"
     ]
    }
   ],
   "source": [
    "f_test(df_f_test,\"gene_20524\")"
   ]
  },
  {
   "cell_type": "code",
   "execution_count": 16,
   "id": "0462c044",
   "metadata": {
    "execution": {
     "iopub.execute_input": "2021-12-10T16:06:24.480792Z",
     "iopub.status.busy": "2021-12-10T16:06:24.479961Z",
     "iopub.status.idle": "2021-12-10T16:06:24.492335Z",
     "shell.execute_reply": "2021-12-10T16:06:24.493089Z",
     "shell.execute_reply.started": "2021-12-10T15:53:53.038707Z"
    },
    "papermill": {
     "duration": 0.122989,
     "end_time": "2021-12-10T16:06:24.493281",
     "exception": false,
     "start_time": "2021-12-10T16:06:24.370292",
     "status": "completed"
    },
    "tags": []
   },
   "outputs": [
    {
     "name": "stdout",
     "output_type": "stream",
     "text": [
      "p_values:- nan\n",
      "accept null hypothesis\n"
     ]
    },
    {
     "name": "stderr",
     "output_type": "stream",
     "text": [
      "/opt/conda/lib/python3.7/site-packages/scipy/stats/stats.py:3650: F_onewayConstantInputWarning: Each of the input arrays is constant;the F statistic is not defined or infinite\n",
      "  warnings.warn(F_onewayConstantInputWarning())\n"
     ]
    }
   ],
   "source": [
    "f_test(df_f_test,\"gene_5\")"
   ]
  },
  {
   "cell_type": "code",
   "execution_count": 17,
   "id": "7d57b10e",
   "metadata": {
    "execution": {
     "iopub.execute_input": "2021-12-10T16:06:24.704289Z",
     "iopub.status.busy": "2021-12-10T16:06:24.703511Z",
     "iopub.status.idle": "2021-12-10T16:06:24.712984Z",
     "shell.execute_reply": "2021-12-10T16:06:24.713830Z",
     "shell.execute_reply.started": "2021-12-10T15:53:53.063268Z"
    },
    "papermill": {
     "duration": 0.115887,
     "end_time": "2021-12-10T16:06:24.714082",
     "exception": false,
     "start_time": "2021-12-10T16:06:24.598195",
     "status": "completed"
    },
    "tags": []
   },
   "outputs": [
    {
     "name": "stdout",
     "output_type": "stream",
     "text": [
      "p_values:- nan\n",
      "accept null hypothesis\n"
     ]
    }
   ],
   "source": [
    "f_test(df_f_test,\"gene_5\")"
   ]
  },
  {
   "cell_type": "code",
   "execution_count": 18,
   "id": "6d8e13ad",
   "metadata": {
    "execution": {
     "iopub.execute_input": "2021-12-10T16:06:24.924376Z",
     "iopub.status.busy": "2021-12-10T16:06:24.923727Z",
     "iopub.status.idle": "2021-12-10T16:06:25.014476Z",
     "shell.execute_reply": "2021-12-10T16:06:25.015073Z",
     "shell.execute_reply.started": "2021-12-10T15:53:53.076151Z"
    },
    "papermill": {
     "duration": 0.198523,
     "end_time": "2021-12-10T16:06:25.015267",
     "exception": false,
     "start_time": "2021-12-10T16:06:24.816744",
     "status": "completed"
    },
    "tags": []
   },
   "outputs": [],
   "source": [
    "df_cat_data = master_data\n",
    "df_cat_data['Class'] = df_cat_data['Class'].map({'PRAD': 1, 'LUAD': 2, 'BRCA': 3, 'KIRC': 4, 'COAD': 5}) \n",
    "df_cat_data = df_cat_data.drop(['Unnamed: 0'],axis=1)"
   ]
  },
  {
   "cell_type": "markdown",
   "id": "f1530b94",
   "metadata": {
    "papermill": {
     "duration": 0.102971,
     "end_time": "2021-12-10T16:06:25.222198",
     "exception": false,
     "start_time": "2021-12-10T16:06:25.119227",
     "status": "completed"
    },
    "tags": []
   },
   "source": [
    "### Shapiro test \n",
    "\n",
    "#### The null hypothesis for the Shapiro-Wilk test is that a variable is normally distributed in some population. A different way to say the same is that a variable's values are a simple random sample from a normal distribution. As a rule of thumb, we reject the null hypothesis if p < 0.05"
   ]
  },
  {
   "cell_type": "code",
   "execution_count": 19,
   "id": "0561fda6",
   "metadata": {
    "execution": {
     "iopub.execute_input": "2021-12-10T16:06:25.431513Z",
     "iopub.status.busy": "2021-12-10T16:06:25.430825Z",
     "iopub.status.idle": "2021-12-10T16:06:27.449768Z",
     "shell.execute_reply": "2021-12-10T16:06:27.449083Z",
     "shell.execute_reply.started": "2021-12-10T15:53:53.177674Z"
    },
    "papermill": {
     "duration": 2.124043,
     "end_time": "2021-12-10T16:06:27.449934",
     "exception": false,
     "start_time": "2021-12-10T16:06:25.325891",
     "status": "completed"
    },
    "tags": []
   },
   "outputs": [
    {
     "name": "stdout",
     "output_type": "stream",
     "text": [
      "stat=0.92, p=0.000000000000000000000000000000\n",
      "Not Normal\n"
     ]
    },
    {
     "name": "stderr",
     "output_type": "stream",
     "text": [
      "/opt/conda/lib/python3.7/site-packages/scipy/stats/morestats.py:1760: UserWarning: p-value may not be accurate for N > 5000.\n",
      "  warnings.warn(\"p-value may not be accurate for N > 5000.\")\n"
     ]
    }
   ],
   "source": [
    "from scipy.stats import shapiro\n",
    "stat, p = shapiro(df_cat_data)\n",
    "print('stat=%.2f, p=%.30f' %(stat, p))\n",
    "\n",
    "if p > 0.05:\n",
    "    print('Normal Distribution')\n",
    "else:\n",
    "    print('Not Normal')"
   ]
  },
  {
   "cell_type": "markdown",
   "id": "80e74217",
   "metadata": {
    "papermill": {
     "duration": 0.104758,
     "end_time": "2021-12-10T16:06:27.659967",
     "exception": false,
     "start_time": "2021-12-10T16:06:27.555209",
     "status": "completed"
    },
    "tags": []
   },
   "source": [
    "### k2test - In statistics, D'Agostino's K2 test, named for Ralph D'Agostino, is a goodness-of-fit measure of departure from normality, that is the test aims to establish whether or not the given sample comes from a normally distributed population"
   ]
  },
  {
   "cell_type": "code",
   "execution_count": 20,
   "id": "367f4ce5",
   "metadata": {
    "execution": {
     "iopub.execute_input": "2021-12-10T16:06:27.872892Z",
     "iopub.status.busy": "2021-12-10T16:06:27.872095Z",
     "iopub.status.idle": "2021-12-10T16:06:27.884945Z",
     "shell.execute_reply": "2021-12-10T16:06:27.885719Z",
     "shell.execute_reply.started": "2021-12-10T15:53:55.328002Z"
    },
    "papermill": {
     "duration": 0.121564,
     "end_time": "2021-12-10T16:06:27.886002",
     "exception": false,
     "start_time": "2021-12-10T16:06:27.764438",
     "status": "completed"
    },
    "tags": []
   },
   "outputs": [
    {
     "name": "stdout",
     "output_type": "stream",
     "text": [
      "stat=48.54, p=0.000000000028833417148493984116\n",
      "Not Normal\n"
     ]
    }
   ],
   "source": [
    "#K2 normality test \n",
    "from scipy.stats import normaltest\n",
    "k2_test = df_cat_data['Class']\n",
    "\n",
    "stat, p = normaltest(k2_test)\n",
    "print('stat=%.2f, p=%.30f' %(stat, p))\n",
    "\n",
    "if p > 0.05:\n",
    "    print('Normal Distribution')\n",
    "else:\n",
    "    print('Not Normal')\n"
   ]
  },
  {
   "cell_type": "markdown",
   "id": "09bdf47b",
   "metadata": {
    "papermill": {
     "duration": 0.104392,
     "end_time": "2021-12-10T16:06:28.097098",
     "exception": false,
     "start_time": "2021-12-10T16:06:27.992706",
     "status": "completed"
    },
    "tags": []
   },
   "source": [
    "## Week 2:- Dimensionality Reduction\n",
    "\n",
    "#### Project Task: Week 2: \n",
    "\n",
    "Dimensionality Reduction:\n",
    "\n",
    "Each sample has expression values for around 20K genes. However, it may not be necessary to include all 20K genes expression values to analyze each cancer type. Therefore, we will identify a smaller set of attributes which will then be used to fit multiclass classification models. So, the first task targets the dimensionality reduction using various techniques such as,\n",
    "PCA, LDA, and t-SNE.\n",
    "Input: Complete dataset including all genes (20531)\n",
    "Output: Selected Genes from each dimensionality reduction method\n",
    " "
   ]
  },
  {
   "cell_type": "markdown",
   "id": "c7934302",
   "metadata": {
    "papermill": {
     "duration": 0.103745,
     "end_time": "2021-12-10T16:06:28.306367",
     "exception": false,
     "start_time": "2021-12-10T16:06:28.202622",
     "status": "completed"
    },
    "tags": []
   },
   "source": [
    "### Dimensionality Reduction using PCA "
   ]
  },
  {
   "cell_type": "code",
   "execution_count": 21,
   "id": "a50149fc",
   "metadata": {
    "execution": {
     "iopub.execute_input": "2021-12-10T16:06:28.547167Z",
     "iopub.status.busy": "2021-12-10T16:06:28.545991Z",
     "iopub.status.idle": "2021-12-10T16:06:28.688930Z",
     "shell.execute_reply": "2021-12-10T16:06:28.689436Z",
     "shell.execute_reply.started": "2021-12-10T15:53:55.342285Z"
    },
    "papermill": {
     "duration": 0.276699,
     "end_time": "2021-12-10T16:06:28.689660",
     "exception": false,
     "start_time": "2021-12-10T16:06:28.412961",
     "status": "completed"
    },
    "tags": []
   },
   "outputs": [
    {
     "data": {
      "text/html": [
       "<div>\n",
       "<style scoped>\n",
       "    .dataframe tbody tr th:only-of-type {\n",
       "        vertical-align: middle;\n",
       "    }\n",
       "\n",
       "    .dataframe tbody tr th {\n",
       "        vertical-align: top;\n",
       "    }\n",
       "\n",
       "    .dataframe thead th {\n",
       "        text-align: right;\n",
       "    }\n",
       "</style>\n",
       "<table border=\"1\" class=\"dataframe\">\n",
       "  <thead>\n",
       "    <tr style=\"text-align: right;\">\n",
       "      <th></th>\n",
       "      <th>gene_0</th>\n",
       "      <th>gene_1</th>\n",
       "      <th>gene_2</th>\n",
       "      <th>gene_3</th>\n",
       "      <th>gene_4</th>\n",
       "      <th>gene_5</th>\n",
       "      <th>gene_6</th>\n",
       "      <th>gene_7</th>\n",
       "      <th>gene_8</th>\n",
       "      <th>gene_9</th>\n",
       "      <th>...</th>\n",
       "      <th>gene_20521</th>\n",
       "      <th>gene_20522</th>\n",
       "      <th>gene_20523</th>\n",
       "      <th>gene_20524</th>\n",
       "      <th>gene_20525</th>\n",
       "      <th>gene_20526</th>\n",
       "      <th>gene_20527</th>\n",
       "      <th>gene_20528</th>\n",
       "      <th>gene_20529</th>\n",
       "      <th>gene_20530</th>\n",
       "    </tr>\n",
       "  </thead>\n",
       "  <tbody>\n",
       "    <tr>\n",
       "      <th>0</th>\n",
       "      <td>0.0</td>\n",
       "      <td>2.017209</td>\n",
       "      <td>3.265527</td>\n",
       "      <td>5.478487</td>\n",
       "      <td>10.431999</td>\n",
       "      <td>0.0</td>\n",
       "      <td>7.175175</td>\n",
       "      <td>0.591871</td>\n",
       "      <td>0.0</td>\n",
       "      <td>0.0</td>\n",
       "      <td>...</td>\n",
       "      <td>4.926711</td>\n",
       "      <td>8.210257</td>\n",
       "      <td>9.723516</td>\n",
       "      <td>7.220030</td>\n",
       "      <td>9.119813</td>\n",
       "      <td>12.003135</td>\n",
       "      <td>9.650743</td>\n",
       "      <td>8.921326</td>\n",
       "      <td>5.286759</td>\n",
       "      <td>0.0</td>\n",
       "    </tr>\n",
       "    <tr>\n",
       "      <th>1</th>\n",
       "      <td>0.0</td>\n",
       "      <td>0.592732</td>\n",
       "      <td>1.588421</td>\n",
       "      <td>7.586157</td>\n",
       "      <td>9.623011</td>\n",
       "      <td>0.0</td>\n",
       "      <td>6.816049</td>\n",
       "      <td>0.000000</td>\n",
       "      <td>0.0</td>\n",
       "      <td>0.0</td>\n",
       "      <td>...</td>\n",
       "      <td>4.593372</td>\n",
       "      <td>7.323865</td>\n",
       "      <td>9.740931</td>\n",
       "      <td>6.256586</td>\n",
       "      <td>8.381612</td>\n",
       "      <td>12.674552</td>\n",
       "      <td>10.517059</td>\n",
       "      <td>9.397854</td>\n",
       "      <td>2.094168</td>\n",
       "      <td>0.0</td>\n",
       "    </tr>\n",
       "    <tr>\n",
       "      <th>2</th>\n",
       "      <td>0.0</td>\n",
       "      <td>3.511759</td>\n",
       "      <td>4.327199</td>\n",
       "      <td>6.881787</td>\n",
       "      <td>9.870730</td>\n",
       "      <td>0.0</td>\n",
       "      <td>6.972130</td>\n",
       "      <td>0.452595</td>\n",
       "      <td>0.0</td>\n",
       "      <td>0.0</td>\n",
       "      <td>...</td>\n",
       "      <td>5.125213</td>\n",
       "      <td>8.127123</td>\n",
       "      <td>10.908640</td>\n",
       "      <td>5.401607</td>\n",
       "      <td>9.911597</td>\n",
       "      <td>9.045255</td>\n",
       "      <td>9.788359</td>\n",
       "      <td>10.090470</td>\n",
       "      <td>1.683023</td>\n",
       "      <td>0.0</td>\n",
       "    </tr>\n",
       "    <tr>\n",
       "      <th>3</th>\n",
       "      <td>0.0</td>\n",
       "      <td>3.663618</td>\n",
       "      <td>4.507649</td>\n",
       "      <td>6.659068</td>\n",
       "      <td>10.196184</td>\n",
       "      <td>0.0</td>\n",
       "      <td>7.843375</td>\n",
       "      <td>0.434882</td>\n",
       "      <td>0.0</td>\n",
       "      <td>0.0</td>\n",
       "      <td>...</td>\n",
       "      <td>6.076566</td>\n",
       "      <td>8.792959</td>\n",
       "      <td>10.141520</td>\n",
       "      <td>8.942805</td>\n",
       "      <td>9.601208</td>\n",
       "      <td>11.392682</td>\n",
       "      <td>9.694814</td>\n",
       "      <td>9.684365</td>\n",
       "      <td>3.292001</td>\n",
       "      <td>0.0</td>\n",
       "    </tr>\n",
       "    <tr>\n",
       "      <th>4</th>\n",
       "      <td>0.0</td>\n",
       "      <td>2.655741</td>\n",
       "      <td>2.821547</td>\n",
       "      <td>6.539454</td>\n",
       "      <td>9.738265</td>\n",
       "      <td>0.0</td>\n",
       "      <td>6.566967</td>\n",
       "      <td>0.360982</td>\n",
       "      <td>0.0</td>\n",
       "      <td>0.0</td>\n",
       "      <td>...</td>\n",
       "      <td>5.996032</td>\n",
       "      <td>8.891425</td>\n",
       "      <td>10.373790</td>\n",
       "      <td>7.181162</td>\n",
       "      <td>9.846910</td>\n",
       "      <td>11.922439</td>\n",
       "      <td>9.217749</td>\n",
       "      <td>9.461191</td>\n",
       "      <td>5.110372</td>\n",
       "      <td>0.0</td>\n",
       "    </tr>\n",
       "  </tbody>\n",
       "</table>\n",
       "<p>5 rows × 20531 columns</p>\n",
       "</div>"
      ],
      "text/plain": [
       "   gene_0    gene_1    gene_2    gene_3     gene_4  gene_5    gene_6  \\\n",
       "0     0.0  2.017209  3.265527  5.478487  10.431999     0.0  7.175175   \n",
       "1     0.0  0.592732  1.588421  7.586157   9.623011     0.0  6.816049   \n",
       "2     0.0  3.511759  4.327199  6.881787   9.870730     0.0  6.972130   \n",
       "3     0.0  3.663618  4.507649  6.659068  10.196184     0.0  7.843375   \n",
       "4     0.0  2.655741  2.821547  6.539454   9.738265     0.0  6.566967   \n",
       "\n",
       "     gene_7  gene_8  gene_9  ...  gene_20521  gene_20522  gene_20523  \\\n",
       "0  0.591871     0.0     0.0  ...    4.926711    8.210257    9.723516   \n",
       "1  0.000000     0.0     0.0  ...    4.593372    7.323865    9.740931   \n",
       "2  0.452595     0.0     0.0  ...    5.125213    8.127123   10.908640   \n",
       "3  0.434882     0.0     0.0  ...    6.076566    8.792959   10.141520   \n",
       "4  0.360982     0.0     0.0  ...    5.996032    8.891425   10.373790   \n",
       "\n",
       "   gene_20524  gene_20525  gene_20526  gene_20527  gene_20528  gene_20529  \\\n",
       "0    7.220030    9.119813   12.003135    9.650743    8.921326    5.286759   \n",
       "1    6.256586    8.381612   12.674552   10.517059    9.397854    2.094168   \n",
       "2    5.401607    9.911597    9.045255    9.788359   10.090470    1.683023   \n",
       "3    8.942805    9.601208   11.392682    9.694814    9.684365    3.292001   \n",
       "4    7.181162    9.846910   11.922439    9.217749    9.461191    5.110372   \n",
       "\n",
       "   gene_20530  \n",
       "0         0.0  \n",
       "1         0.0  \n",
       "2         0.0  \n",
       "3         0.0  \n",
       "4         0.0  \n",
       "\n",
       "[5 rows x 20531 columns]"
      ]
     },
     "execution_count": 21,
     "metadata": {},
     "output_type": "execute_result"
    }
   ],
   "source": [
    "# Define data \n",
    "df_pca = master_data.drop(['Unnamed: 0'], axis=1)\n",
    "df_pca = df_pca.drop(['Class'], axis=1)\n",
    "df_pca.head()"
   ]
  },
  {
   "cell_type": "code",
   "execution_count": 22,
   "id": "5bc1c45d",
   "metadata": {
    "execution": {
     "iopub.execute_input": "2021-12-10T16:06:28.918895Z",
     "iopub.status.busy": "2021-12-10T16:06:28.917859Z",
     "iopub.status.idle": "2021-12-10T16:06:28.923792Z",
     "shell.execute_reply": "2021-12-10T16:06:28.924425Z",
     "shell.execute_reply.started": "2021-12-10T15:53:55.481833Z"
    },
    "papermill": {
     "duration": 0.11631,
     "end_time": "2021-12-10T16:06:28.924623",
     "exception": false,
     "start_time": "2021-12-10T16:06:28.808313",
     "status": "completed"
    },
    "tags": []
   },
   "outputs": [
    {
     "data": {
      "text/plain": [
       "(801, 20531)"
      ]
     },
     "execution_count": 22,
     "metadata": {},
     "output_type": "execute_result"
    }
   ],
   "source": [
    "df_pca.values.shape"
   ]
  },
  {
   "cell_type": "code",
   "execution_count": 23,
   "id": "67e9c1dd",
   "metadata": {
    "execution": {
     "iopub.execute_input": "2021-12-10T16:06:29.143089Z",
     "iopub.status.busy": "2021-12-10T16:06:29.142031Z",
     "iopub.status.idle": "2021-12-10T16:06:29.146228Z",
     "shell.execute_reply": "2021-12-10T16:06:29.146865Z",
     "shell.execute_reply.started": "2021-12-10T15:53:55.489461Z"
    },
    "papermill": {
     "duration": 0.116523,
     "end_time": "2021-12-10T16:06:29.147049",
     "exception": false,
     "start_time": "2021-12-10T16:06:29.030526",
     "status": "completed"
    },
    "tags": []
   },
   "outputs": [],
   "source": [
    "x_pca = df_pca.values"
   ]
  },
  {
   "cell_type": "markdown",
   "id": "0099b3a5",
   "metadata": {
    "papermill": {
     "duration": 0.108304,
     "end_time": "2021-12-10T16:06:29.364824",
     "exception": false,
     "start_time": "2021-12-10T16:06:29.256520",
     "status": "completed"
    },
    "tags": []
   },
   "source": [
    "### Week2:- Scaling the data using standard scaler method"
   ]
  },
  {
   "cell_type": "code",
   "execution_count": 24,
   "id": "1abe8e73",
   "metadata": {
    "execution": {
     "iopub.execute_input": "2021-12-10T16:06:29.580943Z",
     "iopub.status.busy": "2021-12-10T16:06:29.580161Z",
     "iopub.status.idle": "2021-12-10T16:06:30.014375Z",
     "shell.execute_reply": "2021-12-10T16:06:30.015064Z",
     "shell.execute_reply.started": "2021-12-10T15:53:55.502246Z"
    },
    "papermill": {
     "duration": 0.544876,
     "end_time": "2021-12-10T16:06:30.015272",
     "exception": false,
     "start_time": "2021-12-10T16:06:29.470396",
     "status": "completed"
    },
    "tags": []
   },
   "outputs": [
    {
     "data": {
      "text/plain": [
       "array([[-0.19479935, -0.82802988,  0.15980044, ..., -1.18793812,\n",
       "        -0.11648251, -0.26190144],\n",
       "       [-0.19479935, -2.01501735, -1.415042  , ..., -0.34227662,\n",
       "        -1.65688871, -0.26190144],\n",
       "       [-0.19479935,  0.41734754,  1.15673547, ...,  0.88686027,\n",
       "        -1.85526414, -0.26190144],\n",
       "       ...,\n",
       "       [-0.19479935,  0.19888076,  0.57481583, ..., -0.22008186,\n",
       "        -0.41046699,  1.3485582 ],\n",
       "       [-0.19479935, -0.35045311, -0.28863152, ...,  1.43719268,\n",
       "         0.09195083, -0.26190144],\n",
       "       [-0.19479935, -0.57135218,  0.66725377, ...,  0.45087581,\n",
       "        -0.47161901, -0.26190144]])"
      ]
     },
     "execution_count": 24,
     "metadata": {},
     "output_type": "execute_result"
    }
   ],
   "source": [
    "from sklearn.preprocessing import StandardScaler\n",
    "scaler = StandardScaler()\n",
    "X_Scaled = scaler.fit_transform(x_pca)\n",
    "X_Scaled"
   ]
  },
  {
   "cell_type": "markdown",
   "id": "13170e7e",
   "metadata": {
    "papermill": {
     "duration": 0.105342,
     "end_time": "2021-12-10T16:06:30.226854",
     "exception": false,
     "start_time": "2021-12-10T16:06:30.121512",
     "status": "completed"
    },
    "tags": []
   },
   "source": [
    "### Week2:- Perform PCA with n_components=2\n",
    "\n",
    "#### Principal Component Analysis, or PCA, is a dimensionality-reduction method that is often used to reduce the dimensionality of large data sets, by transforming a large set of variables into a smaller one that still contains most of the information in the large set.\n",
    "\n",
    "#### Reducing the number of variables of a data set naturally comes at the expense of accuracy, but the trick in dimensionality reduction is to trade a little accuracy for simplicity. Because smaller data sets are easier to explore and visualize and make analyzing data much easier and faster for machine learning algorithms without extraneous variables to process.\n",
    "\n",
    "#### So to sum up, the idea of PCA is simple — reduce the number of variables of a data set, while preserving as much information as possible.\n"
   ]
  },
  {
   "cell_type": "code",
   "execution_count": 25,
   "id": "49d20221",
   "metadata": {
    "execution": {
     "iopub.execute_input": "2021-12-10T16:06:30.442668Z",
     "iopub.status.busy": "2021-12-10T16:06:30.441982Z",
     "iopub.status.idle": "2021-12-10T16:06:30.445369Z",
     "shell.execute_reply": "2021-12-10T16:06:30.445977Z",
     "shell.execute_reply.started": "2021-12-10T15:53:55.914336Z"
    },
    "papermill": {
     "duration": 0.112815,
     "end_time": "2021-12-10T16:06:30.446150",
     "exception": false,
     "start_time": "2021-12-10T16:06:30.333335",
     "status": "completed"
    },
    "tags": []
   },
   "outputs": [],
   "source": [
    "# Import PCA from sklearn and define the n_components as 2 \n",
    "from sklearn.decomposition import PCA\n",
    "pca_with_2=PCA(n_components=2)"
   ]
  },
  {
   "cell_type": "code",
   "execution_count": 26,
   "id": "60beb41a",
   "metadata": {
    "execution": {
     "iopub.execute_input": "2021-12-10T16:06:30.659892Z",
     "iopub.status.busy": "2021-12-10T16:06:30.659199Z",
     "iopub.status.idle": "2021-12-10T16:06:31.796744Z",
     "shell.execute_reply": "2021-12-10T16:06:31.796143Z",
     "shell.execute_reply.started": "2021-12-10T15:53:55.923868Z"
    },
    "papermill": {
     "duration": 1.244728,
     "end_time": "2021-12-10T16:06:31.796903",
     "exception": false,
     "start_time": "2021-12-10T16:06:30.552175",
     "status": "completed"
    },
    "tags": []
   },
   "outputs": [
    {
     "data": {
      "text/plain": [
       "(801, 2)"
      ]
     },
     "execution_count": 26,
     "metadata": {},
     "output_type": "execute_result"
    }
   ],
   "source": [
    "#Perform fit transform on the scaled data\n",
    "X_pca_with_2 = pca_with_2.fit_transform(X_Scaled)\n",
    "X_pca_with_2.shape"
   ]
  },
  {
   "cell_type": "code",
   "execution_count": 27,
   "id": "ad4f3cf0",
   "metadata": {
    "execution": {
     "iopub.execute_input": "2021-12-10T16:06:32.014336Z",
     "iopub.status.busy": "2021-12-10T16:06:32.011575Z",
     "iopub.status.idle": "2021-12-10T16:06:32.017397Z",
     "shell.execute_reply": "2021-12-10T16:06:32.018053Z",
     "shell.execute_reply.started": "2021-12-10T15:53:57.008320Z"
    },
    "papermill": {
     "duration": 0.115224,
     "end_time": "2021-12-10T16:06:32.018242",
     "exception": false,
     "start_time": "2021-12-10T16:06:31.903018",
     "status": "completed"
    },
    "scrolled": true,
    "tags": []
   },
   "outputs": [
    {
     "data": {
      "text/plain": [
       "array([[-57.44698679,  95.41098092],\n",
       "       [-16.91943037,   0.73247002],\n",
       "       [-70.34521797, -19.3033266 ],\n",
       "       ...,\n",
       "       [ -4.13308814,  15.69001577],\n",
       "       [-30.81475771,  33.52642215],\n",
       "       [-22.34455711,   4.05235581]])"
      ]
     },
     "execution_count": 27,
     "metadata": {},
     "output_type": "execute_result"
    }
   ],
   "source": [
    "X_pca_with_2"
   ]
  },
  {
   "cell_type": "code",
   "execution_count": 28,
   "id": "d2bd58dc",
   "metadata": {
    "execution": {
     "iopub.execute_input": "2021-12-10T16:06:32.234587Z",
     "iopub.status.busy": "2021-12-10T16:06:32.233704Z",
     "iopub.status.idle": "2021-12-10T16:06:32.248627Z",
     "shell.execute_reply": "2021-12-10T16:06:32.249223Z",
     "shell.execute_reply.started": "2021-12-10T15:53:57.023646Z"
    },
    "papermill": {
     "duration": 0.124966,
     "end_time": "2021-12-10T16:06:32.249408",
     "exception": false,
     "start_time": "2021-12-10T16:06:32.124442",
     "status": "completed"
    },
    "tags": []
   },
   "outputs": [
    {
     "data": {
      "text/html": [
       "<div>\n",
       "<style scoped>\n",
       "    .dataframe tbody tr th:only-of-type {\n",
       "        vertical-align: middle;\n",
       "    }\n",
       "\n",
       "    .dataframe tbody tr th {\n",
       "        vertical-align: top;\n",
       "    }\n",
       "\n",
       "    .dataframe thead th {\n",
       "        text-align: right;\n",
       "    }\n",
       "</style>\n",
       "<table border=\"1\" class=\"dataframe\">\n",
       "  <thead>\n",
       "    <tr style=\"text-align: right;\">\n",
       "      <th></th>\n",
       "      <th>pca1</th>\n",
       "      <th>pca2</th>\n",
       "      <th>cancer_type</th>\n",
       "    </tr>\n",
       "  </thead>\n",
       "  <tbody>\n",
       "    <tr>\n",
       "      <th>0</th>\n",
       "      <td>-57.446987</td>\n",
       "      <td>95.410981</td>\n",
       "      <td>1</td>\n",
       "    </tr>\n",
       "    <tr>\n",
       "      <th>1</th>\n",
       "      <td>-16.919430</td>\n",
       "      <td>0.732470</td>\n",
       "      <td>2</td>\n",
       "    </tr>\n",
       "    <tr>\n",
       "      <th>2</th>\n",
       "      <td>-70.345218</td>\n",
       "      <td>-19.303327</td>\n",
       "      <td>1</td>\n",
       "    </tr>\n",
       "    <tr>\n",
       "      <th>3</th>\n",
       "      <td>-49.161592</td>\n",
       "      <td>-9.227587</td>\n",
       "      <td>1</td>\n",
       "    </tr>\n",
       "    <tr>\n",
       "      <th>4</th>\n",
       "      <td>-18.132534</td>\n",
       "      <td>-51.327797</td>\n",
       "      <td>3</td>\n",
       "    </tr>\n",
       "    <tr>\n",
       "      <th>...</th>\n",
       "      <td>...</td>\n",
       "      <td>...</td>\n",
       "      <td>...</td>\n",
       "    </tr>\n",
       "    <tr>\n",
       "      <th>796</th>\n",
       "      <td>-12.417385</td>\n",
       "      <td>-42.321573</td>\n",
       "      <td>3</td>\n",
       "    </tr>\n",
       "    <tr>\n",
       "      <th>797</th>\n",
       "      <td>-29.415553</td>\n",
       "      <td>28.526282</td>\n",
       "      <td>2</td>\n",
       "    </tr>\n",
       "    <tr>\n",
       "      <th>798</th>\n",
       "      <td>-4.133088</td>\n",
       "      <td>15.690016</td>\n",
       "      <td>5</td>\n",
       "    </tr>\n",
       "    <tr>\n",
       "      <th>799</th>\n",
       "      <td>-30.814758</td>\n",
       "      <td>33.526422</td>\n",
       "      <td>1</td>\n",
       "    </tr>\n",
       "    <tr>\n",
       "      <th>800</th>\n",
       "      <td>-22.344557</td>\n",
       "      <td>4.052356</td>\n",
       "      <td>1</td>\n",
       "    </tr>\n",
       "  </tbody>\n",
       "</table>\n",
       "<p>801 rows × 3 columns</p>\n",
       "</div>"
      ],
      "text/plain": [
       "          pca1       pca2  cancer_type\n",
       "0   -57.446987  95.410981            1\n",
       "1   -16.919430   0.732470            2\n",
       "2   -70.345218 -19.303327            1\n",
       "3   -49.161592  -9.227587            1\n",
       "4   -18.132534 -51.327797            3\n",
       "..         ...        ...          ...\n",
       "796 -12.417385 -42.321573            3\n",
       "797 -29.415553  28.526282            2\n",
       "798  -4.133088  15.690016            5\n",
       "799 -30.814758  33.526422            1\n",
       "800 -22.344557   4.052356            1\n",
       "\n",
       "[801 rows x 3 columns]"
      ]
     },
     "execution_count": 28,
     "metadata": {},
     "output_type": "execute_result"
    }
   ],
   "source": [
    "# Put the data back on the 2 columns defined \n",
    "df_pca = pd.DataFrame(X_pca_with_2)\n",
    "df_pca.columns = ['pca1','pca2']\n",
    "\n",
    "# Add the convereted categorical data for \n",
    "df_pca['cancer_type']=df_cat_data['Class']\n",
    "df_pca"
   ]
  },
  {
   "cell_type": "code",
   "execution_count": 29,
   "id": "05ed6e8b",
   "metadata": {
    "execution": {
     "iopub.execute_input": "2021-12-10T16:06:32.491810Z",
     "iopub.status.busy": "2021-12-10T16:06:32.491064Z",
     "iopub.status.idle": "2021-12-10T16:06:32.996719Z",
     "shell.execute_reply": "2021-12-10T16:06:32.997258Z",
     "shell.execute_reply.started": "2021-12-10T15:53:57.046646Z"
    },
    "papermill": {
     "duration": 0.621731,
     "end_time": "2021-12-10T16:06:32.997438",
     "exception": false,
     "start_time": "2021-12-10T16:06:32.375707",
     "status": "completed"
    },
    "tags": []
   },
   "outputs": [
    {
     "data": {
      "text/plain": [
       "<AxesSubplot:xlabel='pca1', ylabel='pca2'>"
      ]
     },
     "execution_count": 29,
     "metadata": {},
     "output_type": "execute_result"
    },
    {
     "data": {
      "image/png": "[encoded data removed]",
      "text/plain": [
       "<Figure size 432x288 with 1 Axes>"
      ]
     },
     "metadata": {
      "needs_background": "light"
     },
     "output_type": "display_data"
    }
   ],
   "source": [
    "# Present the data on the 5 clusters using seaborn maps \n",
    "sns.scatterplot(x='pca1',y='pca2', hue = 'cancer_type',data=df_pca)"
   ]
  },
  {
   "cell_type": "markdown",
   "id": "bddfb107",
   "metadata": {
    "papermill": {
     "duration": 0.108806,
     "end_time": "2021-12-10T16:06:33.213624",
     "exception": false,
     "start_time": "2021-12-10T16:06:33.104818",
     "status": "completed"
    },
    "tags": []
   },
   "source": [
    "### Week2:- PCA with n_components=.995"
   ]
  },
  {
   "cell_type": "code",
   "execution_count": 30,
   "id": "b246e605",
   "metadata": {
    "execution": {
     "iopub.execute_input": "2021-12-10T16:06:33.442943Z",
     "iopub.status.busy": "2021-12-10T16:06:33.442202Z",
     "iopub.status.idle": "2021-12-10T16:06:37.933200Z",
     "shell.execute_reply": "2021-12-10T16:06:37.934342Z",
     "shell.execute_reply.started": "2021-12-10T15:53:57.556569Z"
    },
    "papermill": {
     "duration": 4.609114,
     "end_time": "2021-12-10T16:06:37.934680",
     "exception": false,
     "start_time": "2021-12-10T16:06:33.325566",
     "status": "completed"
    },
    "tags": []
   },
   "outputs": [
    {
     "data": {
      "text/plain": [
       "array([[-6.27554152e+01, -9.40719735e+01,  8.95198311e+01, ...,\n",
       "         3.09258084e+00,  7.13597730e-01, -8.21221710e-02],\n",
       "       [-2.43289636e+00,  9.05858418e+01, -1.06730787e+00, ...,\n",
       "         1.39674724e-02, -3.95175744e-01, -9.49947250e-01],\n",
       "       [-7.12668528e+01, -8.06460774e+00,  6.61124549e+01, ...,\n",
       "         1.28898532e-01, -2.64530262e-01,  3.84594189e-01],\n",
       "       ...,\n",
       "       [ 1.04862615e+01,  2.15705946e+01,  4.13458784e+01, ...,\n",
       "        -6.47882986e-01, -2.07256774e-01,  1.38942922e-01],\n",
       "       [-5.50636049e+01, -9.23947780e+01,  8.00500394e+01, ...,\n",
       "         1.74673062e+00,  2.02232239e+00, -1.92708948e+00],\n",
       "       [-4.91030338e+01, -5.09976391e+01,  4.05037544e+01, ...,\n",
       "         1.80367340e+00,  2.22994027e+00, -8.07255452e-01]])"
      ]
     },
     "execution_count": 30,
     "metadata": {},
     "output_type": "execute_result"
    }
   ],
   "source": [
    "pca_with_995=PCA(.995)\n",
    "X_pca_with_995 = pca_with_995.fit_transform(x_pca)\n",
    "X_pca_with_995.shape\n",
    "X_pca_with_995"
   ]
  },
  {
   "cell_type": "code",
   "execution_count": 31,
   "id": "6deb919e",
   "metadata": {
    "execution": {
     "iopub.execute_input": "2021-12-10T16:06:38.193300Z",
     "iopub.status.busy": "2021-12-10T16:06:38.192600Z",
     "iopub.status.idle": "2021-12-10T16:06:38.226409Z",
     "shell.execute_reply": "2021-12-10T16:06:38.226989Z",
     "shell.execute_reply.started": "2021-12-10T15:54:01.858390Z"
    },
    "papermill": {
     "duration": 0.149756,
     "end_time": "2021-12-10T16:06:38.227176",
     "exception": false,
     "start_time": "2021-12-10T16:06:38.077420",
     "status": "completed"
    },
    "tags": []
   },
   "outputs": [
    {
     "data": {
      "text/html": [
       "<div>\n",
       "<style scoped>\n",
       "    .dataframe tbody tr th:only-of-type {\n",
       "        vertical-align: middle;\n",
       "    }\n",
       "\n",
       "    .dataframe tbody tr th {\n",
       "        vertical-align: top;\n",
       "    }\n",
       "\n",
       "    .dataframe thead th {\n",
       "        text-align: right;\n",
       "    }\n",
       "</style>\n",
       "<table border=\"1\" class=\"dataframe\">\n",
       "  <thead>\n",
       "    <tr style=\"text-align: right;\">\n",
       "      <th></th>\n",
       "      <th>0</th>\n",
       "      <th>1</th>\n",
       "      <th>2</th>\n",
       "      <th>3</th>\n",
       "      <th>4</th>\n",
       "      <th>5</th>\n",
       "      <th>6</th>\n",
       "      <th>7</th>\n",
       "      <th>8</th>\n",
       "      <th>9</th>\n",
       "      <th>...</th>\n",
       "      <th>738</th>\n",
       "      <th>739</th>\n",
       "      <th>740</th>\n",
       "      <th>741</th>\n",
       "      <th>742</th>\n",
       "      <th>743</th>\n",
       "      <th>744</th>\n",
       "      <th>745</th>\n",
       "      <th>746</th>\n",
       "      <th>cancer_type</th>\n",
       "    </tr>\n",
       "  </thead>\n",
       "  <tbody>\n",
       "    <tr>\n",
       "      <th>0</th>\n",
       "      <td>-62.755415</td>\n",
       "      <td>-94.071973</td>\n",
       "      <td>89.519831</td>\n",
       "      <td>-15.942567</td>\n",
       "      <td>81.423539</td>\n",
       "      <td>-13.998292</td>\n",
       "      <td>7.716073</td>\n",
       "      <td>-22.936551</td>\n",
       "      <td>-32.837892</td>\n",
       "      <td>-2.202680</td>\n",
       "      <td>...</td>\n",
       "      <td>-4.081064</td>\n",
       "      <td>-0.626193</td>\n",
       "      <td>-1.265756</td>\n",
       "      <td>-0.017984</td>\n",
       "      <td>-2.740860</td>\n",
       "      <td>0.944037</td>\n",
       "      <td>3.092581</td>\n",
       "      <td>0.713598</td>\n",
       "      <td>-0.082122</td>\n",
       "      <td>1</td>\n",
       "    </tr>\n",
       "    <tr>\n",
       "      <th>1</th>\n",
       "      <td>-2.432896</td>\n",
       "      <td>90.585842</td>\n",
       "      <td>-1.067308</td>\n",
       "      <td>-53.083120</td>\n",
       "      <td>-15.676684</td>\n",
       "      <td>60.842472</td>\n",
       "      <td>10.257369</td>\n",
       "      <td>-48.822959</td>\n",
       "      <td>14.257400</td>\n",
       "      <td>-12.214352</td>\n",
       "      <td>...</td>\n",
       "      <td>0.215619</td>\n",
       "      <td>-0.593678</td>\n",
       "      <td>-0.403462</td>\n",
       "      <td>1.181537</td>\n",
       "      <td>0.490910</td>\n",
       "      <td>0.197768</td>\n",
       "      <td>0.013967</td>\n",
       "      <td>-0.395176</td>\n",
       "      <td>-0.949947</td>\n",
       "      <td>2</td>\n",
       "    </tr>\n",
       "    <tr>\n",
       "      <th>2</th>\n",
       "      <td>-71.266853</td>\n",
       "      <td>-8.064608</td>\n",
       "      <td>66.112455</td>\n",
       "      <td>81.381475</td>\n",
       "      <td>-7.525685</td>\n",
       "      <td>109.824273</td>\n",
       "      <td>5.519407</td>\n",
       "      <td>-13.364480</td>\n",
       "      <td>38.415728</td>\n",
       "      <td>-5.124731</td>\n",
       "      <td>...</td>\n",
       "      <td>0.263786</td>\n",
       "      <td>0.328453</td>\n",
       "      <td>0.004078</td>\n",
       "      <td>0.363928</td>\n",
       "      <td>-1.109210</td>\n",
       "      <td>0.331488</td>\n",
       "      <td>0.128899</td>\n",
       "      <td>-0.264530</td>\n",
       "      <td>0.384594</td>\n",
       "      <td>1</td>\n",
       "    </tr>\n",
       "    <tr>\n",
       "      <th>3</th>\n",
       "      <td>-84.770785</td>\n",
       "      <td>-73.244566</td>\n",
       "      <td>74.181000</td>\n",
       "      <td>27.022697</td>\n",
       "      <td>-18.044895</td>\n",
       "      <td>50.116433</td>\n",
       "      <td>-3.495197</td>\n",
       "      <td>-11.318520</td>\n",
       "      <td>8.319656</td>\n",
       "      <td>-3.149509</td>\n",
       "      <td>...</td>\n",
       "      <td>0.381578</td>\n",
       "      <td>0.652455</td>\n",
       "      <td>-3.624900</td>\n",
       "      <td>-1.203028</td>\n",
       "      <td>-2.347912</td>\n",
       "      <td>1.577992</td>\n",
       "      <td>-0.781748</td>\n",
       "      <td>0.120442</td>\n",
       "      <td>-0.057973</td>\n",
       "      <td>1</td>\n",
       "    </tr>\n",
       "    <tr>\n",
       "      <th>4</th>\n",
       "      <td>-69.560171</td>\n",
       "      <td>-9.612940</td>\n",
       "      <td>-67.497549</td>\n",
       "      <td>34.868543</td>\n",
       "      <td>-1.795849</td>\n",
       "      <td>-6.676780</td>\n",
       "      <td>-2.840781</td>\n",
       "      <td>16.780157</td>\n",
       "      <td>-49.319753</td>\n",
       "      <td>10.508631</td>\n",
       "      <td>...</td>\n",
       "      <td>1.488047</td>\n",
       "      <td>2.767486</td>\n",
       "      <td>-0.631562</td>\n",
       "      <td>-0.794275</td>\n",
       "      <td>-0.514008</td>\n",
       "      <td>-1.875969</td>\n",
       "      <td>-2.526109</td>\n",
       "      <td>-1.073803</td>\n",
       "      <td>-1.161728</td>\n",
       "      <td>3</td>\n",
       "    </tr>\n",
       "    <tr>\n",
       "      <th>...</th>\n",
       "      <td>...</td>\n",
       "      <td>...</td>\n",
       "      <td>...</td>\n",
       "      <td>...</td>\n",
       "      <td>...</td>\n",
       "      <td>...</td>\n",
       "      <td>...</td>\n",
       "      <td>...</td>\n",
       "      <td>...</td>\n",
       "      <td>...</td>\n",
       "      <td>...</td>\n",
       "      <td>...</td>\n",
       "      <td>...</td>\n",
       "      <td>...</td>\n",
       "      <td>...</td>\n",
       "      <td>...</td>\n",
       "      <td>...</td>\n",
       "      <td>...</td>\n",
       "      <td>...</td>\n",
       "      <td>...</td>\n",
       "      <td>...</td>\n",
       "    </tr>\n",
       "    <tr>\n",
       "      <th>796</th>\n",
       "      <td>-60.861882</td>\n",
       "      <td>-22.278633</td>\n",
       "      <td>-80.927167</td>\n",
       "      <td>42.670292</td>\n",
       "      <td>7.843763</td>\n",
       "      <td>-4.545218</td>\n",
       "      <td>-27.602910</td>\n",
       "      <td>-8.840676</td>\n",
       "      <td>-31.531870</td>\n",
       "      <td>6.380236</td>\n",
       "      <td>...</td>\n",
       "      <td>-0.780676</td>\n",
       "      <td>0.105227</td>\n",
       "      <td>-2.001001</td>\n",
       "      <td>1.579115</td>\n",
       "      <td>0.955344</td>\n",
       "      <td>0.085881</td>\n",
       "      <td>2.667448</td>\n",
       "      <td>0.632850</td>\n",
       "      <td>0.023523</td>\n",
       "      <td>3</td>\n",
       "    </tr>\n",
       "    <tr>\n",
       "      <th>797</th>\n",
       "      <td>-14.465433</td>\n",
       "      <td>53.392194</td>\n",
       "      <td>38.153904</td>\n",
       "      <td>-63.217345</td>\n",
       "      <td>22.799082</td>\n",
       "      <td>39.543441</td>\n",
       "      <td>-47.899401</td>\n",
       "      <td>39.925172</td>\n",
       "      <td>-12.413483</td>\n",
       "      <td>43.364820</td>\n",
       "      <td>...</td>\n",
       "      <td>-0.712822</td>\n",
       "      <td>0.624739</td>\n",
       "      <td>-0.162403</td>\n",
       "      <td>-0.238540</td>\n",
       "      <td>0.584705</td>\n",
       "      <td>1.404867</td>\n",
       "      <td>0.564251</td>\n",
       "      <td>-0.054682</td>\n",
       "      <td>-0.905574</td>\n",
       "      <td>2</td>\n",
       "    </tr>\n",
       "    <tr>\n",
       "      <th>798</th>\n",
       "      <td>10.486261</td>\n",
       "      <td>21.570595</td>\n",
       "      <td>41.345878</td>\n",
       "      <td>-59.639929</td>\n",
       "      <td>-2.163066</td>\n",
       "      <td>-96.453878</td>\n",
       "      <td>38.375897</td>\n",
       "      <td>46.997294</td>\n",
       "      <td>60.604643</td>\n",
       "      <td>59.967025</td>\n",
       "      <td>...</td>\n",
       "      <td>0.269628</td>\n",
       "      <td>-0.348648</td>\n",
       "      <td>-0.531710</td>\n",
       "      <td>0.055553</td>\n",
       "      <td>0.220559</td>\n",
       "      <td>0.331122</td>\n",
       "      <td>-0.647883</td>\n",
       "      <td>-0.207257</td>\n",
       "      <td>0.138943</td>\n",
       "      <td>5</td>\n",
       "    </tr>\n",
       "    <tr>\n",
       "      <th>799</th>\n",
       "      <td>-55.063605</td>\n",
       "      <td>-92.394778</td>\n",
       "      <td>80.050039</td>\n",
       "      <td>-7.782015</td>\n",
       "      <td>15.180574</td>\n",
       "      <td>2.563620</td>\n",
       "      <td>8.487660</td>\n",
       "      <td>10.571657</td>\n",
       "      <td>11.710577</td>\n",
       "      <td>1.304005</td>\n",
       "      <td>...</td>\n",
       "      <td>0.045885</td>\n",
       "      <td>-2.222754</td>\n",
       "      <td>-4.115667</td>\n",
       "      <td>-0.064646</td>\n",
       "      <td>-0.447662</td>\n",
       "      <td>-0.243658</td>\n",
       "      <td>1.746731</td>\n",
       "      <td>2.022322</td>\n",
       "      <td>-1.927089</td>\n",
       "      <td>1</td>\n",
       "    </tr>\n",
       "    <tr>\n",
       "      <th>800</th>\n",
       "      <td>-49.103034</td>\n",
       "      <td>-50.997639</td>\n",
       "      <td>40.503754</td>\n",
       "      <td>-31.495505</td>\n",
       "      <td>-10.361908</td>\n",
       "      <td>-1.272555</td>\n",
       "      <td>9.185948</td>\n",
       "      <td>-31.629661</td>\n",
       "      <td>40.799717</td>\n",
       "      <td>-5.265109</td>\n",
       "      <td>...</td>\n",
       "      <td>-1.429271</td>\n",
       "      <td>-1.286569</td>\n",
       "      <td>-0.166544</td>\n",
       "      <td>3.095998</td>\n",
       "      <td>0.935408</td>\n",
       "      <td>2.854994</td>\n",
       "      <td>1.803673</td>\n",
       "      <td>2.229940</td>\n",
       "      <td>-0.807255</td>\n",
       "      <td>1</td>\n",
       "    </tr>\n",
       "  </tbody>\n",
       "</table>\n",
       "<p>801 rows × 748 columns</p>\n",
       "</div>"
      ],
      "text/plain": [
       "             0          1          2          3          4           5  \\\n",
       "0   -62.755415 -94.071973  89.519831 -15.942567  81.423539  -13.998292   \n",
       "1    -2.432896  90.585842  -1.067308 -53.083120 -15.676684   60.842472   \n",
       "2   -71.266853  -8.064608  66.112455  81.381475  -7.525685  109.824273   \n",
       "3   -84.770785 -73.244566  74.181000  27.022697 -18.044895   50.116433   \n",
       "4   -69.560171  -9.612940 -67.497549  34.868543  -1.795849   -6.676780   \n",
       "..         ...        ...        ...        ...        ...         ...   \n",
       "796 -60.861882 -22.278633 -80.927167  42.670292   7.843763   -4.545218   \n",
       "797 -14.465433  53.392194  38.153904 -63.217345  22.799082   39.543441   \n",
       "798  10.486261  21.570595  41.345878 -59.639929  -2.163066  -96.453878   \n",
       "799 -55.063605 -92.394778  80.050039  -7.782015  15.180574    2.563620   \n",
       "800 -49.103034 -50.997639  40.503754 -31.495505 -10.361908   -1.272555   \n",
       "\n",
       "             6          7          8          9  ...       738       739  \\\n",
       "0     7.716073 -22.936551 -32.837892  -2.202680  ... -4.081064 -0.626193   \n",
       "1    10.257369 -48.822959  14.257400 -12.214352  ...  0.215619 -0.593678   \n",
       "2     5.519407 -13.364480  38.415728  -5.124731  ...  0.263786  0.328453   \n",
       "3    -3.495197 -11.318520   8.319656  -3.149509  ...  0.381578  0.652455   \n",
       "4    -2.840781  16.780157 -49.319753  10.508631  ...  1.488047  2.767486   \n",
       "..         ...        ...        ...        ...  ...       ...       ...   \n",
       "796 -27.602910  -8.840676 -31.531870   6.380236  ... -0.780676  0.105227   \n",
       "797 -47.899401  39.925172 -12.413483  43.364820  ... -0.712822  0.624739   \n",
       "798  38.375897  46.997294  60.604643  59.967025  ...  0.269628 -0.348648   \n",
       "799   8.487660  10.571657  11.710577   1.304005  ...  0.045885 -2.222754   \n",
       "800   9.185948 -31.629661  40.799717  -5.265109  ... -1.429271 -1.286569   \n",
       "\n",
       "          740       741       742       743       744       745       746  \\\n",
       "0   -1.265756 -0.017984 -2.740860  0.944037  3.092581  0.713598 -0.082122   \n",
       "1   -0.403462  1.181537  0.490910  0.197768  0.013967 -0.395176 -0.949947   \n",
       "2    0.004078  0.363928 -1.109210  0.331488  0.128899 -0.264530  0.384594   \n",
       "3   -3.624900 -1.203028 -2.347912  1.577992 -0.781748  0.120442 -0.057973   \n",
       "4   -0.631562 -0.794275 -0.514008 -1.875969 -2.526109 -1.073803 -1.161728   \n",
       "..        ...       ...       ...       ...       ...       ...       ...   \n",
       "796 -2.001001  1.579115  0.955344  0.085881  2.667448  0.632850  0.023523   \n",
       "797 -0.162403 -0.238540  0.584705  1.404867  0.564251 -0.054682 -0.905574   \n",
       "798 -0.531710  0.055553  0.220559  0.331122 -0.647883 -0.207257  0.138943   \n",
       "799 -4.115667 -0.064646 -0.447662 -0.243658  1.746731  2.022322 -1.927089   \n",
       "800 -0.166544  3.095998  0.935408  2.854994  1.803673  2.229940 -0.807255   \n",
       "\n",
       "     cancer_type  \n",
       "0              1  \n",
       "1              2  \n",
       "2              1  \n",
       "3              1  \n",
       "4              3  \n",
       "..           ...  \n",
       "796            3  \n",
       "797            2  \n",
       "798            5  \n",
       "799            1  \n",
       "800            1  \n",
       "\n",
       "[801 rows x 748 columns]"
      ]
     },
     "execution_count": 31,
     "metadata": {},
     "output_type": "execute_result"
    }
   ],
   "source": [
    "df_pca_995 = pd.DataFrame(X_pca_with_995)\n",
    "df_pca_995['cancer_type']=df_cat_data['Class']\n",
    "df_pca_995"
   ]
  },
  {
   "cell_type": "code",
   "execution_count": 32,
   "id": "23bdd07e",
   "metadata": {
    "execution": {
     "iopub.execute_input": "2021-12-10T16:06:38.466463Z",
     "iopub.status.busy": "2021-12-10T16:06:38.465366Z",
     "iopub.status.idle": "2021-12-10T16:06:38.965806Z",
     "shell.execute_reply": "2021-12-10T16:06:38.965202Z",
     "shell.execute_reply.started": "2021-12-10T15:54:01.917528Z"
    },
    "papermill": {
     "duration": 0.625474,
     "end_time": "2021-12-10T16:06:38.965961",
     "exception": false,
     "start_time": "2021-12-10T16:06:38.340487",
     "status": "completed"
    },
    "tags": []
   },
   "outputs": [
    {
     "data": {
      "text/plain": [
       "<AxesSubplot:xlabel='0', ylabel='1'>"
      ]
     },
     "execution_count": 32,
     "metadata": {},
     "output_type": "execute_result"
    },
    {
     "data": {
      "image/png": "[encoded data removed]",
      "text/plain": [
       "<Figure size 432x288 with 1 Axes>"
      ]
     },
     "metadata": {
      "needs_background": "light"
     },
     "output_type": "display_data"
    }
   ],
   "source": [
    "sns.scatterplot(x=0,y=1,hue = 'cancer_type', data=df_pca_995)"
   ]
  },
  {
   "cell_type": "markdown",
   "id": "778b387d",
   "metadata": {
    "papermill": {
     "duration": 0.111696,
     "end_time": "2021-12-10T16:06:39.188189",
     "exception": false,
     "start_time": "2021-12-10T16:06:39.076493",
     "status": "completed"
    },
    "tags": []
   },
   "source": [
    "### Week2:- Dimensionality reduction using  TSNE\n",
    "\n",
    "T-SNE is a tool to visualize high-dimensional data. It converts similarities between data points to joint probabilities and tries to minimize the Kullback-Leibler divergence between the joint probabilities of the low-dimensional embedding and the high-dimensional data. t-SNE has a cost function that is not convex, i.e. with different initializations we can get different results.\n",
    "\n"
   ]
  },
  {
   "cell_type": "code",
   "execution_count": 33,
   "id": "f6389025",
   "metadata": {
    "execution": {
     "iopub.execute_input": "2021-12-10T16:06:39.480201Z",
     "iopub.status.busy": "2021-12-10T16:06:39.479440Z",
     "iopub.status.idle": "2021-12-10T16:06:39.517049Z",
     "shell.execute_reply": "2021-12-10T16:06:39.516412Z",
     "shell.execute_reply.started": "2021-12-10T15:54:02.385030Z"
    },
    "papermill": {
     "duration": 0.2155,
     "end_time": "2021-12-10T16:06:39.517226",
     "exception": false,
     "start_time": "2021-12-10T16:06:39.301726",
     "status": "completed"
    },
    "tags": []
   },
   "outputs": [
    {
     "data": {
      "text/html": [
       "<div>\n",
       "<style scoped>\n",
       "    .dataframe tbody tr th:only-of-type {\n",
       "        vertical-align: middle;\n",
       "    }\n",
       "\n",
       "    .dataframe tbody tr th {\n",
       "        vertical-align: top;\n",
       "    }\n",
       "\n",
       "    .dataframe thead th {\n",
       "        text-align: right;\n",
       "    }\n",
       "</style>\n",
       "<table border=\"1\" class=\"dataframe\">\n",
       "  <thead>\n",
       "    <tr style=\"text-align: right;\">\n",
       "      <th></th>\n",
       "      <th>gene_0</th>\n",
       "      <th>gene_1</th>\n",
       "      <th>gene_2</th>\n",
       "      <th>gene_3</th>\n",
       "      <th>gene_4</th>\n",
       "      <th>gene_5</th>\n",
       "      <th>gene_6</th>\n",
       "      <th>gene_7</th>\n",
       "      <th>gene_8</th>\n",
       "      <th>gene_9</th>\n",
       "      <th>...</th>\n",
       "      <th>gene_20521</th>\n",
       "      <th>gene_20522</th>\n",
       "      <th>gene_20523</th>\n",
       "      <th>gene_20524</th>\n",
       "      <th>gene_20525</th>\n",
       "      <th>gene_20526</th>\n",
       "      <th>gene_20527</th>\n",
       "      <th>gene_20528</th>\n",
       "      <th>gene_20529</th>\n",
       "      <th>gene_20530</th>\n",
       "    </tr>\n",
       "  </thead>\n",
       "  <tbody>\n",
       "    <tr>\n",
       "      <th>0</th>\n",
       "      <td>0.0</td>\n",
       "      <td>2.017209</td>\n",
       "      <td>3.265527</td>\n",
       "      <td>5.478487</td>\n",
       "      <td>10.431999</td>\n",
       "      <td>0.0</td>\n",
       "      <td>7.175175</td>\n",
       "      <td>0.591871</td>\n",
       "      <td>0.0</td>\n",
       "      <td>0.0</td>\n",
       "      <td>...</td>\n",
       "      <td>4.926711</td>\n",
       "      <td>8.210257</td>\n",
       "      <td>9.723516</td>\n",
       "      <td>7.220030</td>\n",
       "      <td>9.119813</td>\n",
       "      <td>12.003135</td>\n",
       "      <td>9.650743</td>\n",
       "      <td>8.921326</td>\n",
       "      <td>5.286759</td>\n",
       "      <td>0.000000</td>\n",
       "    </tr>\n",
       "    <tr>\n",
       "      <th>1</th>\n",
       "      <td>0.0</td>\n",
       "      <td>0.592732</td>\n",
       "      <td>1.588421</td>\n",
       "      <td>7.586157</td>\n",
       "      <td>9.623011</td>\n",
       "      <td>0.0</td>\n",
       "      <td>6.816049</td>\n",
       "      <td>0.000000</td>\n",
       "      <td>0.0</td>\n",
       "      <td>0.0</td>\n",
       "      <td>...</td>\n",
       "      <td>4.593372</td>\n",
       "      <td>7.323865</td>\n",
       "      <td>9.740931</td>\n",
       "      <td>6.256586</td>\n",
       "      <td>8.381612</td>\n",
       "      <td>12.674552</td>\n",
       "      <td>10.517059</td>\n",
       "      <td>9.397854</td>\n",
       "      <td>2.094168</td>\n",
       "      <td>0.000000</td>\n",
       "    </tr>\n",
       "    <tr>\n",
       "      <th>2</th>\n",
       "      <td>0.0</td>\n",
       "      <td>3.511759</td>\n",
       "      <td>4.327199</td>\n",
       "      <td>6.881787</td>\n",
       "      <td>9.870730</td>\n",
       "      <td>0.0</td>\n",
       "      <td>6.972130</td>\n",
       "      <td>0.452595</td>\n",
       "      <td>0.0</td>\n",
       "      <td>0.0</td>\n",
       "      <td>...</td>\n",
       "      <td>5.125213</td>\n",
       "      <td>8.127123</td>\n",
       "      <td>10.908640</td>\n",
       "      <td>5.401607</td>\n",
       "      <td>9.911597</td>\n",
       "      <td>9.045255</td>\n",
       "      <td>9.788359</td>\n",
       "      <td>10.090470</td>\n",
       "      <td>1.683023</td>\n",
       "      <td>0.000000</td>\n",
       "    </tr>\n",
       "    <tr>\n",
       "      <th>3</th>\n",
       "      <td>0.0</td>\n",
       "      <td>3.663618</td>\n",
       "      <td>4.507649</td>\n",
       "      <td>6.659068</td>\n",
       "      <td>10.196184</td>\n",
       "      <td>0.0</td>\n",
       "      <td>7.843375</td>\n",
       "      <td>0.434882</td>\n",
       "      <td>0.0</td>\n",
       "      <td>0.0</td>\n",
       "      <td>...</td>\n",
       "      <td>6.076566</td>\n",
       "      <td>8.792959</td>\n",
       "      <td>10.141520</td>\n",
       "      <td>8.942805</td>\n",
       "      <td>9.601208</td>\n",
       "      <td>11.392682</td>\n",
       "      <td>9.694814</td>\n",
       "      <td>9.684365</td>\n",
       "      <td>3.292001</td>\n",
       "      <td>0.000000</td>\n",
       "    </tr>\n",
       "    <tr>\n",
       "      <th>4</th>\n",
       "      <td>0.0</td>\n",
       "      <td>2.655741</td>\n",
       "      <td>2.821547</td>\n",
       "      <td>6.539454</td>\n",
       "      <td>9.738265</td>\n",
       "      <td>0.0</td>\n",
       "      <td>6.566967</td>\n",
       "      <td>0.360982</td>\n",
       "      <td>0.0</td>\n",
       "      <td>0.0</td>\n",
       "      <td>...</td>\n",
       "      <td>5.996032</td>\n",
       "      <td>8.891425</td>\n",
       "      <td>10.373790</td>\n",
       "      <td>7.181162</td>\n",
       "      <td>9.846910</td>\n",
       "      <td>11.922439</td>\n",
       "      <td>9.217749</td>\n",
       "      <td>9.461191</td>\n",
       "      <td>5.110372</td>\n",
       "      <td>0.000000</td>\n",
       "    </tr>\n",
       "    <tr>\n",
       "      <th>...</th>\n",
       "      <td>...</td>\n",
       "      <td>...</td>\n",
       "      <td>...</td>\n",
       "      <td>...</td>\n",
       "      <td>...</td>\n",
       "      <td>...</td>\n",
       "      <td>...</td>\n",
       "      <td>...</td>\n",
       "      <td>...</td>\n",
       "      <td>...</td>\n",
       "      <td>...</td>\n",
       "      <td>...</td>\n",
       "      <td>...</td>\n",
       "      <td>...</td>\n",
       "      <td>...</td>\n",
       "      <td>...</td>\n",
       "      <td>...</td>\n",
       "      <td>...</td>\n",
       "      <td>...</td>\n",
       "      <td>...</td>\n",
       "      <td>...</td>\n",
       "    </tr>\n",
       "    <tr>\n",
       "      <th>796</th>\n",
       "      <td>0.0</td>\n",
       "      <td>1.865642</td>\n",
       "      <td>2.718197</td>\n",
       "      <td>7.350099</td>\n",
       "      <td>10.006003</td>\n",
       "      <td>0.0</td>\n",
       "      <td>6.764792</td>\n",
       "      <td>0.496922</td>\n",
       "      <td>0.0</td>\n",
       "      <td>0.0</td>\n",
       "      <td>...</td>\n",
       "      <td>6.088133</td>\n",
       "      <td>9.118313</td>\n",
       "      <td>10.004852</td>\n",
       "      <td>4.484415</td>\n",
       "      <td>9.614701</td>\n",
       "      <td>12.031267</td>\n",
       "      <td>9.813063</td>\n",
       "      <td>10.092770</td>\n",
       "      <td>8.819269</td>\n",
       "      <td>0.000000</td>\n",
       "    </tr>\n",
       "    <tr>\n",
       "      <th>797</th>\n",
       "      <td>0.0</td>\n",
       "      <td>3.942955</td>\n",
       "      <td>4.453807</td>\n",
       "      <td>6.346597</td>\n",
       "      <td>10.056868</td>\n",
       "      <td>0.0</td>\n",
       "      <td>7.320331</td>\n",
       "      <td>0.000000</td>\n",
       "      <td>0.0</td>\n",
       "      <td>0.0</td>\n",
       "      <td>...</td>\n",
       "      <td>6.371876</td>\n",
       "      <td>9.623335</td>\n",
       "      <td>9.823921</td>\n",
       "      <td>6.555327</td>\n",
       "      <td>9.064002</td>\n",
       "      <td>11.633422</td>\n",
       "      <td>10.317266</td>\n",
       "      <td>8.745983</td>\n",
       "      <td>9.659081</td>\n",
       "      <td>0.000000</td>\n",
       "    </tr>\n",
       "    <tr>\n",
       "      <th>798</th>\n",
       "      <td>0.0</td>\n",
       "      <td>3.249582</td>\n",
       "      <td>3.707492</td>\n",
       "      <td>8.185901</td>\n",
       "      <td>9.504082</td>\n",
       "      <td>0.0</td>\n",
       "      <td>7.536589</td>\n",
       "      <td>1.811101</td>\n",
       "      <td>0.0</td>\n",
       "      <td>0.0</td>\n",
       "      <td>...</td>\n",
       "      <td>5.719386</td>\n",
       "      <td>8.610704</td>\n",
       "      <td>10.485517</td>\n",
       "      <td>3.589763</td>\n",
       "      <td>9.350636</td>\n",
       "      <td>12.180944</td>\n",
       "      <td>10.681194</td>\n",
       "      <td>9.466711</td>\n",
       "      <td>4.677458</td>\n",
       "      <td>0.586693</td>\n",
       "    </tr>\n",
       "    <tr>\n",
       "      <th>799</th>\n",
       "      <td>0.0</td>\n",
       "      <td>2.590339</td>\n",
       "      <td>2.787976</td>\n",
       "      <td>7.318624</td>\n",
       "      <td>9.987136</td>\n",
       "      <td>0.0</td>\n",
       "      <td>9.213464</td>\n",
       "      <td>0.000000</td>\n",
       "      <td>0.0</td>\n",
       "      <td>0.0</td>\n",
       "      <td>...</td>\n",
       "      <td>5.785237</td>\n",
       "      <td>8.605387</td>\n",
       "      <td>11.004677</td>\n",
       "      <td>4.745888</td>\n",
       "      <td>9.626383</td>\n",
       "      <td>11.198279</td>\n",
       "      <td>10.335513</td>\n",
       "      <td>10.400581</td>\n",
       "      <td>5.718751</td>\n",
       "      <td>0.000000</td>\n",
       "    </tr>\n",
       "    <tr>\n",
       "      <th>800</th>\n",
       "      <td>0.0</td>\n",
       "      <td>2.325242</td>\n",
       "      <td>3.805932</td>\n",
       "      <td>6.530246</td>\n",
       "      <td>9.560367</td>\n",
       "      <td>0.0</td>\n",
       "      <td>7.957027</td>\n",
       "      <td>0.000000</td>\n",
       "      <td>0.0</td>\n",
       "      <td>0.0</td>\n",
       "      <td>...</td>\n",
       "      <td>6.403075</td>\n",
       "      <td>8.594354</td>\n",
       "      <td>10.243079</td>\n",
       "      <td>9.139459</td>\n",
       "      <td>10.102934</td>\n",
       "      <td>11.641081</td>\n",
       "      <td>10.607358</td>\n",
       "      <td>9.844794</td>\n",
       "      <td>4.550716</td>\n",
       "      <td>0.000000</td>\n",
       "    </tr>\n",
       "  </tbody>\n",
       "</table>\n",
       "<p>801 rows × 20531 columns</p>\n",
       "</div>"
      ],
      "text/plain": [
       "     gene_0    gene_1    gene_2    gene_3     gene_4  gene_5    gene_6  \\\n",
       "0       0.0  2.017209  3.265527  5.478487  10.431999     0.0  7.175175   \n",
       "1       0.0  0.592732  1.588421  7.586157   9.623011     0.0  6.816049   \n",
       "2       0.0  3.511759  4.327199  6.881787   9.870730     0.0  6.972130   \n",
       "3       0.0  3.663618  4.507649  6.659068  10.196184     0.0  7.843375   \n",
       "4       0.0  2.655741  2.821547  6.539454   9.738265     0.0  6.566967   \n",
       "..      ...       ...       ...       ...        ...     ...       ...   \n",
       "796     0.0  1.865642  2.718197  7.350099  10.006003     0.0  6.764792   \n",
       "797     0.0  3.942955  4.453807  6.346597  10.056868     0.0  7.320331   \n",
       "798     0.0  3.249582  3.707492  8.185901   9.504082     0.0  7.536589   \n",
       "799     0.0  2.590339  2.787976  7.318624   9.987136     0.0  9.213464   \n",
       "800     0.0  2.325242  3.805932  6.530246   9.560367     0.0  7.957027   \n",
       "\n",
       "       gene_7  gene_8  gene_9  ...  gene_20521  gene_20522  gene_20523  \\\n",
       "0    0.591871     0.0     0.0  ...    4.926711    8.210257    9.723516   \n",
       "1    0.000000     0.0     0.0  ...    4.593372    7.323865    9.740931   \n",
       "2    0.452595     0.0     0.0  ...    5.125213    8.127123   10.908640   \n",
       "3    0.434882     0.0     0.0  ...    6.076566    8.792959   10.141520   \n",
       "4    0.360982     0.0     0.0  ...    5.996032    8.891425   10.373790   \n",
       "..        ...     ...     ...  ...         ...         ...         ...   \n",
       "796  0.496922     0.0     0.0  ...    6.088133    9.118313   10.004852   \n",
       "797  0.000000     0.0     0.0  ...    6.371876    9.623335    9.823921   \n",
       "798  1.811101     0.0     0.0  ...    5.719386    8.610704   10.485517   \n",
       "799  0.000000     0.0     0.0  ...    5.785237    8.605387   11.004677   \n",
       "800  0.000000     0.0     0.0  ...    6.403075    8.594354   10.243079   \n",
       "\n",
       "     gene_20524  gene_20525  gene_20526  gene_20527  gene_20528  gene_20529  \\\n",
       "0      7.220030    9.119813   12.003135    9.650743    8.921326    5.286759   \n",
       "1      6.256586    8.381612   12.674552   10.517059    9.397854    2.094168   \n",
       "2      5.401607    9.911597    9.045255    9.788359   10.090470    1.683023   \n",
       "3      8.942805    9.601208   11.392682    9.694814    9.684365    3.292001   \n",
       "4      7.181162    9.846910   11.922439    9.217749    9.461191    5.110372   \n",
       "..          ...         ...         ...         ...         ...         ...   \n",
       "796    4.484415    9.614701   12.031267    9.813063   10.092770    8.819269   \n",
       "797    6.555327    9.064002   11.633422   10.317266    8.745983    9.659081   \n",
       "798    3.589763    9.350636   12.180944   10.681194    9.466711    4.677458   \n",
       "799    4.745888    9.626383   11.198279   10.335513   10.400581    5.718751   \n",
       "800    9.139459   10.102934   11.641081   10.607358    9.844794    4.550716   \n",
       "\n",
       "     gene_20530  \n",
       "0      0.000000  \n",
       "1      0.000000  \n",
       "2      0.000000  \n",
       "3      0.000000  \n",
       "4      0.000000  \n",
       "..          ...  \n",
       "796    0.000000  \n",
       "797    0.000000  \n",
       "798    0.586693  \n",
       "799    0.000000  \n",
       "800    0.000000  \n",
       "\n",
       "[801 rows x 20531 columns]"
      ]
     },
     "execution_count": 33,
     "metadata": {},
     "output_type": "execute_result"
    }
   ],
   "source": [
    "df_tsne_data = master_data\n",
    "non_numeric = ['Unnamed: 0','Class']\n",
    "df_tsne_data = df_tsne_data.drop(non_numeric, axis=1)\n",
    "df_tsne_data"
   ]
  },
  {
   "cell_type": "code",
   "execution_count": 34,
   "id": "6db7e48e",
   "metadata": {
    "execution": {
     "iopub.execute_input": "2021-12-10T16:06:39.752809Z",
     "iopub.status.busy": "2021-12-10T16:06:39.752043Z",
     "iopub.status.idle": "2021-12-10T16:06:39.832158Z",
     "shell.execute_reply": "2021-12-10T16:06:39.831519Z",
     "shell.execute_reply.started": "2021-12-10T15:54:02.480219Z"
    },
    "papermill": {
     "duration": 0.198745,
     "end_time": "2021-12-10T16:06:39.832319",
     "exception": false,
     "start_time": "2021-12-10T16:06:39.633574",
     "status": "completed"
    },
    "tags": []
   },
   "outputs": [],
   "source": [
    "#import T-SNE from sklearn\n",
    "from sklearn.manifold import TSNE\n",
    "m = TSNE(learning_rate=50)"
   ]
  },
  {
   "cell_type": "code",
   "execution_count": 35,
   "id": "92ce720e",
   "metadata": {
    "execution": {
     "iopub.execute_input": "2021-12-10T16:06:40.062790Z",
     "iopub.status.busy": "2021-12-10T16:06:40.062097Z",
     "iopub.status.idle": "2021-12-10T16:07:15.290830Z",
     "shell.execute_reply": "2021-12-10T16:07:15.291483Z",
     "shell.execute_reply.started": "2021-12-10T15:54:02.569054Z"
    },
    "papermill": {
     "duration": 35.345997,
     "end_time": "2021-12-10T16:07:15.291723",
     "exception": false,
     "start_time": "2021-12-10T16:06:39.945726",
     "status": "completed"
    },
    "tags": []
   },
   "outputs": [
    {
     "data": {
      "text/plain": [
       "array([[-19.795588 ,  24.284504 ],\n",
       "       [ 48.298653 ,  -1.4586223],\n",
       "       [ 47.529713 ,  -1.1015767]], dtype=float32)"
      ]
     },
     "execution_count": 35,
     "metadata": {},
     "output_type": "execute_result"
    }
   ],
   "source": [
    "tnse_features = m.fit_transform(df_tsne_data)\n",
    "tnse_features[1:4,:]"
   ]
  },
  {
   "cell_type": "code",
   "execution_count": 36,
   "id": "24c22511",
   "metadata": {
    "execution": {
     "iopub.execute_input": "2021-12-10T16:07:15.537195Z",
     "iopub.status.busy": "2021-12-10T16:07:15.536464Z",
     "iopub.status.idle": "2021-12-10T16:07:15.781265Z",
     "shell.execute_reply": "2021-12-10T16:07:15.780718Z",
     "shell.execute_reply.started": "2021-12-10T15:54:35.951196Z"
    },
    "papermill": {
     "duration": 0.370365,
     "end_time": "2021-12-10T16:07:15.781417",
     "exception": false,
     "start_time": "2021-12-10T16:07:15.411052",
     "status": "completed"
    },
    "tags": []
   },
   "outputs": [
    {
     "data": {
      "image/png": "[encoded data removed]",
      "text/plain": [
       "<Figure size 432x288 with 1 Axes>"
      ]
     },
     "metadata": {
      "needs_background": "light"
     },
     "output_type": "display_data"
    }
   ],
   "source": [
    "df_tsne_data['x'] = tnse_features[:,0]\n",
    "df_tsne_data['y'] = tnse_features[:,1]\n",
    "\n",
    "import seaborn as sns\n",
    "sns.scatterplot(x='x',y='y',data=df_tsne_data)\n",
    "plt.show()"
   ]
  },
  {
   "cell_type": "code",
   "execution_count": 37,
   "id": "9d9fdbb2",
   "metadata": {
    "execution": {
     "iopub.execute_input": "2021-12-10T16:07:16.020799Z",
     "iopub.status.busy": "2021-12-10T16:07:16.016249Z",
     "iopub.status.idle": "2021-12-10T16:07:16.470631Z",
     "shell.execute_reply": "2021-12-10T16:07:16.469956Z",
     "shell.execute_reply.started": "2021-12-10T15:54:36.229471Z"
    },
    "papermill": {
     "duration": 0.574655,
     "end_time": "2021-12-10T16:07:16.470849",
     "exception": false,
     "start_time": "2021-12-10T16:07:15.896194",
     "status": "completed"
    },
    "tags": []
   },
   "outputs": [
    {
     "data": {
      "image/png": "[encoded data removed]",
      "text/plain": [
       "<Figure size 432x288 with 1 Axes>"
      ]
     },
     "metadata": {
      "needs_background": "light"
     },
     "output_type": "display_data"
    }
   ],
   "source": [
    "df_tsne_data['cancer_type']=df_cat_data['Class']\n",
    "sns.scatterplot(x='x',y='y',hue = 'cancer_type', data=df_tsne_data)\n",
    "plt.show()"
   ]
  },
  {
   "cell_type": "markdown",
   "id": "a69658ca",
   "metadata": {
    "papermill": {
     "duration": 0.124441,
     "end_time": "2021-12-10T16:07:16.721085",
     "exception": false,
     "start_time": "2021-12-10T16:07:16.596644",
     "status": "completed"
    },
    "tags": []
   },
   "source": [
    "### Week2:- Dimensionality reduction using LDA \n",
    "\n",
    "#### Linear Discriminant Analysis, or LDA for short, is a predictive modeling algorithm for multi-class classification. It can also be used as a dimensionality reduction technique, providing a projection of a training dataset that best separates the examples by their assigned class.\n",
    "\n",
    "#### The ability to use Linear Discriminant Analysis for dimensionality reduction often surprises most practitioners."
   ]
  },
  {
   "cell_type": "code",
   "execution_count": 38,
   "id": "635392e6",
   "metadata": {
    "execution": {
     "iopub.execute_input": "2021-12-10T16:07:16.971372Z",
     "iopub.status.busy": "2021-12-10T16:07:16.970677Z",
     "iopub.status.idle": "2021-12-10T16:07:17.123630Z",
     "shell.execute_reply": "2021-12-10T16:07:17.124233Z",
     "shell.execute_reply.started": "2021-12-10T15:54:36.678195Z"
    },
    "papermill": {
     "duration": 0.274556,
     "end_time": "2021-12-10T16:07:17.124426",
     "exception": false,
     "start_time": "2021-12-10T16:07:16.849870",
     "status": "completed"
    },
    "tags": []
   },
   "outputs": [
    {
     "data": {
      "text/html": [
       "<div>\n",
       "<style scoped>\n",
       "    .dataframe tbody tr th:only-of-type {\n",
       "        vertical-align: middle;\n",
       "    }\n",
       "\n",
       "    .dataframe tbody tr th {\n",
       "        vertical-align: top;\n",
       "    }\n",
       "\n",
       "    .dataframe thead th {\n",
       "        text-align: right;\n",
       "    }\n",
       "</style>\n",
       "<table border=\"1\" class=\"dataframe\">\n",
       "  <thead>\n",
       "    <tr style=\"text-align: right;\">\n",
       "      <th></th>\n",
       "      <th>gene_0</th>\n",
       "      <th>gene_1</th>\n",
       "      <th>gene_2</th>\n",
       "      <th>gene_3</th>\n",
       "      <th>gene_4</th>\n",
       "      <th>gene_5</th>\n",
       "      <th>gene_6</th>\n",
       "      <th>gene_7</th>\n",
       "      <th>gene_8</th>\n",
       "      <th>gene_9</th>\n",
       "      <th>...</th>\n",
       "      <th>gene_20521</th>\n",
       "      <th>gene_20522</th>\n",
       "      <th>gene_20523</th>\n",
       "      <th>gene_20524</th>\n",
       "      <th>gene_20525</th>\n",
       "      <th>gene_20526</th>\n",
       "      <th>gene_20527</th>\n",
       "      <th>gene_20528</th>\n",
       "      <th>gene_20529</th>\n",
       "      <th>gene_20530</th>\n",
       "    </tr>\n",
       "  </thead>\n",
       "  <tbody>\n",
       "    <tr>\n",
       "      <th>0</th>\n",
       "      <td>0.0</td>\n",
       "      <td>2.017209</td>\n",
       "      <td>3.265527</td>\n",
       "      <td>5.478487</td>\n",
       "      <td>10.431999</td>\n",
       "      <td>0.0</td>\n",
       "      <td>7.175175</td>\n",
       "      <td>0.591871</td>\n",
       "      <td>0.0</td>\n",
       "      <td>0.0</td>\n",
       "      <td>...</td>\n",
       "      <td>4.926711</td>\n",
       "      <td>8.210257</td>\n",
       "      <td>9.723516</td>\n",
       "      <td>7.220030</td>\n",
       "      <td>9.119813</td>\n",
       "      <td>12.003135</td>\n",
       "      <td>9.650743</td>\n",
       "      <td>8.921326</td>\n",
       "      <td>5.286759</td>\n",
       "      <td>0.000000</td>\n",
       "    </tr>\n",
       "    <tr>\n",
       "      <th>1</th>\n",
       "      <td>0.0</td>\n",
       "      <td>0.592732</td>\n",
       "      <td>1.588421</td>\n",
       "      <td>7.586157</td>\n",
       "      <td>9.623011</td>\n",
       "      <td>0.0</td>\n",
       "      <td>6.816049</td>\n",
       "      <td>0.000000</td>\n",
       "      <td>0.0</td>\n",
       "      <td>0.0</td>\n",
       "      <td>...</td>\n",
       "      <td>4.593372</td>\n",
       "      <td>7.323865</td>\n",
       "      <td>9.740931</td>\n",
       "      <td>6.256586</td>\n",
       "      <td>8.381612</td>\n",
       "      <td>12.674552</td>\n",
       "      <td>10.517059</td>\n",
       "      <td>9.397854</td>\n",
       "      <td>2.094168</td>\n",
       "      <td>0.000000</td>\n",
       "    </tr>\n",
       "    <tr>\n",
       "      <th>2</th>\n",
       "      <td>0.0</td>\n",
       "      <td>3.511759</td>\n",
       "      <td>4.327199</td>\n",
       "      <td>6.881787</td>\n",
       "      <td>9.870730</td>\n",
       "      <td>0.0</td>\n",
       "      <td>6.972130</td>\n",
       "      <td>0.452595</td>\n",
       "      <td>0.0</td>\n",
       "      <td>0.0</td>\n",
       "      <td>...</td>\n",
       "      <td>5.125213</td>\n",
       "      <td>8.127123</td>\n",
       "      <td>10.908640</td>\n",
       "      <td>5.401607</td>\n",
       "      <td>9.911597</td>\n",
       "      <td>9.045255</td>\n",
       "      <td>9.788359</td>\n",
       "      <td>10.090470</td>\n",
       "      <td>1.683023</td>\n",
       "      <td>0.000000</td>\n",
       "    </tr>\n",
       "    <tr>\n",
       "      <th>3</th>\n",
       "      <td>0.0</td>\n",
       "      <td>3.663618</td>\n",
       "      <td>4.507649</td>\n",
       "      <td>6.659068</td>\n",
       "      <td>10.196184</td>\n",
       "      <td>0.0</td>\n",
       "      <td>7.843375</td>\n",
       "      <td>0.434882</td>\n",
       "      <td>0.0</td>\n",
       "      <td>0.0</td>\n",
       "      <td>...</td>\n",
       "      <td>6.076566</td>\n",
       "      <td>8.792959</td>\n",
       "      <td>10.141520</td>\n",
       "      <td>8.942805</td>\n",
       "      <td>9.601208</td>\n",
       "      <td>11.392682</td>\n",
       "      <td>9.694814</td>\n",
       "      <td>9.684365</td>\n",
       "      <td>3.292001</td>\n",
       "      <td>0.000000</td>\n",
       "    </tr>\n",
       "    <tr>\n",
       "      <th>4</th>\n",
       "      <td>0.0</td>\n",
       "      <td>2.655741</td>\n",
       "      <td>2.821547</td>\n",
       "      <td>6.539454</td>\n",
       "      <td>9.738265</td>\n",
       "      <td>0.0</td>\n",
       "      <td>6.566967</td>\n",
       "      <td>0.360982</td>\n",
       "      <td>0.0</td>\n",
       "      <td>0.0</td>\n",
       "      <td>...</td>\n",
       "      <td>5.996032</td>\n",
       "      <td>8.891425</td>\n",
       "      <td>10.373790</td>\n",
       "      <td>7.181162</td>\n",
       "      <td>9.846910</td>\n",
       "      <td>11.922439</td>\n",
       "      <td>9.217749</td>\n",
       "      <td>9.461191</td>\n",
       "      <td>5.110372</td>\n",
       "      <td>0.000000</td>\n",
       "    </tr>\n",
       "    <tr>\n",
       "      <th>...</th>\n",
       "      <td>...</td>\n",
       "      <td>...</td>\n",
       "      <td>...</td>\n",
       "      <td>...</td>\n",
       "      <td>...</td>\n",
       "      <td>...</td>\n",
       "      <td>...</td>\n",
       "      <td>...</td>\n",
       "      <td>...</td>\n",
       "      <td>...</td>\n",
       "      <td>...</td>\n",
       "      <td>...</td>\n",
       "      <td>...</td>\n",
       "      <td>...</td>\n",
       "      <td>...</td>\n",
       "      <td>...</td>\n",
       "      <td>...</td>\n",
       "      <td>...</td>\n",
       "      <td>...</td>\n",
       "      <td>...</td>\n",
       "      <td>...</td>\n",
       "    </tr>\n",
       "    <tr>\n",
       "      <th>796</th>\n",
       "      <td>0.0</td>\n",
       "      <td>1.865642</td>\n",
       "      <td>2.718197</td>\n",
       "      <td>7.350099</td>\n",
       "      <td>10.006003</td>\n",
       "      <td>0.0</td>\n",
       "      <td>6.764792</td>\n",
       "      <td>0.496922</td>\n",
       "      <td>0.0</td>\n",
       "      <td>0.0</td>\n",
       "      <td>...</td>\n",
       "      <td>6.088133</td>\n",
       "      <td>9.118313</td>\n",
       "      <td>10.004852</td>\n",
       "      <td>4.484415</td>\n",
       "      <td>9.614701</td>\n",
       "      <td>12.031267</td>\n",
       "      <td>9.813063</td>\n",
       "      <td>10.092770</td>\n",
       "      <td>8.819269</td>\n",
       "      <td>0.000000</td>\n",
       "    </tr>\n",
       "    <tr>\n",
       "      <th>797</th>\n",
       "      <td>0.0</td>\n",
       "      <td>3.942955</td>\n",
       "      <td>4.453807</td>\n",
       "      <td>6.346597</td>\n",
       "      <td>10.056868</td>\n",
       "      <td>0.0</td>\n",
       "      <td>7.320331</td>\n",
       "      <td>0.000000</td>\n",
       "      <td>0.0</td>\n",
       "      <td>0.0</td>\n",
       "      <td>...</td>\n",
       "      <td>6.371876</td>\n",
       "      <td>9.623335</td>\n",
       "      <td>9.823921</td>\n",
       "      <td>6.555327</td>\n",
       "      <td>9.064002</td>\n",
       "      <td>11.633422</td>\n",
       "      <td>10.317266</td>\n",
       "      <td>8.745983</td>\n",
       "      <td>9.659081</td>\n",
       "      <td>0.000000</td>\n",
       "    </tr>\n",
       "    <tr>\n",
       "      <th>798</th>\n",
       "      <td>0.0</td>\n",
       "      <td>3.249582</td>\n",
       "      <td>3.707492</td>\n",
       "      <td>8.185901</td>\n",
       "      <td>9.504082</td>\n",
       "      <td>0.0</td>\n",
       "      <td>7.536589</td>\n",
       "      <td>1.811101</td>\n",
       "      <td>0.0</td>\n",
       "      <td>0.0</td>\n",
       "      <td>...</td>\n",
       "      <td>5.719386</td>\n",
       "      <td>8.610704</td>\n",
       "      <td>10.485517</td>\n",
       "      <td>3.589763</td>\n",
       "      <td>9.350636</td>\n",
       "      <td>12.180944</td>\n",
       "      <td>10.681194</td>\n",
       "      <td>9.466711</td>\n",
       "      <td>4.677458</td>\n",
       "      <td>0.586693</td>\n",
       "    </tr>\n",
       "    <tr>\n",
       "      <th>799</th>\n",
       "      <td>0.0</td>\n",
       "      <td>2.590339</td>\n",
       "      <td>2.787976</td>\n",
       "      <td>7.318624</td>\n",
       "      <td>9.987136</td>\n",
       "      <td>0.0</td>\n",
       "      <td>9.213464</td>\n",
       "      <td>0.000000</td>\n",
       "      <td>0.0</td>\n",
       "      <td>0.0</td>\n",
       "      <td>...</td>\n",
       "      <td>5.785237</td>\n",
       "      <td>8.605387</td>\n",
       "      <td>11.004677</td>\n",
       "      <td>4.745888</td>\n",
       "      <td>9.626383</td>\n",
       "      <td>11.198279</td>\n",
       "      <td>10.335513</td>\n",
       "      <td>10.400581</td>\n",
       "      <td>5.718751</td>\n",
       "      <td>0.000000</td>\n",
       "    </tr>\n",
       "    <tr>\n",
       "      <th>800</th>\n",
       "      <td>0.0</td>\n",
       "      <td>2.325242</td>\n",
       "      <td>3.805932</td>\n",
       "      <td>6.530246</td>\n",
       "      <td>9.560367</td>\n",
       "      <td>0.0</td>\n",
       "      <td>7.957027</td>\n",
       "      <td>0.000000</td>\n",
       "      <td>0.0</td>\n",
       "      <td>0.0</td>\n",
       "      <td>...</td>\n",
       "      <td>6.403075</td>\n",
       "      <td>8.594354</td>\n",
       "      <td>10.243079</td>\n",
       "      <td>9.139459</td>\n",
       "      <td>10.102934</td>\n",
       "      <td>11.641081</td>\n",
       "      <td>10.607358</td>\n",
       "      <td>9.844794</td>\n",
       "      <td>4.550716</td>\n",
       "      <td>0.000000</td>\n",
       "    </tr>\n",
       "  </tbody>\n",
       "</table>\n",
       "<p>801 rows × 20531 columns</p>\n",
       "</div>"
      ],
      "text/plain": [
       "     gene_0    gene_1    gene_2    gene_3     gene_4  gene_5    gene_6  \\\n",
       "0       0.0  2.017209  3.265527  5.478487  10.431999     0.0  7.175175   \n",
       "1       0.0  0.592732  1.588421  7.586157   9.623011     0.0  6.816049   \n",
       "2       0.0  3.511759  4.327199  6.881787   9.870730     0.0  6.972130   \n",
       "3       0.0  3.663618  4.507649  6.659068  10.196184     0.0  7.843375   \n",
       "4       0.0  2.655741  2.821547  6.539454   9.738265     0.0  6.566967   \n",
       "..      ...       ...       ...       ...        ...     ...       ...   \n",
       "796     0.0  1.865642  2.718197  7.350099  10.006003     0.0  6.764792   \n",
       "797     0.0  3.942955  4.453807  6.346597  10.056868     0.0  7.320331   \n",
       "798     0.0  3.249582  3.707492  8.185901   9.504082     0.0  7.536589   \n",
       "799     0.0  2.590339  2.787976  7.318624   9.987136     0.0  9.213464   \n",
       "800     0.0  2.325242  3.805932  6.530246   9.560367     0.0  7.957027   \n",
       "\n",
       "       gene_7  gene_8  gene_9  ...  gene_20521  gene_20522  gene_20523  \\\n",
       "0    0.591871     0.0     0.0  ...    4.926711    8.210257    9.723516   \n",
       "1    0.000000     0.0     0.0  ...    4.593372    7.323865    9.740931   \n",
       "2    0.452595     0.0     0.0  ...    5.125213    8.127123   10.908640   \n",
       "3    0.434882     0.0     0.0  ...    6.076566    8.792959   10.141520   \n",
       "4    0.360982     0.0     0.0  ...    5.996032    8.891425   10.373790   \n",
       "..        ...     ...     ...  ...         ...         ...         ...   \n",
       "796  0.496922     0.0     0.0  ...    6.088133    9.118313   10.004852   \n",
       "797  0.000000     0.0     0.0  ...    6.371876    9.623335    9.823921   \n",
       "798  1.811101     0.0     0.0  ...    5.719386    8.610704   10.485517   \n",
       "799  0.000000     0.0     0.0  ...    5.785237    8.605387   11.004677   \n",
       "800  0.000000     0.0     0.0  ...    6.403075    8.594354   10.243079   \n",
       "\n",
       "     gene_20524  gene_20525  gene_20526  gene_20527  gene_20528  gene_20529  \\\n",
       "0      7.220030    9.119813   12.003135    9.650743    8.921326    5.286759   \n",
       "1      6.256586    8.381612   12.674552   10.517059    9.397854    2.094168   \n",
       "2      5.401607    9.911597    9.045255    9.788359   10.090470    1.683023   \n",
       "3      8.942805    9.601208   11.392682    9.694814    9.684365    3.292001   \n",
       "4      7.181162    9.846910   11.922439    9.217749    9.461191    5.110372   \n",
       "..          ...         ...         ...         ...         ...         ...   \n",
       "796    4.484415    9.614701   12.031267    9.813063   10.092770    8.819269   \n",
       "797    6.555327    9.064002   11.633422   10.317266    8.745983    9.659081   \n",
       "798    3.589763    9.350636   12.180944   10.681194    9.466711    4.677458   \n",
       "799    4.745888    9.626383   11.198279   10.335513   10.400581    5.718751   \n",
       "800    9.139459   10.102934   11.641081   10.607358    9.844794    4.550716   \n",
       "\n",
       "     gene_20530  \n",
       "0      0.000000  \n",
       "1      0.000000  \n",
       "2      0.000000  \n",
       "3      0.000000  \n",
       "4      0.000000  \n",
       "..          ...  \n",
       "796    0.000000  \n",
       "797    0.000000  \n",
       "798    0.586693  \n",
       "799    0.000000  \n",
       "800    0.000000  \n",
       "\n",
       "[801 rows x 20531 columns]"
      ]
     },
     "execution_count": 38,
     "metadata": {},
     "output_type": "execute_result"
    }
   ],
   "source": [
    "df_lda = master_data.drop(['Unnamed: 0'], axis=1)\n",
    "df_lda = df_lda.drop(['Class'], axis=1)\n",
    "x_lda = df_lda\n",
    "x_lda"
   ]
  },
  {
   "cell_type": "code",
   "execution_count": 39,
   "id": "91e6438b",
   "metadata": {
    "execution": {
     "iopub.execute_input": "2021-12-10T16:07:17.378341Z",
     "iopub.status.busy": "2021-12-10T16:07:17.377257Z",
     "iopub.status.idle": "2021-12-10T16:07:17.384025Z",
     "shell.execute_reply": "2021-12-10T16:07:17.384705Z",
     "shell.execute_reply.started": "2021-12-10T15:54:36.838613Z"
    },
    "papermill": {
     "duration": 0.13953,
     "end_time": "2021-12-10T16:07:17.384898",
     "exception": false,
     "start_time": "2021-12-10T16:07:17.245368",
     "status": "completed"
    },
    "tags": []
   },
   "outputs": [
    {
     "data": {
      "text/plain": [
       "(801, 20531)"
      ]
     },
     "execution_count": 39,
     "metadata": {},
     "output_type": "execute_result"
    }
   ],
   "source": [
    "x_lda.shape"
   ]
  },
  {
   "cell_type": "code",
   "execution_count": 40,
   "id": "954e2a34",
   "metadata": {
    "execution": {
     "iopub.execute_input": "2021-12-10T16:07:17.658214Z",
     "iopub.status.busy": "2021-12-10T16:07:17.657121Z",
     "iopub.status.idle": "2021-12-10T16:07:17.665686Z",
     "shell.execute_reply": "2021-12-10T16:07:17.666375Z",
     "shell.execute_reply.started": "2021-12-10T15:54:36.855400Z"
    },
    "papermill": {
     "duration": 0.146989,
     "end_time": "2021-12-10T16:07:17.666707",
     "exception": false,
     "start_time": "2021-12-10T16:07:17.519718",
     "status": "completed"
    },
    "tags": []
   },
   "outputs": [
    {
     "data": {
      "text/plain": [
       "array([1, 2, 1, 1, 3, 1, 4, 1, 3, 1, 3, 4, 1, 3, 3, 3, 2, 4, 4, 1, 3, 4,\n",
       "       2, 3, 4, 2, 5, 3, 3, 3, 3, 3, 4, 3, 1, 3, 4, 2, 3, 3, 4, 1, 1, 4,\n",
       "       4, 3, 1, 5, 3, 2, 3, 2, 3, 1, 5, 3, 3, 5, 4, 3, 2, 4, 3, 2, 1, 5,\n",
       "       3, 1, 4, 3, 4, 3, 3, 2, 3, 2, 3, 4, 1, 5, 3, 1, 3, 3, 1, 1, 3, 3,\n",
       "       4, 3, 1, 1, 3, 3, 3, 1, 5, 3, 1, 3, 3, 4, 3, 4, 2, 4, 2, 5, 2, 2,\n",
       "       1, 3, 2, 1, 3, 4, 4, 4, 3, 3, 2, 4, 2, 3, 1, 1, 1, 3, 4, 2, 5, 3,\n",
       "       5, 3, 3, 4, 2, 3, 4, 5, 3, 1, 3, 4, 2, 5, 1, 3, 2, 2, 2, 2, 3, 3,\n",
       "       2, 3, 3, 1, 1, 2, 1, 2, 4, 3, 1, 2, 5, 4, 2, 3, 4, 2, 3, 2, 3, 3,\n",
       "       3, 1, 3, 4, 5, 4, 3, 1, 1, 1, 2, 2, 3, 2, 2, 4, 2, 1, 2, 3, 3, 3,\n",
       "       2, 2, 3, 4, 4, 4, 4, 1, 3, 1, 3, 2, 2, 3, 1, 3, 1, 3, 3, 3, 2, 3,\n",
       "       4, 2, 4, 4, 2, 3, 4, 1, 3, 2, 2, 1, 5, 3, 4, 1, 4, 5, 3, 4, 4, 2,\n",
       "       1, 1, 2, 2, 4, 3, 3, 5, 3, 1, 5, 3, 1, 4, 1, 1, 1, 3, 5, 5, 2, 5,\n",
       "       5, 1, 2, 3, 3, 4, 4, 3, 5, 1, 4, 1, 3, 3, 4, 3, 3, 3, 3, 2, 2, 3,\n",
       "       3, 3, 4, 4, 4, 4, 3, 3, 3, 4, 3, 3, 2, 1, 3, 3, 5, 2, 1, 3, 3, 3,\n",
       "       5, 3, 1, 3, 5, 2, 2, 1, 4, 3, 4, 4, 2, 5, 4, 3, 3, 3, 3, 4, 3, 3,\n",
       "       1, 3, 4, 3, 2, 1, 4, 3, 1, 5, 3, 3, 3, 2, 2, 2, 3, 3, 1, 2, 3, 4,\n",
       "       3, 5, 5, 2, 3, 4, 3, 3, 3, 5, 2, 5, 4, 1, 4, 3, 3, 4, 3, 5, 1, 2,\n",
       "       1, 3, 4, 1, 3, 5, 4, 4, 5, 5, 1, 3, 3, 5, 4, 3, 1, 3, 3, 3, 2, 2,\n",
       "       4, 2, 3, 4, 5, 1, 3, 2, 1, 3, 3, 3, 2, 3, 3, 1, 3, 1, 5, 3, 2, 3,\n",
       "       3, 2, 3, 3, 3, 4, 2, 1, 3, 1, 4, 3, 4, 5, 3, 1, 2, 4, 3, 3, 4, 3,\n",
       "       2, 3, 3, 1, 5, 3, 4, 2, 1, 3, 1, 3, 3, 3, 3, 4, 2, 3, 4, 3, 3, 2,\n",
       "       2, 4, 5, 1, 5, 3, 4, 4, 3, 1, 4, 5, 2, 2, 3, 1, 1, 3, 1, 2, 4, 1,\n",
       "       3, 2, 1, 2, 3, 3, 5, 2, 4, 5, 2, 3, 1, 3, 3, 1, 3, 5, 3, 5, 4, 3,\n",
       "       3, 2, 2, 2, 5, 4, 2, 2, 3, 3, 4, 1, 2, 1, 3, 4, 3, 4, 4, 1, 1, 2,\n",
       "       3, 4, 5, 5, 3, 4, 4, 3, 3, 1, 4, 5, 3, 3, 5, 2, 3, 3, 3, 4, 1, 2,\n",
       "       2, 3, 4, 5, 4, 4, 3, 1, 2, 4, 3, 5, 2, 2, 2, 1, 2, 4, 3, 3, 5, 1,\n",
       "       3, 3, 3, 4, 2, 2, 3, 1, 2, 2, 3, 4, 1, 5, 2, 1, 5, 2, 5, 4, 4, 3,\n",
       "       3, 4, 4, 5, 3, 2, 1, 1, 4, 3, 2, 3, 3, 5, 3, 1, 1, 3, 3, 5, 3, 4,\n",
       "       3, 3, 5, 3, 1, 3, 3, 4, 1, 2, 3, 3, 4, 3, 3, 3, 3, 3, 5, 2, 2, 3,\n",
       "       3, 3, 1, 3, 3, 4, 2, 2, 4, 4, 2, 4, 5, 3, 5, 4, 3, 3, 1, 1, 1, 2,\n",
       "       1, 1, 5, 3, 3, 5, 2, 4, 3, 4, 5, 3, 3, 3, 1, 2, 4, 3, 1, 4, 1, 3,\n",
       "       2, 4, 1, 2, 1, 1, 3, 4, 1, 2, 5, 5, 3, 3, 3, 2, 4, 4, 4, 3, 2, 4,\n",
       "       1, 3, 2, 1, 3, 1, 3, 4, 3, 5, 1, 1, 4, 1, 4, 3, 2, 2, 3, 3, 4, 3,\n",
       "       3, 3, 3, 4, 4, 1, 5, 4, 3, 3, 4, 3, 2, 3, 3, 1, 3, 1, 3, 5, 3, 3,\n",
       "       4, 2, 3, 3, 1, 3, 1, 5, 3, 3, 3, 2, 3, 2, 3, 2, 4, 4, 5, 5, 3, 3,\n",
       "       3, 2, 3, 2, 4, 3, 2, 4, 2, 2, 2, 4, 3, 1, 3, 3, 4, 3, 1, 4, 3, 3,\n",
       "       3, 3, 1, 2, 3, 2, 5, 1, 1])"
      ]
     },
     "execution_count": 40,
     "metadata": {},
     "output_type": "execute_result"
    }
   ],
   "source": [
    "y_lda = master_data['Class']\n",
    "y_lda.values"
   ]
  },
  {
   "cell_type": "code",
   "execution_count": 41,
   "id": "4eb1ac4a",
   "metadata": {
    "execution": {
     "iopub.execute_input": "2021-12-10T16:07:17.938972Z",
     "iopub.status.busy": "2021-12-10T16:07:17.938120Z",
     "iopub.status.idle": "2021-12-10T16:07:25.592636Z",
     "shell.execute_reply": "2021-12-10T16:07:25.593669Z",
     "shell.execute_reply.started": "2021-12-10T15:54:36.878749Z"
    },
    "papermill": {
     "duration": 7.792734,
     "end_time": "2021-12-10T16:07:25.593984",
     "exception": false,
     "start_time": "2021-12-10T16:07:17.801250",
     "status": "completed"
    },
    "tags": []
   },
   "outputs": [],
   "source": [
    "from sklearn.discriminant_analysis import LinearDiscriminantAnalysis as LDA\n",
    "lda = LDA(n_components=2)\n",
    "x_r2 = lda.fit(x_lda,y_lda).transform(x_lda)"
   ]
  },
  {
   "cell_type": "code",
   "execution_count": 42,
   "id": "b980a414",
   "metadata": {
    "execution": {
     "iopub.execute_input": "2021-12-10T16:07:25.897171Z",
     "iopub.status.busy": "2021-12-10T16:07:25.896129Z",
     "iopub.status.idle": "2021-12-10T16:07:25.900636Z",
     "shell.execute_reply": "2021-12-10T16:07:25.899930Z",
     "shell.execute_reply.started": "2021-12-10T15:54:44.076931Z"
    },
    "papermill": {
     "duration": 0.13096,
     "end_time": "2021-12-10T16:07:25.900786",
     "exception": false,
     "start_time": "2021-12-10T16:07:25.769826",
     "status": "completed"
    },
    "tags": []
   },
   "outputs": [
    {
     "data": {
      "text/plain": [
       "array([0.36219022, 0.30156109])"
      ]
     },
     "execution_count": 42,
     "metadata": {},
     "output_type": "execute_result"
    }
   ],
   "source": [
    "lda.explained_variance_ratio_"
   ]
  },
  {
   "cell_type": "code",
   "execution_count": 43,
   "id": "c8387465",
   "metadata": {
    "execution": {
     "iopub.execute_input": "2021-12-10T16:07:26.153698Z",
     "iopub.status.busy": "2021-12-10T16:07:26.146520Z",
     "iopub.status.idle": "2021-12-10T16:07:26.157132Z",
     "shell.execute_reply": "2021-12-10T16:07:26.157739Z",
     "shell.execute_reply.started": "2021-12-10T15:54:44.100763Z"
    },
    "papermill": {
     "duration": 0.139507,
     "end_time": "2021-12-10T16:07:26.157922",
     "exception": false,
     "start_time": "2021-12-10T16:07:26.018415",
     "status": "completed"
    },
    "tags": []
   },
   "outputs": [
    {
     "data": {
      "text/html": [
       "<div>\n",
       "<style scoped>\n",
       "    .dataframe tbody tr th:only-of-type {\n",
       "        vertical-align: middle;\n",
       "    }\n",
       "\n",
       "    .dataframe tbody tr th {\n",
       "        vertical-align: top;\n",
       "    }\n",
       "\n",
       "    .dataframe thead th {\n",
       "        text-align: right;\n",
       "    }\n",
       "</style>\n",
       "<table border=\"1\" class=\"dataframe\">\n",
       "  <thead>\n",
       "    <tr style=\"text-align: right;\">\n",
       "      <th></th>\n",
       "      <th>0</th>\n",
       "      <th>1</th>\n",
       "      <th>y</th>\n",
       "    </tr>\n",
       "  </thead>\n",
       "  <tbody>\n",
       "    <tr>\n",
       "      <th>0</th>\n",
       "      <td>-7.958125</td>\n",
       "      <td>10.922818</td>\n",
       "      <td>1</td>\n",
       "    </tr>\n",
       "    <tr>\n",
       "      <th>1</th>\n",
       "      <td>-0.301563</td>\n",
       "      <td>-2.780898</td>\n",
       "      <td>2</td>\n",
       "    </tr>\n",
       "    <tr>\n",
       "      <th>2</th>\n",
       "      <td>-6.424952</td>\n",
       "      <td>8.870978</td>\n",
       "      <td>1</td>\n",
       "    </tr>\n",
       "    <tr>\n",
       "      <th>3</th>\n",
       "      <td>-6.934259</td>\n",
       "      <td>10.417199</td>\n",
       "      <td>1</td>\n",
       "    </tr>\n",
       "    <tr>\n",
       "      <th>4</th>\n",
       "      <td>-2.872004</td>\n",
       "      <td>-4.912284</td>\n",
       "      <td>3</td>\n",
       "    </tr>\n",
       "    <tr>\n",
       "      <th>...</th>\n",
       "      <td>...</td>\n",
       "      <td>...</td>\n",
       "      <td>...</td>\n",
       "    </tr>\n",
       "    <tr>\n",
       "      <th>796</th>\n",
       "      <td>-2.491183</td>\n",
       "      <td>-6.516482</td>\n",
       "      <td>3</td>\n",
       "    </tr>\n",
       "    <tr>\n",
       "      <th>797</th>\n",
       "      <td>0.217789</td>\n",
       "      <td>-1.859410</td>\n",
       "      <td>2</td>\n",
       "    </tr>\n",
       "    <tr>\n",
       "      <th>798</th>\n",
       "      <td>-1.426674</td>\n",
       "      <td>-0.474514</td>\n",
       "      <td>5</td>\n",
       "    </tr>\n",
       "    <tr>\n",
       "      <th>799</th>\n",
       "      <td>-7.800641</td>\n",
       "      <td>12.104337</td>\n",
       "      <td>1</td>\n",
       "    </tr>\n",
       "    <tr>\n",
       "      <th>800</th>\n",
       "      <td>-7.306312</td>\n",
       "      <td>7.388476</td>\n",
       "      <td>1</td>\n",
       "    </tr>\n",
       "  </tbody>\n",
       "</table>\n",
       "<p>801 rows × 3 columns</p>\n",
       "</div>"
      ],
      "text/plain": [
       "            0          1  y\n",
       "0   -7.958125  10.922818  1\n",
       "1   -0.301563  -2.780898  2\n",
       "2   -6.424952   8.870978  1\n",
       "3   -6.934259  10.417199  1\n",
       "4   -2.872004  -4.912284  3\n",
       "..        ...        ... ..\n",
       "796 -2.491183  -6.516482  3\n",
       "797  0.217789  -1.859410  2\n",
       "798 -1.426674  -0.474514  5\n",
       "799 -7.800641  12.104337  1\n",
       "800 -7.306312   7.388476  1\n",
       "\n",
       "[801 rows x 3 columns]"
      ]
     },
     "execution_count": 43,
     "metadata": {},
     "output_type": "execute_result"
    }
   ],
   "source": [
    "x_r3 = pd.DataFrame(data=x_r2)\n",
    "x_r3['y']=y_lda\n",
    "x_r3"
   ]
  },
  {
   "cell_type": "code",
   "execution_count": 44,
   "id": "b7a51f73",
   "metadata": {
    "execution": {
     "iopub.execute_input": "2021-12-10T16:07:26.411455Z",
     "iopub.status.busy": "2021-12-10T16:07:26.409912Z",
     "iopub.status.idle": "2021-12-10T16:07:26.922821Z",
     "shell.execute_reply": "2021-12-10T16:07:26.922201Z",
     "shell.execute_reply.started": "2021-12-10T15:54:44.149803Z"
    },
    "papermill": {
     "duration": 0.645154,
     "end_time": "2021-12-10T16:07:26.922971",
     "exception": false,
     "start_time": "2021-12-10T16:07:26.277817",
     "status": "completed"
    },
    "tags": []
   },
   "outputs": [
    {
     "data": {
      "text/plain": [
       "<AxesSubplot:xlabel='0', ylabel='1'>"
      ]
     },
     "execution_count": 44,
     "metadata": {},
     "output_type": "execute_result"
    },
    {
     "data": {
      "image/png": "[encoded data removed]",
      "text/plain": [
       "<Figure size 432x288 with 1 Axes>"
      ]
     },
     "metadata": {
      "needs_background": "light"
     },
     "output_type": "display_data"
    }
   ],
   "source": [
    "sns.scatterplot(x=0,y=1,hue = 'y', data=x_r3)"
   ]
  },
  {
   "cell_type": "markdown",
   "id": "8bd21519",
   "metadata": {
    "papermill": {
     "duration": 0.122561,
     "end_time": "2021-12-10T16:07:27.165758",
     "exception": false,
     "start_time": "2021-12-10T16:07:27.043197",
     "status": "completed"
    },
    "tags": []
   },
   "source": [
    "## Project Task: Week 3: Clustering Genes and Samples:\n",
    "\n",
    "#### Project Task: Week 3: \n",
    "\n",
    "Clustering Genes and Samples:\n",
    "\n",
    "Our next goal is to identify groups of genes that behave similarly across samples and identify the distribution of samples corresponding to each cancer type. Therefore, this task focuses on applying various clustering techniques, e.g., k-means, hierarchical, and mean-shift clustering, on genes and samples.\n",
    "\n",
    " \n",
    "\n",
    "First, apply the given clustering technique on all genes to identify:\n",
    "\n",
    "Genes whose expression values are similar across all samples\n",
    "\n",
    "Genes whose expression values are similar across samples of each cancer type \n",
    "\n",
    " \n",
    "\n",
    "Next, apply the given clustering technique on all samples to identify:\n",
    "\n",
    "Samples of the same class (cancer type) which also correspond to the same cluster\n",
    "\n",
    "Samples identified to be belonging to another cluster but also to the same class (cancer type)\n",
    "\n",
    " \n",
    "\n",
    "\n",
    "### KMEANS Clustering with PCA = 2"
   ]
  },
  {
   "cell_type": "code",
   "execution_count": 45,
   "id": "34176a4d",
   "metadata": {
    "execution": {
     "iopub.execute_input": "2021-12-10T16:07:27.453276Z",
     "iopub.status.busy": "2021-12-10T16:07:27.452216Z",
     "iopub.status.idle": "2021-12-10T16:07:27.567436Z",
     "shell.execute_reply": "2021-12-10T16:07:27.568191Z",
     "shell.execute_reply.started": "2021-12-10T15:54:44.633990Z"
    },
    "papermill": {
     "duration": 0.27725,
     "end_time": "2021-12-10T16:07:27.568427",
     "exception": false,
     "start_time": "2021-12-10T16:07:27.291177",
     "status": "completed"
    },
    "tags": []
   },
   "outputs": [
    {
     "data": {
      "text/plain": [
       "array([4, 3, 0, 0, 2, 3, 1, 3, 2, 0, 3, 1, 3, 4, 2, 2, 3, 1, 1, 0, 2, 3,\n",
       "       3, 0, 1, 3, 0, 2, 3, 2, 2, 2, 1, 4, 0, 2, 1, 3, 3, 4, 1, 0, 3, 1,\n",
       "       1, 2, 4, 0, 2, 3, 2, 0, 2, 3, 0, 0, 2, 0, 1, 3, 3, 3, 2, 3, 0, 0,\n",
       "       3, 0, 1, 0, 1, 3, 0, 3, 2, 0, 2, 4, 3, 0, 2, 3, 2, 2, 4, 3, 2, 0,\n",
       "       1, 0, 0, 0, 2, 4, 2, 0, 0, 2, 2, 3, 2, 1, 2, 1, 3, 1, 0, 0, 0, 2,\n",
       "       4, 2, 3, 3, 2, 1, 1, 1, 2, 2, 3, 1, 3, 0, 3, 3, 0, 2, 1, 0, 0, 0,\n",
       "       4, 3, 2, 1, 1, 2, 1, 0, 2, 0, 2, 1, 3, 0, 4, 2, 3, 0, 3, 3, 2, 2,\n",
       "       3, 3, 2, 3, 0, 3, 4, 3, 1, 3, 3, 3, 0, 1, 3, 2, 1, 3, 2, 0, 2, 0,\n",
       "       3, 3, 2, 1, 0, 1, 2, 3, 0, 3, 3, 3, 2, 3, 3, 1, 4, 2, 3, 2, 4, 2,\n",
       "       0, 3, 2, 1, 1, 1, 1, 2, 4, 0, 3, 3, 3, 2, 3, 0, 3, 2, 2, 2, 3, 3,\n",
       "       1, 3, 1, 1, 3, 2, 1, 0, 2, 3, 4, 2, 0, 4, 1, 3, 1, 0, 3, 1, 1, 2,\n",
       "       0, 3, 3, 3, 1, 2, 2, 0, 2, 0, 3, 2, 3, 1, 4, 3, 3, 2, 3, 0, 2, 0,\n",
       "       0, 0, 2, 0, 2, 1, 1, 2, 0, 4, 1, 3, 2, 2, 1, 2, 2, 2, 4, 3, 3, 2,\n",
       "       2, 2, 1, 1, 1, 1, 4, 2, 2, 1, 2, 2, 3, 3, 3, 2, 0, 3, 0, 2, 2, 2,\n",
       "       4, 3, 2, 2, 0, 0, 3, 0, 1, 0, 1, 1, 2, 0, 3, 2, 2, 2, 2, 1, 2, 2,\n",
       "       0, 0, 1, 2, 3, 3, 1, 2, 0, 0, 3, 2, 2, 3, 4, 3, 2, 2, 3, 3, 2, 1,\n",
       "       2, 0, 3, 3, 2, 1, 2, 2, 0, 0, 3, 0, 3, 0, 1, 3, 2, 1, 2, 0, 0, 3,\n",
       "       0, 4, 1, 0, 2, 0, 1, 1, 0, 0, 0, 2, 4, 0, 1, 4, 3, 0, 2, 2, 3, 3,\n",
       "       1, 3, 2, 1, 0, 2, 2, 3, 3, 0, 4, 2, 3, 2, 0, 3, 3, 3, 0, 2, 2, 2,\n",
       "       2, 3, 2, 3, 2, 1, 3, 2, 2, 3, 1, 0, 1, 4, 2, 0, 3, 1, 2, 2, 1, 2,\n",
       "       3, 0, 2, 3, 4, 0, 1, 3, 4, 0, 0, 2, 2, 2, 2, 1, 2, 3, 1, 2, 2, 0,\n",
       "       3, 1, 0, 3, 0, 3, 1, 1, 0, 3, 1, 3, 3, 3, 2, 3, 3, 3, 2, 2, 1, 3,\n",
       "       3, 4, 2, 4, 2, 2, 0, 3, 1, 0, 3, 0, 0, 4, 3, 3, 2, 0, 2, 4, 1, 2,\n",
       "       2, 0, 2, 2, 0, 1, 3, 3, 2, 2, 3, 2, 0, 3, 2, 1, 0, 1, 1, 4, 3, 3,\n",
       "       3, 1, 0, 0, 2, 1, 1, 2, 3, 3, 1, 0, 3, 2, 0, 3, 2, 3, 2, 1, 2, 0,\n",
       "       3, 0, 1, 0, 1, 1, 0, 3, 0, 1, 2, 0, 0, 3, 3, 3, 3, 1, 2, 2, 0, 3,\n",
       "       2, 2, 2, 1, 3, 0, 0, 0, 0, 2, 2, 1, 0, 4, 3, 3, 0, 3, 4, 1, 1, 2,\n",
       "       2, 1, 1, 0, 2, 3, 0, 0, 1, 2, 3, 2, 3, 0, 3, 4, 3, 3, 2, 4, 2, 1,\n",
       "       2, 3, 3, 2, 3, 0, 2, 1, 0, 3, 2, 2, 1, 3, 2, 2, 2, 4, 0, 3, 3, 0,\n",
       "       2, 2, 3, 2, 2, 1, 0, 2, 1, 1, 3, 1, 0, 3, 4, 1, 2, 2, 3, 3, 0, 3,\n",
       "       0, 2, 0, 2, 2, 0, 0, 1, 2, 1, 0, 2, 2, 3, 2, 3, 1, 2, 2, 1, 0, 2,\n",
       "       3, 1, 0, 3, 3, 3, 4, 1, 0, 3, 0, 0, 2, 3, 2, 3, 1, 1, 1, 3, 3, 1,\n",
       "       3, 2, 3, 4, 2, 0, 2, 1, 3, 3, 3, 3, 1, 3, 1, 2, 3, 3, 2, 4, 1, 2,\n",
       "       0, 2, 0, 1, 1, 3, 0, 1, 0, 4, 1, 2, 3, 2, 0, 2, 4, 0, 3, 0, 3, 2,\n",
       "       1, 3, 2, 2, 3, 2, 0, 3, 2, 3, 2, 3, 2, 3, 3, 3, 1, 1, 0, 0, 2, 2,\n",
       "       2, 0, 2, 3, 3, 3, 3, 1, 0, 3, 0, 1, 2, 4, 0, 0, 1, 2, 2, 3, 2, 2,\n",
       "       2, 2, 2, 2, 2, 0, 3, 0, 3], dtype=int32)"
      ]
     },
     "execution_count": 45,
     "metadata": {},
     "output_type": "execute_result"
    }
   ],
   "source": [
    "from sklearn.cluster import KMeans\n",
    "clusters = KMeans(5, n_init = 5)\n",
    "clusters.fit(X_pca_with_2)\n",
    "\n",
    "clusters.labels_"
   ]
  },
  {
   "cell_type": "code",
   "execution_count": 46,
   "id": "56089a21",
   "metadata": {
    "execution": {
     "iopub.execute_input": "2021-12-10T16:07:27.859141Z",
     "iopub.status.busy": "2021-12-10T16:07:27.858304Z",
     "iopub.status.idle": "2021-12-10T16:07:27.861852Z",
     "shell.execute_reply": "2021-12-10T16:07:27.862412Z",
     "shell.execute_reply.started": "2021-12-10T15:54:44.745569Z"
    },
    "papermill": {
     "duration": 0.135899,
     "end_time": "2021-12-10T16:07:27.862613",
     "exception": false,
     "start_time": "2021-12-10T16:07:27.726714",
     "status": "completed"
    },
    "tags": []
   },
   "outputs": [
    {
     "data": {
      "text/html": [
       "<div>\n",
       "<style scoped>\n",
       "    .dataframe tbody tr th:only-of-type {\n",
       "        vertical-align: middle;\n",
       "    }\n",
       "\n",
       "    .dataframe tbody tr th {\n",
       "        vertical-align: top;\n",
       "    }\n",
       "\n",
       "    .dataframe thead th {\n",
       "        text-align: right;\n",
       "    }\n",
       "</style>\n",
       "<table border=\"1\" class=\"dataframe\">\n",
       "  <thead>\n",
       "    <tr style=\"text-align: right;\">\n",
       "      <th></th>\n",
       "      <th>pca1</th>\n",
       "      <th>pca2</th>\n",
       "    </tr>\n",
       "  </thead>\n",
       "  <tbody>\n",
       "    <tr>\n",
       "      <th>0</th>\n",
       "      <td>-57.446987</td>\n",
       "      <td>95.410981</td>\n",
       "    </tr>\n",
       "    <tr>\n",
       "      <th>1</th>\n",
       "      <td>-16.919430</td>\n",
       "      <td>0.732470</td>\n",
       "    </tr>\n",
       "    <tr>\n",
       "      <th>2</th>\n",
       "      <td>-70.345218</td>\n",
       "      <td>-19.303327</td>\n",
       "    </tr>\n",
       "    <tr>\n",
       "      <th>3</th>\n",
       "      <td>-49.161592</td>\n",
       "      <td>-9.227587</td>\n",
       "    </tr>\n",
       "    <tr>\n",
       "      <th>4</th>\n",
       "      <td>-18.132534</td>\n",
       "      <td>-51.327797</td>\n",
       "    </tr>\n",
       "  </tbody>\n",
       "</table>\n",
       "</div>"
      ],
      "text/plain": [
       "        pca1       pca2\n",
       "0 -57.446987  95.410981\n",
       "1 -16.919430   0.732470\n",
       "2 -70.345218 -19.303327\n",
       "3 -49.161592  -9.227587\n",
       "4 -18.132534 -51.327797"
      ]
     },
     "execution_count": 46,
     "metadata": {},
     "output_type": "execute_result"
    }
   ],
   "source": [
    "pca_with_2_data_frame = pd.DataFrame(data=X_pca_with_2,columns=['pca1','pca2'])\n",
    "pca_with_2_data_frame.head()"
   ]
  },
  {
   "cell_type": "code",
   "execution_count": 47,
   "id": "d41688c0",
   "metadata": {
    "execution": {
     "iopub.execute_input": "2021-12-10T16:07:28.109219Z",
     "iopub.status.busy": "2021-12-10T16:07:28.108077Z",
     "iopub.status.idle": "2021-12-10T16:07:28.125339Z",
     "shell.execute_reply": "2021-12-10T16:07:28.124749Z",
     "shell.execute_reply.started": "2021-12-10T15:54:44.759411Z"
    },
    "papermill": {
     "duration": 0.142207,
     "end_time": "2021-12-10T16:07:28.125488",
     "exception": false,
     "start_time": "2021-12-10T16:07:27.983281",
     "status": "completed"
    },
    "tags": []
   },
   "outputs": [
    {
     "data": {
      "text/html": [
       "<div>\n",
       "<style scoped>\n",
       "    .dataframe tbody tr th:only-of-type {\n",
       "        vertical-align: middle;\n",
       "    }\n",
       "\n",
       "    .dataframe tbody tr th {\n",
       "        vertical-align: top;\n",
       "    }\n",
       "\n",
       "    .dataframe thead th {\n",
       "        text-align: right;\n",
       "    }\n",
       "</style>\n",
       "<table border=\"1\" class=\"dataframe\">\n",
       "  <thead>\n",
       "    <tr style=\"text-align: right;\">\n",
       "      <th></th>\n",
       "      <th>pca1</th>\n",
       "      <th>pca2</th>\n",
       "      <th>Cls_label</th>\n",
       "      <th>given_cancer_type</th>\n",
       "    </tr>\n",
       "  </thead>\n",
       "  <tbody>\n",
       "    <tr>\n",
       "      <th>0</th>\n",
       "      <td>-57.446987</td>\n",
       "      <td>95.410981</td>\n",
       "      <td>4</td>\n",
       "      <td>PRAD</td>\n",
       "    </tr>\n",
       "    <tr>\n",
       "      <th>1</th>\n",
       "      <td>-16.919430</td>\n",
       "      <td>0.732470</td>\n",
       "      <td>3</td>\n",
       "      <td>LUAD</td>\n",
       "    </tr>\n",
       "    <tr>\n",
       "      <th>2</th>\n",
       "      <td>-70.345218</td>\n",
       "      <td>-19.303327</td>\n",
       "      <td>0</td>\n",
       "      <td>PRAD</td>\n",
       "    </tr>\n",
       "    <tr>\n",
       "      <th>3</th>\n",
       "      <td>-49.161592</td>\n",
       "      <td>-9.227587</td>\n",
       "      <td>0</td>\n",
       "      <td>PRAD</td>\n",
       "    </tr>\n",
       "    <tr>\n",
       "      <th>4</th>\n",
       "      <td>-18.132534</td>\n",
       "      <td>-51.327797</td>\n",
       "      <td>2</td>\n",
       "      <td>BRCA</td>\n",
       "    </tr>\n",
       "    <tr>\n",
       "      <th>...</th>\n",
       "      <td>...</td>\n",
       "      <td>...</td>\n",
       "      <td>...</td>\n",
       "      <td>...</td>\n",
       "    </tr>\n",
       "    <tr>\n",
       "      <th>796</th>\n",
       "      <td>-12.417385</td>\n",
       "      <td>-42.321573</td>\n",
       "      <td>2</td>\n",
       "      <td>BRCA</td>\n",
       "    </tr>\n",
       "    <tr>\n",
       "      <th>797</th>\n",
       "      <td>-29.415553</td>\n",
       "      <td>28.526282</td>\n",
       "      <td>0</td>\n",
       "      <td>LUAD</td>\n",
       "    </tr>\n",
       "    <tr>\n",
       "      <th>798</th>\n",
       "      <td>-4.133088</td>\n",
       "      <td>15.690016</td>\n",
       "      <td>3</td>\n",
       "      <td>COAD</td>\n",
       "    </tr>\n",
       "    <tr>\n",
       "      <th>799</th>\n",
       "      <td>-30.814758</td>\n",
       "      <td>33.526422</td>\n",
       "      <td>0</td>\n",
       "      <td>PRAD</td>\n",
       "    </tr>\n",
       "    <tr>\n",
       "      <th>800</th>\n",
       "      <td>-22.344557</td>\n",
       "      <td>4.052356</td>\n",
       "      <td>3</td>\n",
       "      <td>PRAD</td>\n",
       "    </tr>\n",
       "  </tbody>\n",
       "</table>\n",
       "<p>801 rows × 4 columns</p>\n",
       "</div>"
      ],
      "text/plain": [
       "          pca1       pca2  Cls_label given_cancer_type\n",
       "0   -57.446987  95.410981          4              PRAD\n",
       "1   -16.919430   0.732470          3              LUAD\n",
       "2   -70.345218 -19.303327          0              PRAD\n",
       "3   -49.161592  -9.227587          0              PRAD\n",
       "4   -18.132534 -51.327797          2              BRCA\n",
       "..         ...        ...        ...               ...\n",
       "796 -12.417385 -42.321573          2              BRCA\n",
       "797 -29.415553  28.526282          0              LUAD\n",
       "798  -4.133088  15.690016          3              COAD\n",
       "799 -30.814758  33.526422          0              PRAD\n",
       "800 -22.344557   4.052356          3              PRAD\n",
       "\n",
       "[801 rows x 4 columns]"
      ]
     },
     "execution_count": 47,
     "metadata": {},
     "output_type": "execute_result"
    }
   ],
   "source": [
    "pca_with_2_data_frame['Cls_label'] = clusters.labels_\n",
    "pca_with_2_data_frame['given_cancer_type'] = label.Class.values\n",
    "pca_with_2_data_frame"
   ]
  },
  {
   "cell_type": "code",
   "execution_count": 48,
   "id": "3000f38f",
   "metadata": {
    "execution": {
     "iopub.execute_input": "2021-12-10T16:07:28.385077Z",
     "iopub.status.busy": "2021-12-10T16:07:28.379690Z",
     "iopub.status.idle": "2021-12-10T16:07:28.389886Z",
     "shell.execute_reply": "2021-12-10T16:07:28.389253Z",
     "shell.execute_reply.started": "2021-12-10T15:54:44.782827Z"
    },
    "papermill": {
     "duration": 0.140664,
     "end_time": "2021-12-10T16:07:28.390058",
     "exception": false,
     "start_time": "2021-12-10T16:07:28.249394",
     "status": "completed"
    },
    "tags": []
   },
   "outputs": [
    {
     "data": {
      "text/plain": [
       "2    202\n",
       "3     44\n",
       "0     35\n",
       "4     19\n",
       "Name: Cls_label, dtype: int64"
      ]
     },
     "execution_count": 48,
     "metadata": {},
     "output_type": "execute_result"
    }
   ],
   "source": [
    "brca = pca_with_2_data_frame.groupby('given_cancer_type').get_group('BRCA')\n",
    "brca.Cls_label.value_counts()"
   ]
  },
  {
   "cell_type": "code",
   "execution_count": 49,
   "id": "98734f02",
   "metadata": {
    "execution": {
     "iopub.execute_input": "2021-12-10T16:07:28.642262Z",
     "iopub.status.busy": "2021-12-10T16:07:28.641517Z",
     "iopub.status.idle": "2021-12-10T16:07:28.647910Z",
     "shell.execute_reply": "2021-12-10T16:07:28.648488Z",
     "shell.execute_reply.started": "2021-12-10T15:54:44.805810Z"
    },
    "papermill": {
     "duration": 0.133614,
     "end_time": "2021-12-10T16:07:28.648716",
     "exception": false,
     "start_time": "2021-12-10T16:07:28.515102",
     "status": "completed"
    },
    "tags": []
   },
   "outputs": [
    {
     "data": {
      "text/plain": [
       "3    99\n",
       "0    23\n",
       "2    13\n",
       "4     5\n",
       "1     1\n",
       "Name: Cls_label, dtype: int64"
      ]
     },
     "execution_count": 49,
     "metadata": {},
     "output_type": "execute_result"
    }
   ],
   "source": [
    "luad = pca_with_2_data_frame.groupby('given_cancer_type').get_group('LUAD')\n",
    "luad.Cls_label.value_counts()"
   ]
  },
  {
   "cell_type": "code",
   "execution_count": 50,
   "id": "159ed165",
   "metadata": {
    "execution": {
     "iopub.execute_input": "2021-12-10T16:07:28.900193Z",
     "iopub.status.busy": "2021-12-10T16:07:28.899399Z",
     "iopub.status.idle": "2021-12-10T16:07:28.908035Z",
     "shell.execute_reply": "2021-12-10T16:07:28.908614Z",
     "shell.execute_reply.started": "2021-12-10T15:54:44.824887Z"
    },
    "papermill": {
     "duration": 0.137292,
     "end_time": "2021-12-10T16:07:28.908798",
     "exception": false,
     "start_time": "2021-12-10T16:07:28.771506",
     "status": "completed"
    },
    "tags": []
   },
   "outputs": [
    {
     "data": {
      "text/plain": [
       "0    61\n",
       "4     9\n",
       "3     8\n",
       "Name: Cls_label, dtype: int64"
      ]
     },
     "execution_count": 50,
     "metadata": {},
     "output_type": "execute_result"
    }
   ],
   "source": [
    "coad = pca_with_2_data_frame.groupby('given_cancer_type').get_group('COAD')\n",
    "coad.Cls_label.value_counts()"
   ]
  },
  {
   "cell_type": "code",
   "execution_count": 51,
   "id": "14c5c6a1",
   "metadata": {
    "execution": {
     "iopub.execute_input": "2021-12-10T16:07:29.163283Z",
     "iopub.status.busy": "2021-12-10T16:07:29.162579Z",
     "iopub.status.idle": "2021-12-10T16:07:29.170941Z",
     "shell.execute_reply": "2021-12-10T16:07:29.171524Z",
     "shell.execute_reply.started": "2021-12-10T15:54:44.851525Z"
    },
    "papermill": {
     "duration": 0.140054,
     "end_time": "2021-12-10T16:07:29.171732",
     "exception": false,
     "start_time": "2021-12-10T16:07:29.031678",
     "status": "completed"
    },
    "tags": []
   },
   "outputs": [
    {
     "data": {
      "text/plain": [
       "3    60\n",
       "0    46\n",
       "2    17\n",
       "4    13\n",
       "Name: Cls_label, dtype: int64"
      ]
     },
     "execution_count": 51,
     "metadata": {},
     "output_type": "execute_result"
    }
   ],
   "source": [
    "prad = pca_with_2_data_frame.groupby('given_cancer_type').get_group('PRAD')\n",
    "prad.Cls_label.value_counts()"
   ]
  },
  {
   "cell_type": "code",
   "execution_count": 52,
   "id": "f1069b93",
   "metadata": {
    "execution": {
     "iopub.execute_input": "2021-12-10T16:07:29.433200Z",
     "iopub.status.busy": "2021-12-10T16:07:29.432199Z",
     "iopub.status.idle": "2021-12-10T16:07:29.435883Z",
     "shell.execute_reply": "2021-12-10T16:07:29.436531Z",
     "shell.execute_reply.started": "2021-12-10T15:54:44.866261Z"
    },
    "papermill": {
     "duration": 0.138604,
     "end_time": "2021-12-10T16:07:29.436759",
     "exception": false,
     "start_time": "2021-12-10T16:07:29.298155",
     "status": "completed"
    },
    "tags": []
   },
   "outputs": [
    {
     "data": {
      "text/plain": [
       "1    138\n",
       "3      7\n",
       "4      1\n",
       "Name: Cls_label, dtype: int64"
      ]
     },
     "execution_count": 52,
     "metadata": {},
     "output_type": "execute_result"
    }
   ],
   "source": [
    "kirc = pca_with_2_data_frame.groupby('given_cancer_type').get_group('KIRC')\n",
    "kirc.Cls_label.value_counts()"
   ]
  },
  {
   "cell_type": "code",
   "execution_count": 53,
   "id": "98614012",
   "metadata": {
    "execution": {
     "iopub.execute_input": "2021-12-10T16:07:29.701977Z",
     "iopub.status.busy": "2021-12-10T16:07:29.698501Z",
     "iopub.status.idle": "2021-12-10T16:07:29.706521Z",
     "shell.execute_reply": "2021-12-10T16:07:29.705966Z",
     "shell.execute_reply.started": "2021-12-10T15:54:44.884864Z"
    },
    "papermill": {
     "duration": 0.141338,
     "end_time": "2021-12-10T16:07:29.706704",
     "exception": false,
     "start_time": "2021-12-10T16:07:29.565366",
     "status": "completed"
    },
    "tags": []
   },
   "outputs": [
    {
     "data": {
      "text/plain": [
       "array([[-45.2036914 ,  15.07808384],\n",
       "       [ 80.93171913,  32.80898513],\n",
       "       [ -2.18176324, -51.44997284],\n",
       "       [ -2.06263927,   6.32719159],\n",
       "       [-60.32075417,  74.65389715]])"
      ]
     },
     "execution_count": 53,
     "metadata": {},
     "output_type": "execute_result"
    }
   ],
   "source": [
    "clusters.cluster_centers_"
   ]
  },
  {
   "cell_type": "code",
   "execution_count": 54,
   "id": "7e941fe2",
   "metadata": {
    "execution": {
     "iopub.execute_input": "2021-12-10T16:07:29.971885Z",
     "iopub.status.busy": "2021-12-10T16:07:29.970761Z",
     "iopub.status.idle": "2021-12-10T16:07:30.350866Z",
     "shell.execute_reply": "2021-12-10T16:07:30.351435Z",
     "shell.execute_reply.started": "2021-12-10T15:54:44.893962Z"
    },
    "papermill": {
     "duration": 0.51535,
     "end_time": "2021-12-10T16:07:30.351682",
     "exception": false,
     "start_time": "2021-12-10T16:07:29.836332",
     "status": "completed"
    },
    "tags": []
   },
   "outputs": [
    {
     "data": {
      "image/png": "[encoded data removed]",
      "text/plain": [
       "<Figure size 432x288 with 1 Axes>"
      ]
     },
     "metadata": {
      "needs_background": "light"
     },
     "output_type": "display_data"
    }
   ],
   "source": [
    "kmeans = KMeans(n_clusters=5, init='k-means++', max_iter=300, n_init=10, random_state=0)\n",
    "pred_y = kmeans.fit_predict(X_pca_with_2)\n",
    "plt.scatter(X_pca_with_2[:,0], X_pca_with_2[:,1])\n",
    "plt.scatter(kmeans.cluster_centers_[:, 0], kmeans.cluster_centers_[:, 1], s=300, c='red')\n",
    "plt.show()"
   ]
  },
  {
   "cell_type": "markdown",
   "id": "b8d69c7d",
   "metadata": {
    "papermill": {
     "duration": 0.132401,
     "end_time": "2021-12-10T16:07:30.615807",
     "exception": false,
     "start_time": "2021-12-10T16:07:30.483406",
     "status": "completed"
    },
    "tags": []
   },
   "source": [
    "## KMEANS Clustering with PCA = .995"
   ]
  },
  {
   "cell_type": "code",
   "execution_count": 55,
   "id": "ef091e11",
   "metadata": {
    "execution": {
     "iopub.execute_input": "2021-12-10T16:07:30.876506Z",
     "iopub.status.busy": "2021-12-10T16:07:30.875366Z",
     "iopub.status.idle": "2021-12-10T16:07:31.668534Z",
     "shell.execute_reply": "2021-12-10T16:07:31.667167Z",
     "shell.execute_reply.started": "2021-12-10T15:54:45.247419Z"
    },
    "papermill": {
     "duration": 0.925136,
     "end_time": "2021-12-10T16:07:31.668759",
     "exception": false,
     "start_time": "2021-12-10T16:07:30.743623",
     "status": "completed"
    },
    "tags": []
   },
   "outputs": [
    {
     "data": {
      "text/plain": [
       "array([2, 4, 2, 2, 0, 2, 1, 2, 0, 2, 0, 1, 2, 0, 0, 0, 4, 1, 1, 2, 0, 1,\n",
       "       4, 0, 1, 4, 3, 0, 0, 0, 0, 0, 1, 0, 2, 0, 1, 4, 0, 0, 1, 2, 2, 1,\n",
       "       1, 0, 2, 3, 0, 4, 0, 4, 0, 2, 3, 0, 0, 3, 1, 0, 4, 0, 0, 4, 2, 3,\n",
       "       0, 2, 1, 0, 1, 0, 0, 4, 0, 4, 0, 1, 2, 3, 0, 2, 0, 0, 2, 2, 0, 0,\n",
       "       1, 0, 2, 2, 0, 0, 0, 2, 3, 0, 2, 0, 0, 1, 0, 1, 4, 1, 4, 3, 4, 4,\n",
       "       2, 0, 4, 2, 0, 1, 1, 1, 0, 0, 4, 1, 4, 0, 2, 2, 2, 0, 1, 0, 3, 0,\n",
       "       3, 0, 0, 1, 4, 0, 1, 3, 0, 2, 0, 1, 4, 3, 2, 0, 4, 4, 4, 4, 0, 0,\n",
       "       4, 0, 0, 2, 2, 4, 2, 4, 1, 0, 2, 4, 3, 1, 4, 0, 1, 4, 0, 4, 0, 0,\n",
       "       0, 2, 0, 1, 3, 1, 0, 2, 2, 2, 4, 4, 0, 4, 4, 1, 4, 2, 4, 0, 0, 0,\n",
       "       4, 4, 0, 1, 1, 1, 1, 2, 0, 2, 0, 4, 4, 0, 2, 0, 2, 0, 0, 0, 4, 0,\n",
       "       1, 4, 1, 1, 4, 0, 1, 2, 0, 4, 4, 2, 3, 0, 1, 2, 1, 3, 0, 1, 1, 4,\n",
       "       2, 2, 4, 4, 1, 0, 0, 3, 0, 2, 3, 0, 2, 1, 2, 2, 2, 0, 3, 3, 4, 3,\n",
       "       3, 2, 4, 0, 0, 1, 1, 0, 3, 2, 1, 2, 0, 0, 1, 0, 0, 0, 0, 4, 4, 0,\n",
       "       0, 0, 1, 1, 1, 1, 0, 0, 0, 1, 0, 0, 4, 2, 0, 0, 3, 4, 2, 0, 0, 0,\n",
       "       3, 0, 2, 0, 3, 4, 4, 2, 1, 0, 1, 1, 4, 3, 1, 0, 0, 0, 0, 1, 0, 0,\n",
       "       2, 0, 1, 0, 4, 2, 1, 0, 2, 3, 0, 0, 0, 4, 4, 4, 0, 0, 2, 4, 0, 1,\n",
       "       0, 3, 3, 4, 0, 1, 0, 0, 0, 3, 4, 3, 1, 2, 1, 0, 0, 1, 0, 3, 2, 4,\n",
       "       2, 0, 1, 2, 0, 3, 1, 1, 3, 3, 2, 0, 0, 3, 1, 0, 2, 0, 0, 0, 4, 4,\n",
       "       1, 4, 0, 1, 3, 2, 0, 4, 2, 0, 0, 0, 4, 0, 0, 2, 0, 2, 3, 0, 4, 0,\n",
       "       0, 4, 0, 0, 0, 1, 4, 2, 0, 2, 1, 0, 1, 3, 0, 2, 4, 1, 0, 0, 1, 0,\n",
       "       4, 0, 0, 2, 3, 0, 1, 4, 2, 0, 2, 0, 0, 0, 0, 1, 4, 0, 1, 0, 0, 4,\n",
       "       4, 1, 3, 2, 3, 0, 1, 1, 0, 2, 1, 3, 4, 4, 0, 2, 2, 0, 2, 4, 1, 2,\n",
       "       0, 4, 2, 4, 0, 0, 3, 4, 1, 3, 4, 0, 2, 0, 0, 2, 0, 3, 0, 3, 1, 0,\n",
       "       0, 4, 4, 4, 3, 1, 4, 4, 0, 0, 1, 2, 4, 2, 0, 1, 0, 1, 1, 2, 2, 4,\n",
       "       0, 1, 3, 3, 0, 1, 1, 0, 0, 2, 1, 3, 0, 0, 3, 4, 0, 0, 0, 1, 2, 4,\n",
       "       4, 0, 1, 3, 1, 1, 0, 2, 4, 1, 0, 3, 4, 4, 4, 2, 4, 1, 0, 0, 3, 2,\n",
       "       0, 0, 0, 1, 4, 4, 0, 2, 4, 4, 0, 1, 2, 3, 4, 2, 3, 4, 3, 1, 1, 0,\n",
       "       0, 1, 1, 3, 0, 0, 2, 2, 1, 0, 4, 0, 0, 3, 0, 2, 2, 0, 0, 3, 0, 1,\n",
       "       0, 0, 3, 0, 2, 0, 0, 1, 2, 4, 0, 0, 1, 0, 0, 0, 0, 0, 3, 4, 4, 0,\n",
       "       0, 0, 2, 0, 0, 1, 4, 4, 1, 1, 4, 1, 3, 0, 3, 1, 0, 0, 2, 2, 2, 4,\n",
       "       2, 2, 3, 0, 0, 3, 4, 1, 0, 1, 3, 0, 0, 0, 2, 4, 1, 0, 2, 1, 2, 0,\n",
       "       4, 1, 2, 4, 2, 2, 0, 1, 2, 4, 3, 3, 0, 0, 0, 4, 1, 1, 1, 0, 4, 1,\n",
       "       2, 0, 4, 2, 0, 2, 0, 1, 0, 3, 2, 2, 1, 2, 1, 0, 4, 4, 0, 0, 1, 0,\n",
       "       0, 0, 0, 1, 1, 2, 3, 1, 0, 0, 1, 0, 4, 0, 0, 2, 0, 2, 0, 3, 0, 0,\n",
       "       1, 4, 0, 0, 2, 0, 2, 3, 0, 0, 0, 4, 0, 4, 0, 4, 1, 1, 3, 3, 0, 0,\n",
       "       0, 4, 0, 4, 1, 0, 4, 1, 4, 4, 4, 1, 0, 2, 0, 0, 1, 0, 2, 1, 0, 0,\n",
       "       0, 0, 2, 4, 0, 4, 4, 2, 2], dtype=int32)"
      ]
     },
     "execution_count": 55,
     "metadata": {},
     "output_type": "execute_result"
    }
   ],
   "source": [
    "from sklearn.cluster import KMeans\n",
    "clusters_995 = KMeans(5, n_init = 5)\n",
    "clusters_995.fit(X_pca_with_995)\n",
    "clusters_995.labels_"
   ]
  },
  {
   "cell_type": "code",
   "execution_count": 56,
   "id": "3361a031",
   "metadata": {
    "execution": {
     "iopub.execute_input": "2021-12-10T16:07:31.969487Z",
     "iopub.status.busy": "2021-12-10T16:07:31.968413Z",
     "iopub.status.idle": "2021-12-10T16:07:31.971611Z",
     "shell.execute_reply": "2021-12-10T16:07:31.971030Z",
     "shell.execute_reply.started": "2021-12-10T15:54:46.130156Z"
    },
    "papermill": {
     "duration": 0.138561,
     "end_time": "2021-12-10T16:07:31.971782",
     "exception": false,
     "start_time": "2021-12-10T16:07:31.833221",
     "status": "completed"
    },
    "tags": []
   },
   "outputs": [],
   "source": [
    "pca_with_995_data_frame = pd.DataFrame(data=X_pca_with_995)\n",
    "pca_with_995_data_frame.head()\n",
    "pca_with_995_data_frame['Cls_label'] = clusters.labels_\n",
    "pca_with_995_data_frame['given_cancer_type'] = label.Class.values"
   ]
  },
  {
   "cell_type": "code",
   "execution_count": 57,
   "id": "acba2e8e",
   "metadata": {
    "execution": {
     "iopub.execute_input": "2021-12-10T16:07:32.234019Z",
     "iopub.status.busy": "2021-12-10T16:07:32.233187Z",
     "iopub.status.idle": "2021-12-10T16:07:32.237437Z",
     "shell.execute_reply": "2021-12-10T16:07:32.236815Z",
     "shell.execute_reply.started": "2021-12-10T15:54:46.151198Z"
    },
    "papermill": {
     "duration": 0.137251,
     "end_time": "2021-12-10T16:07:32.237608",
     "exception": false,
     "start_time": "2021-12-10T16:07:32.100357",
     "status": "completed"
    },
    "tags": []
   },
   "outputs": [
    {
     "data": {
      "text/plain": [
       "(801, 749)"
      ]
     },
     "execution_count": 57,
     "metadata": {},
     "output_type": "execute_result"
    }
   ],
   "source": [
    "pca_with_995_data_frame.shape"
   ]
  },
  {
   "cell_type": "code",
   "execution_count": 58,
   "id": "8dfc50bf",
   "metadata": {
    "execution": {
     "iopub.execute_input": "2021-12-10T16:07:32.505796Z",
     "iopub.status.busy": "2021-12-10T16:07:32.503594Z",
     "iopub.status.idle": "2021-12-10T16:07:32.511916Z",
     "shell.execute_reply": "2021-12-10T16:07:32.512420Z",
     "shell.execute_reply.started": "2021-12-10T15:54:46.170764Z"
    },
    "papermill": {
     "duration": 0.145487,
     "end_time": "2021-12-10T16:07:32.512644",
     "exception": false,
     "start_time": "2021-12-10T16:07:32.367157",
     "status": "completed"
    },
    "tags": []
   },
   "outputs": [
    {
     "data": {
      "text/plain": [
       "2    202\n",
       "3     44\n",
       "0     35\n",
       "4     19\n",
       "Name: Cls_label, dtype: int64"
      ]
     },
     "execution_count": 58,
     "metadata": {},
     "output_type": "execute_result"
    }
   ],
   "source": [
    "brca_995 = pca_with_995_data_frame.groupby('given_cancer_type').get_group('BRCA')\n",
    "brca_995.Cls_label.value_counts()"
   ]
  },
  {
   "cell_type": "code",
   "execution_count": 59,
   "id": "53947c93",
   "metadata": {
    "execution": {
     "iopub.execute_input": "2021-12-10T16:07:32.774620Z",
     "iopub.status.busy": "2021-12-10T16:07:32.771879Z",
     "iopub.status.idle": "2021-12-10T16:07:32.778908Z",
     "shell.execute_reply": "2021-12-10T16:07:32.778333Z",
     "shell.execute_reply.started": "2021-12-10T15:54:46.196732Z"
    },
    "papermill": {
     "duration": 0.140125,
     "end_time": "2021-12-10T16:07:32.779072",
     "exception": false,
     "start_time": "2021-12-10T16:07:32.638947",
     "status": "completed"
    },
    "tags": []
   },
   "outputs": [
    {
     "data": {
      "text/plain": [
       "3    99\n",
       "0    23\n",
       "2    13\n",
       "4     5\n",
       "1     1\n",
       "Name: Cls_label, dtype: int64"
      ]
     },
     "execution_count": 59,
     "metadata": {},
     "output_type": "execute_result"
    }
   ],
   "source": [
    "luad_995 = pca_with_995_data_frame.groupby('given_cancer_type').get_group('LUAD')\n",
    "luad_995.Cls_label.value_counts()"
   ]
  },
  {
   "cell_type": "code",
   "execution_count": 60,
   "id": "f7e02c93",
   "metadata": {
    "execution": {
     "iopub.execute_input": "2021-12-10T16:07:33.037503Z",
     "iopub.status.busy": "2021-12-10T16:07:33.036831Z",
     "iopub.status.idle": "2021-12-10T16:07:33.046039Z",
     "shell.execute_reply": "2021-12-10T16:07:33.046714Z",
     "shell.execute_reply.started": "2021-12-10T15:54:46.222666Z"
    },
    "papermill": {
     "duration": 0.141121,
     "end_time": "2021-12-10T16:07:33.046918",
     "exception": false,
     "start_time": "2021-12-10T16:07:32.905797",
     "status": "completed"
    },
    "tags": []
   },
   "outputs": [
    {
     "data": {
      "text/plain": [
       "0    61\n",
       "4     9\n",
       "3     8\n",
       "Name: Cls_label, dtype: int64"
      ]
     },
     "execution_count": 60,
     "metadata": {},
     "output_type": "execute_result"
    }
   ],
   "source": [
    "coad_995 = pca_with_995_data_frame.groupby('given_cancer_type').get_group('COAD')\n",
    "coad_995.Cls_label.value_counts()"
   ]
  },
  {
   "cell_type": "code",
   "execution_count": 61,
   "id": "3ae332ee",
   "metadata": {
    "execution": {
     "iopub.execute_input": "2021-12-10T16:07:33.315036Z",
     "iopub.status.busy": "2021-12-10T16:07:33.314302Z",
     "iopub.status.idle": "2021-12-10T16:07:33.323885Z",
     "shell.execute_reply": "2021-12-10T16:07:33.324491Z",
     "shell.execute_reply.started": "2021-12-10T15:54:46.248078Z"
    },
    "papermill": {
     "duration": 0.148523,
     "end_time": "2021-12-10T16:07:33.324701",
     "exception": false,
     "start_time": "2021-12-10T16:07:33.176178",
     "status": "completed"
    },
    "tags": []
   },
   "outputs": [
    {
     "data": {
      "text/plain": [
       "3    60\n",
       "0    46\n",
       "2    17\n",
       "4    13\n",
       "Name: Cls_label, dtype: int64"
      ]
     },
     "execution_count": 61,
     "metadata": {},
     "output_type": "execute_result"
    }
   ],
   "source": [
    "prad_995 = pca_with_995_data_frame.groupby('given_cancer_type').get_group('PRAD')\n",
    "prad_995.Cls_label.value_counts()"
   ]
  },
  {
   "cell_type": "code",
   "execution_count": 62,
   "id": "c1a7f2c6",
   "metadata": {
    "execution": {
     "iopub.execute_input": "2021-12-10T16:07:33.597422Z",
     "iopub.status.busy": "2021-12-10T16:07:33.596672Z",
     "iopub.status.idle": "2021-12-10T16:07:33.603837Z",
     "shell.execute_reply": "2021-12-10T16:07:33.604483Z",
     "shell.execute_reply.started": "2021-12-10T15:54:46.273994Z"
    },
    "papermill": {
     "duration": 0.146504,
     "end_time": "2021-12-10T16:07:33.604681",
     "exception": false,
     "start_time": "2021-12-10T16:07:33.458177",
     "status": "completed"
    },
    "tags": []
   },
   "outputs": [
    {
     "data": {
      "text/plain": [
       "1    138\n",
       "3      7\n",
       "4      1\n",
       "Name: Cls_label, dtype: int64"
      ]
     },
     "execution_count": 62,
     "metadata": {},
     "output_type": "execute_result"
    }
   ],
   "source": [
    "kirc_995 = pca_with_995_data_frame.groupby('given_cancer_type').get_group('KIRC')\n",
    "kirc_995.Cls_label.value_counts()"
   ]
  },
  {
   "cell_type": "code",
   "execution_count": 63,
   "id": "438e86bb",
   "metadata": {
    "execution": {
     "iopub.execute_input": "2021-12-10T16:07:33.872460Z",
     "iopub.status.busy": "2021-12-10T16:07:33.871725Z",
     "iopub.status.idle": "2021-12-10T16:07:36.273973Z",
     "shell.execute_reply": "2021-12-10T16:07:36.273328Z",
     "shell.execute_reply.started": "2021-12-10T15:54:46.299293Z"
    },
    "papermill": {
     "duration": 2.537791,
     "end_time": "2021-12-10T16:07:36.274135",
     "exception": false,
     "start_time": "2021-12-10T16:07:33.736344",
     "status": "completed"
    },
    "tags": []
   },
   "outputs": [
    {
     "data": {
      "image/png": "[encoded data removed]",
      "text/plain": [
       "<Figure size 432x288 with 1 Axes>"
      ]
     },
     "metadata": {
      "needs_background": "light"
     },
     "output_type": "display_data"
    }
   ],
   "source": [
    "kmeans = KMeans(n_clusters=5, init='k-means++', max_iter=300, n_init=10, random_state=0)\n",
    "pred_y = kmeans.fit_predict(X_pca_with_995)\n",
    "plt.scatter(X_pca_with_995[:,0], X_pca_with_995[:,1])\n",
    "plt.scatter(kmeans.cluster_centers_[:, 0], kmeans.cluster_centers_[:, 1], s=300, c='red')\n",
    "plt.show()"
   ]
  },
  {
   "cell_type": "markdown",
   "id": "2d1aa7ce",
   "metadata": {
    "papermill": {
     "duration": 0.135189,
     "end_time": "2021-12-10T16:07:36.542626",
     "exception": false,
     "start_time": "2021-12-10T16:07:36.407437",
     "status": "completed"
    },
    "tags": []
   },
   "source": [
    "## Week 4: Build Classification Models\n",
    "\n",
    "#### Project Task: Week 4: \n",
    "\n",
    "Building Classification Model(s) with Feature Selection:\n",
    "\n",
    "Our final task is to build a robust classification model(s) for identifying each type of cancer.\n",
    "\n",
    "Sub-tasks:\n",
    "\n",
    "Build a classification model(s) using multiclass SVM, Random Forest, and Deep Neural Network to classify the input data into five cancer types\n",
    "\n",
    "Apply the feature selection algorithms, forward selection, and backward elimination to refine selected attributes (selected in Task-2) using the classification model from the previous step\n",
    "\n",
    "Validate the genes selected from the last step using statistical significance testing (t-test for one vs. all and F-test)\n",
    " "
   ]
  },
  {
   "cell_type": "markdown",
   "id": "114df0a6",
   "metadata": {
    "papermill": {
     "duration": 0.130265,
     "end_time": "2021-12-10T16:07:36.805184",
     "exception": false,
     "start_time": "2021-12-10T16:07:36.674919",
     "status": "completed"
    },
    "tags": []
   },
   "source": [
    "### Build decision tree clasifier\n",
    "\n",
    "#### Decision Tree is a Supervised Machine Learning Algorithm that uses a set of rules to make decisions, similarly to how humans make decisions. One way to think of a Machine Learning classification algorithm is that it is built to make decisions. You usually say the model predicts the class of the new, never-seen-before input but, behind the scenes, the algorithm has to decide which class to assign.\n"
   ]
  },
  {
   "cell_type": "code",
   "execution_count": 64,
   "id": "602914a0",
   "metadata": {
    "execution": {
     "iopub.execute_input": "2021-12-10T16:07:37.112882Z",
     "iopub.status.busy": "2021-12-10T16:07:37.112139Z",
     "iopub.status.idle": "2021-12-10T16:07:37.152990Z",
     "shell.execute_reply": "2021-12-10T16:07:37.152387Z",
     "shell.execute_reply.started": "2021-12-10T15:54:48.552284Z"
    },
    "papermill": {
     "duration": 0.217907,
     "end_time": "2021-12-10T16:07:37.153151",
     "exception": false,
     "start_time": "2021-12-10T16:07:36.935244",
     "status": "completed"
    },
    "tags": []
   },
   "outputs": [],
   "source": [
    "ml_x = x_lda\n",
    "ml_y = y_lda\n",
    "ml_x.shape,ml_y.shape\n",
    "from sklearn.model_selection import train_test_split\n",
    "x_train, x_test, y_train, y_test = train_test_split(ml_x,ml_y,test_size=0.30,random_state=30)"
   ]
  },
  {
   "cell_type": "code",
   "execution_count": 65,
   "id": "5237ba30",
   "metadata": {
    "execution": {
     "iopub.execute_input": "2021-12-10T16:07:37.419186Z",
     "iopub.status.busy": "2021-12-10T16:07:37.418088Z",
     "iopub.status.idle": "2021-12-10T16:07:40.917196Z",
     "shell.execute_reply": "2021-12-10T16:07:40.916623Z",
     "shell.execute_reply.started": "2021-12-10T15:54:48.660220Z"
    },
    "papermill": {
     "duration": 3.633121,
     "end_time": "2021-12-10T16:07:40.917352",
     "exception": false,
     "start_time": "2021-12-10T16:07:37.284231",
     "status": "completed"
    },
    "tags": []
   },
   "outputs": [
    {
     "data": {
      "text/plain": [
       "0.9585062240663901"
      ]
     },
     "execution_count": 65,
     "metadata": {},
     "output_type": "execute_result"
    }
   ],
   "source": [
    "from sklearn import tree\n",
    "dt_clf = tree.DecisionTreeClassifier(max_depth=5)\n",
    "dt_clf.fit(x_train,y_train)\n",
    "dt_clf.score(x_test,y_test)\n",
    "\n",
    "y_pred=(dt_clf.predict(x_test))\n",
    "dt_clf.score(x_test,y_test)"
   ]
  },
  {
   "cell_type": "markdown",
   "id": "20005840",
   "metadata": {
    "papermill": {
     "duration": 0.12991,
     "end_time": "2021-12-10T16:07:41.177138",
     "exception": false,
     "start_time": "2021-12-10T16:07:41.047228",
     "status": "completed"
    },
    "tags": []
   },
   "source": [
    "### SVM \n",
    "\n",
    "#### Support vector machine algorithm is used to find a hyperplane in an N-dimensional space(N — the number of features) that distinctly classifies the data points."
   ]
  },
  {
   "cell_type": "code",
   "execution_count": 66,
   "id": "43bc6dd3",
   "metadata": {
    "execution": {
     "iopub.execute_input": "2021-12-10T16:07:41.445474Z",
     "iopub.status.busy": "2021-12-10T16:07:41.442507Z",
     "iopub.status.idle": "2021-12-10T16:07:56.557983Z",
     "shell.execute_reply": "2021-12-10T16:07:56.558691Z",
     "shell.execute_reply.started": "2021-12-10T15:54:52.697161Z"
    },
    "papermill": {
     "duration": 15.251188,
     "end_time": "2021-12-10T16:07:56.558882",
     "exception": false,
     "start_time": "2021-12-10T16:07:41.307694",
     "status": "completed"
    },
    "tags": []
   },
   "outputs": [
    {
     "name": "stdout",
     "output_type": "stream",
     "text": [
      "1.0\n"
     ]
    }
   ],
   "source": [
    "from sklearn.metrics import accuracy_score\n",
    "from sklearn.svm import SVC\n",
    "sv_clf = SVC(probability=True, kernel='linear')\n",
    "sv_clf.fit(x_train,y_train)\n",
    "sv_clf.score(x_test,y_test)\n",
    "\n",
    "\n",
    "y_pred = sv_clf.predict(x_test)\n",
    "print(accuracy_score(y_test,y_pred))\n"
   ]
  },
  {
   "cell_type": "markdown",
   "id": "d544d337",
   "metadata": {
    "papermill": {
     "duration": 0.130485,
     "end_time": "2021-12-10T16:07:56.819626",
     "exception": false,
     "start_time": "2021-12-10T16:07:56.689141",
     "status": "completed"
    },
    "tags": []
   },
   "source": [
    "### Random Forest \n",
    "\n",
    "#### Random forest, like its name implies, consists of a large number of individual decision trees that operate as an ensemble. Each individual tree in the random forest spits out a class prediction and the class with the most votes becomes our model’s prediction. The fundamental concept behind random forest is a simple but powerful one — the wisdom of crowds. In data science speak, the reason that the random forest model works so well is: A large number of relatively uncorrelated models (trees) operating as a committee will outperform any of the individual constituent models."
   ]
  },
  {
   "cell_type": "code",
   "execution_count": 67,
   "id": "5c813871",
   "metadata": {
    "execution": {
     "iopub.execute_input": "2021-12-10T16:07:57.089278Z",
     "iopub.status.busy": "2021-12-10T16:07:57.088477Z",
     "iopub.status.idle": "2021-12-10T16:07:59.423432Z",
     "shell.execute_reply": "2021-12-10T16:07:59.422751Z",
     "shell.execute_reply.started": "2021-12-10T15:55:12.179010Z"
    },
    "papermill": {
     "duration": 2.474288,
     "end_time": "2021-12-10T16:07:59.423633",
     "exception": false,
     "start_time": "2021-12-10T16:07:56.949345",
     "status": "completed"
    },
    "tags": []
   },
   "outputs": [
    {
     "data": {
      "text/plain": [
       "0.9875518672199171"
      ]
     },
     "execution_count": 67,
     "metadata": {},
     "output_type": "execute_result"
    }
   ],
   "source": [
    "from sklearn import ensemble\n",
    "rf_clf = ensemble.RandomForestClassifier(n_estimators=100)\n",
    "rf_clf.fit(x_train,y_train)\n",
    "rf_clf.score(x_test,y_test)"
   ]
  },
  {
   "cell_type": "markdown",
   "id": "0000dd02",
   "metadata": {
    "papermill": {
     "duration": 0.130466,
     "end_time": "2021-12-10T16:07:59.685430",
     "exception": false,
     "start_time": "2021-12-10T16:07:59.554964",
     "status": "completed"
    },
    "tags": []
   },
   "source": [
    "### Naive Bayes Classifier \n",
    "\n",
    "#### A Naive Bayes classifier is a probabilistic machine learning model that’s used for classification task. The crux of the classifier is based on the Bayes theorem.\n",
    "\n",
    "#### Bayes Theorem:\n",
    "\n",
    "#### Using Bayes theorem, we can find the probability of A happening, given that B has occurred. Here, B is the evidence and A is the hypothesis. The assumption made here is that the predictors/features are independent. That is presence of one particular feature does not affect the other. Hence it is called naive."
   ]
  },
  {
   "cell_type": "code",
   "execution_count": 68,
   "id": "d48bea36",
   "metadata": {
    "execution": {
     "iopub.execute_input": "2021-12-10T16:07:59.953664Z",
     "iopub.status.busy": "2021-12-10T16:07:59.952485Z",
     "iopub.status.idle": "2021-12-10T16:08:00.909992Z",
     "shell.execute_reply": "2021-12-10T16:08:00.908832Z",
     "shell.execute_reply.started": "2021-12-10T15:55:14.817024Z"
    },
    "papermill": {
     "duration": 1.09543,
     "end_time": "2021-12-10T16:08:00.910167",
     "exception": false,
     "start_time": "2021-12-10T16:07:59.814737",
     "status": "completed"
    },
    "tags": []
   },
   "outputs": [
    {
     "data": {
      "text/plain": [
       "0.7385892116182573"
      ]
     },
     "execution_count": 68,
     "metadata": {},
     "output_type": "execute_result"
    }
   ],
   "source": [
    "from sklearn.naive_bayes import GaussianNB\n",
    "gb_clf = GaussianNB()\n",
    "gb_clf.fit(x_train,y_train)\n",
    "gb_clf.score(x_test,y_test)"
   ]
  },
  {
   "cell_type": "markdown",
   "id": "a4887432",
   "metadata": {
    "papermill": {
     "duration": 0.136997,
     "end_time": "2021-12-10T16:08:01.180927",
     "exception": false,
     "start_time": "2021-12-10T16:08:01.043930",
     "status": "completed"
    },
    "tags": []
   },
   "source": [
    "gb_clf = ensemble.GradientBoostingClassifier(n_estimators=40)\n",
    "gb_clf.fit(x_train,y_train)\n",
    "gb_clf.score(x_test,y_test)"
   ]
  },
  {
   "cell_type": "markdown",
   "id": "59b92998",
   "metadata": {
    "papermill": {
     "duration": 0.135656,
     "end_time": "2021-12-10T16:08:01.449952",
     "exception": false,
     "start_time": "2021-12-10T16:08:01.314296",
     "status": "completed"
    },
    "tags": []
   },
   "source": [
    "### KNN Classifier\n",
    "\n",
    "#### K-nearest neighbors (KNN) algorithm is a type of supervised ML algorithm which can be used for both classification as well as regression predictive problems. However, it is mainly used for classification predictive problems in industry. The following two properties would define KNN well −"
   ]
  },
  {
   "cell_type": "code",
   "execution_count": 69,
   "id": "f69b4fe4",
   "metadata": {
    "execution": {
     "iopub.execute_input": "2021-12-10T16:08:01.748170Z",
     "iopub.status.busy": "2021-12-10T16:08:01.747297Z",
     "iopub.status.idle": "2021-12-10T16:08:11.121997Z",
     "shell.execute_reply": "2021-12-10T16:08:11.121418Z",
     "shell.execute_reply.started": "2021-12-10T15:55:15.738405Z"
    },
    "papermill": {
     "duration": 9.536578,
     "end_time": "2021-12-10T16:08:11.122151",
     "exception": false,
     "start_time": "2021-12-10T16:08:01.585573",
     "status": "completed"
    },
    "tags": []
   },
   "outputs": [
    {
     "data": {
      "text/plain": [
       "0.995850622406639"
      ]
     },
     "execution_count": 69,
     "metadata": {},
     "output_type": "execute_result"
    }
   ],
   "source": [
    "from sklearn.neighbors import KNeighborsClassifier\n",
    "knn_clf = KNeighborsClassifier(n_neighbors=5)\n",
    "knn_clf.fit(x_train,y_train)\n",
    "knn_clf.score(x_test,y_test)"
   ]
  },
  {
   "cell_type": "markdown",
   "id": "e30f2d58",
   "metadata": {
    "papermill": {
     "duration": 0.172132,
     "end_time": "2021-12-10T16:08:11.425284",
     "exception": false,
     "start_time": "2021-12-10T16:08:11.253152",
     "status": "completed"
    },
    "tags": []
   },
   "source": [
    "## Recurcive Feature Elimination "
   ]
  },
  {
   "cell_type": "code",
   "execution_count": 70,
   "id": "57155d42",
   "metadata": {
    "execution": {
     "iopub.execute_input": "2021-12-10T16:08:11.703169Z",
     "iopub.status.busy": "2021-12-10T16:08:11.702324Z",
     "iopub.status.idle": "2021-12-10T16:08:16.887514Z",
     "shell.execute_reply": "2021-12-10T16:08:16.886946Z",
     "shell.execute_reply.started": "2021-12-10T15:55:23.797293Z"
    },
    "papermill": {
     "duration": 5.3259,
     "end_time": "2021-12-10T16:08:16.887688",
     "exception": false,
     "start_time": "2021-12-10T16:08:11.561788",
     "status": "completed"
    },
    "tags": []
   },
   "outputs": [
    {
     "name": "stdout",
     "output_type": "stream",
     "text": [
      "Accuracy: 0.888 (0.027)\n"
     ]
    }
   ],
   "source": [
    "# automatically select the number of features for RFE\n",
    "from numpy import mean\n",
    "from numpy import std\n",
    "from sklearn.datasets import make_classification\n",
    "from sklearn.model_selection import cross_val_score\n",
    "from sklearn.model_selection import RepeatedStratifiedKFold\n",
    "from sklearn.feature_selection import RFECV\n",
    "from sklearn.tree import DecisionTreeClassifier\n",
    "from sklearn.pipeline import Pipeline\n",
    "# define dataset\n",
    "X, y = make_classification(n_samples=1000, n_features=10, n_informative=5, n_redundant=5, random_state=1)\n",
    "# create pipeline\n",
    "rfe = RFECV(estimator=DecisionTreeClassifier())\n",
    "model = DecisionTreeClassifier()\n",
    "pipeline = Pipeline(steps=[('s',rfe),('m',model)])\n",
    "# evaluate model\n",
    "cv = RepeatedStratifiedKFold(n_splits=10, n_repeats=3, random_state=1)\n",
    "n_scores = cross_val_score(pipeline, X, y, scoring='accuracy', cv=cv, n_jobs=-1, error_score='raise')\n",
    "# report performance\n",
    "print('Accuracy: %.3f (%.3f)' % (mean(n_scores), std(n_scores)))"
   ]
  },
  {
   "cell_type": "markdown",
   "id": "0e6fa764",
   "metadata": {
    "papermill": {
     "duration": 0.13497,
     "end_time": "2021-12-10T16:08:17.155446",
     "exception": false,
     "start_time": "2021-12-10T16:08:17.020476",
     "status": "completed"
    },
    "tags": []
   },
   "source": [
    "## One way F test "
   ]
  },
  {
   "cell_type": "code",
   "execution_count": 71,
   "id": "5b7fa034",
   "metadata": {
    "execution": {
     "iopub.execute_input": "2021-12-10T16:08:17.438062Z",
     "iopub.status.busy": "2021-12-10T16:08:17.426588Z",
     "iopub.status.idle": "2021-12-10T16:08:17.444829Z",
     "shell.execute_reply": "2021-12-10T16:08:17.445481Z",
     "shell.execute_reply.started": "2021-12-10T15:55:30.362365Z"
    },
    "papermill": {
     "duration": 0.155912,
     "end_time": "2021-12-10T16:08:17.445687",
     "exception": false,
     "start_time": "2021-12-10T16:08:17.289775",
     "status": "completed"
    },
    "tags": []
   },
   "outputs": [
    {
     "data": {
      "text/html": [
       "<div>\n",
       "<style scoped>\n",
       "    .dataframe tbody tr th:only-of-type {\n",
       "        vertical-align: middle;\n",
       "    }\n",
       "\n",
       "    .dataframe tbody tr th {\n",
       "        vertical-align: top;\n",
       "    }\n",
       "\n",
       "    .dataframe thead th {\n",
       "        text-align: right;\n",
       "    }\n",
       "</style>\n",
       "<table border=\"1\" class=\"dataframe\">\n",
       "  <thead>\n",
       "    <tr style=\"text-align: right;\">\n",
       "      <th></th>\n",
       "      <th>tsne1</th>\n",
       "      <th>tsne2</th>\n",
       "      <th>cancer_type</th>\n",
       "    </tr>\n",
       "  </thead>\n",
       "  <tbody>\n",
       "    <tr>\n",
       "      <th>0</th>\n",
       "      <td>35.810390</td>\n",
       "      <td>0.705806</td>\n",
       "      <td>PRAD</td>\n",
       "    </tr>\n",
       "    <tr>\n",
       "      <th>1</th>\n",
       "      <td>-19.795588</td>\n",
       "      <td>24.284504</td>\n",
       "      <td>LUAD</td>\n",
       "    </tr>\n",
       "    <tr>\n",
       "      <th>2</th>\n",
       "      <td>48.298653</td>\n",
       "      <td>-1.458622</td>\n",
       "      <td>PRAD</td>\n",
       "    </tr>\n",
       "    <tr>\n",
       "      <th>3</th>\n",
       "      <td>47.529713</td>\n",
       "      <td>-1.101577</td>\n",
       "      <td>PRAD</td>\n",
       "    </tr>\n",
       "    <tr>\n",
       "      <th>4</th>\n",
       "      <td>4.113177</td>\n",
       "      <td>1.079581</td>\n",
       "      <td>BRCA</td>\n",
       "    </tr>\n",
       "    <tr>\n",
       "      <th>...</th>\n",
       "      <td>...</td>\n",
       "      <td>...</td>\n",
       "      <td>...</td>\n",
       "    </tr>\n",
       "    <tr>\n",
       "      <th>796</th>\n",
       "      <td>2.207560</td>\n",
       "      <td>-0.609111</td>\n",
       "      <td>BRCA</td>\n",
       "    </tr>\n",
       "    <tr>\n",
       "      <th>797</th>\n",
       "      <td>-31.377716</td>\n",
       "      <td>21.698442</td>\n",
       "      <td>LUAD</td>\n",
       "    </tr>\n",
       "    <tr>\n",
       "      <th>798</th>\n",
       "      <td>-29.307745</td>\n",
       "      <td>-2.164104</td>\n",
       "      <td>COAD</td>\n",
       "    </tr>\n",
       "    <tr>\n",
       "      <th>799</th>\n",
       "      <td>41.049381</td>\n",
       "      <td>0.451809</td>\n",
       "      <td>PRAD</td>\n",
       "    </tr>\n",
       "    <tr>\n",
       "      <th>800</th>\n",
       "      <td>42.136234</td>\n",
       "      <td>4.338703</td>\n",
       "      <td>PRAD</td>\n",
       "    </tr>\n",
       "  </tbody>\n",
       "</table>\n",
       "<p>801 rows × 3 columns</p>\n",
       "</div>"
      ],
      "text/plain": [
       "         tsne1      tsne2 cancer_type\n",
       "0    35.810390   0.705806        PRAD\n",
       "1   -19.795588  24.284504        LUAD\n",
       "2    48.298653  -1.458622        PRAD\n",
       "3    47.529713  -1.101577        PRAD\n",
       "4     4.113177   1.079581        BRCA\n",
       "..         ...        ...         ...\n",
       "796   2.207560  -0.609111        BRCA\n",
       "797 -31.377716  21.698442        LUAD\n",
       "798 -29.307745  -2.164104        COAD\n",
       "799  41.049381   0.451809        PRAD\n",
       "800  42.136234   4.338703        PRAD\n",
       "\n",
       "[801 rows x 3 columns]"
      ]
     },
     "execution_count": 71,
     "metadata": {},
     "output_type": "execute_result"
    }
   ],
   "source": [
    "df_tsne = pd.DataFrame(data=tnse_features,columns=['tsne1','tsne2'])\n",
    "df_tsne['cancer_type']=label['Class']\n",
    "df_tsne"
   ]
  },
  {
   "cell_type": "code",
   "execution_count": 72,
   "id": "707686e6",
   "metadata": {
    "execution": {
     "iopub.execute_input": "2021-12-10T16:08:17.719857Z",
     "iopub.status.busy": "2021-12-10T16:08:17.719140Z",
     "iopub.status.idle": "2021-12-10T16:08:17.730938Z",
     "shell.execute_reply": "2021-12-10T16:08:17.731624Z",
     "shell.execute_reply.started": "2021-12-10T15:55:30.404156Z"
    },
    "papermill": {
     "duration": 0.148295,
     "end_time": "2021-12-10T16:08:17.731814",
     "exception": false,
     "start_time": "2021-12-10T16:08:17.583519",
     "status": "completed"
    },
    "tags": []
   },
   "outputs": [
    {
     "name": "stdout",
     "output_type": "stream",
     "text": [
      "reject null hypothesis\n"
     ]
    }
   ],
   "source": [
    "df_anova_tsne = df_tsne[['tsne2','cancer_type']]\n",
    "grps_tsne = pd.unique(df_anova_tsne.cancer_type.values)\n",
    "\n",
    "d_data = {grp:df_anova_tsne['tsne2'][df_anova_tsne.cancer_type == grp] for grp in grps_tsne}\n",
    "\n",
    "F, p = stats.f_oneway(d_data['LUAD'], d_data['PRAD'], d_data['BRCA'], d_data['KIRC'], d_data['COAD'])\n",
    "\n",
    "if p<0.05:\n",
    "    print(\"reject null hypothesis\")\n",
    "else:\n",
    "    print(\"accept null hypothesis\")"
   ]
  },
  {
   "cell_type": "code",
   "execution_count": 73,
   "id": "a2895191",
   "metadata": {
    "execution": {
     "iopub.execute_input": "2021-12-10T16:08:18.008568Z",
     "iopub.status.busy": "2021-12-10T16:08:18.007862Z",
     "iopub.status.idle": "2021-12-10T16:08:18.013804Z",
     "shell.execute_reply": "2021-12-10T16:08:18.014673Z",
     "shell.execute_reply.started": "2021-12-10T15:55:30.424780Z"
    },
    "papermill": {
     "duration": 0.148426,
     "end_time": "2021-12-10T16:08:18.014941",
     "exception": false,
     "start_time": "2021-12-10T16:08:17.866515",
     "status": "completed"
    },
    "tags": []
   },
   "outputs": [
    {
     "name": "stdout",
     "output_type": "stream",
     "text": [
      "reject null hypothesis\n"
     ]
    }
   ],
   "source": [
    "df_anova_tsne = df_tsne[['tsne1','cancer_type']]\n",
    "grps_tsne = pd.unique(df_anova_tsne.cancer_type.values)\n",
    "\n",
    "d_data = {grp:df_anova_tsne['tsne1'][df_anova_tsne.cancer_type == grp] for grp in grps_tsne}\n",
    "\n",
    "F, p = stats.f_oneway(d_data['LUAD'], d_data['PRAD'], d_data['BRCA'], d_data['KIRC'], d_data['COAD'])\n",
    "\n",
    "if p<0.05:\n",
    "    print(\"reject null hypothesis\")\n",
    "else:\n",
    "    print(\"accept null hypothesis\")"
   ]
  },
  {
   "cell_type": "markdown",
   "id": "3a33592c",
   "metadata": {
    "papermill": {
     "duration": 0.132806,
     "end_time": "2021-12-10T16:08:18.282773",
     "exception": false,
     "start_time": "2021-12-10T16:08:18.149967",
     "status": "completed"
    },
    "tags": []
   },
   "source": [
    "## DNN \n",
    "\n",
    "The neural network needs to learn all the time to solve tasks in a more qualified manner or even to use various methods to provide a better result. When it gets new information in the system, it learns how to act accordingly to a new situation.\n",
    "\n",
    "Learning becomes deeper when tasks you solve get harder. Deep neural network represents the type of machine learning when the system uses many layers of nodes to derive high-level functions from input information. It means transforming the data into a more creative and abstract component.\n",
    "\n",
    "In order to understand the result of deep learning better, let's imagine a picture of an average man. Although you have never seen this picture and his face and body before, you will always identify that it is a human and differentiate it from other creatures. This is an example of how the deep neural network works. Creative and analytical components of information are analyzed and grouped to ensure that the object is identified correctly. These components are not brought to the system directly, thus the ML system has to modify and derive them. "
   ]
  },
  {
   "cell_type": "code",
   "execution_count": null,
   "id": "f5d2f9d0",
   "metadata": {
    "papermill": {
     "duration": 0.133221,
     "end_time": "2021-12-10T16:08:18.549082",
     "exception": false,
     "start_time": "2021-12-10T16:08:18.415861",
     "status": "completed"
    },
    "tags": []
   },
   "outputs": [],
   "source": []
  },
  {
   "cell_type": "code",
   "execution_count": 74,
   "id": "ed3b9e56",
   "metadata": {
    "execution": {
     "iopub.execute_input": "2021-12-10T16:08:18.820015Z",
     "iopub.status.busy": "2021-12-10T16:08:18.819337Z",
     "iopub.status.idle": "2021-12-10T16:08:18.957355Z",
     "shell.execute_reply": "2021-12-10T16:08:18.957958Z",
     "shell.execute_reply.started": "2021-12-10T15:59:54.696138Z"
    },
    "papermill": {
     "duration": 0.274983,
     "end_time": "2021-12-10T16:08:18.958141",
     "exception": false,
     "start_time": "2021-12-10T16:08:18.683158",
     "status": "completed"
    },
    "tags": []
   },
   "outputs": [
    {
     "data": {
      "text/html": [
       "<div>\n",
       "<style scoped>\n",
       "    .dataframe tbody tr th:only-of-type {\n",
       "        vertical-align: middle;\n",
       "    }\n",
       "\n",
       "    .dataframe tbody tr th {\n",
       "        vertical-align: top;\n",
       "    }\n",
       "\n",
       "    .dataframe thead th {\n",
       "        text-align: right;\n",
       "    }\n",
       "</style>\n",
       "<table border=\"1\" class=\"dataframe\">\n",
       "  <thead>\n",
       "    <tr style=\"text-align: right;\">\n",
       "      <th></th>\n",
       "      <th>gene_0</th>\n",
       "      <th>gene_1</th>\n",
       "      <th>gene_2</th>\n",
       "      <th>gene_3</th>\n",
       "      <th>gene_4</th>\n",
       "      <th>gene_5</th>\n",
       "      <th>gene_6</th>\n",
       "      <th>gene_7</th>\n",
       "      <th>gene_8</th>\n",
       "      <th>gene_9</th>\n",
       "      <th>...</th>\n",
       "      <th>gene_20521</th>\n",
       "      <th>gene_20522</th>\n",
       "      <th>gene_20523</th>\n",
       "      <th>gene_20524</th>\n",
       "      <th>gene_20525</th>\n",
       "      <th>gene_20526</th>\n",
       "      <th>gene_20527</th>\n",
       "      <th>gene_20528</th>\n",
       "      <th>gene_20529</th>\n",
       "      <th>gene_20530</th>\n",
       "    </tr>\n",
       "  </thead>\n",
       "  <tbody>\n",
       "    <tr>\n",
       "      <th>0</th>\n",
       "      <td>0.0</td>\n",
       "      <td>2.017209</td>\n",
       "      <td>3.265527</td>\n",
       "      <td>5.478487</td>\n",
       "      <td>10.431999</td>\n",
       "      <td>0.0</td>\n",
       "      <td>7.175175</td>\n",
       "      <td>0.591871</td>\n",
       "      <td>0.0</td>\n",
       "      <td>0.0</td>\n",
       "      <td>...</td>\n",
       "      <td>4.926711</td>\n",
       "      <td>8.210257</td>\n",
       "      <td>9.723516</td>\n",
       "      <td>7.220030</td>\n",
       "      <td>9.119813</td>\n",
       "      <td>12.003135</td>\n",
       "      <td>9.650743</td>\n",
       "      <td>8.921326</td>\n",
       "      <td>5.286759</td>\n",
       "      <td>0.0</td>\n",
       "    </tr>\n",
       "    <tr>\n",
       "      <th>1</th>\n",
       "      <td>0.0</td>\n",
       "      <td>0.592732</td>\n",
       "      <td>1.588421</td>\n",
       "      <td>7.586157</td>\n",
       "      <td>9.623011</td>\n",
       "      <td>0.0</td>\n",
       "      <td>6.816049</td>\n",
       "      <td>0.000000</td>\n",
       "      <td>0.0</td>\n",
       "      <td>0.0</td>\n",
       "      <td>...</td>\n",
       "      <td>4.593372</td>\n",
       "      <td>7.323865</td>\n",
       "      <td>9.740931</td>\n",
       "      <td>6.256586</td>\n",
       "      <td>8.381612</td>\n",
       "      <td>12.674552</td>\n",
       "      <td>10.517059</td>\n",
       "      <td>9.397854</td>\n",
       "      <td>2.094168</td>\n",
       "      <td>0.0</td>\n",
       "    </tr>\n",
       "    <tr>\n",
       "      <th>2</th>\n",
       "      <td>0.0</td>\n",
       "      <td>3.511759</td>\n",
       "      <td>4.327199</td>\n",
       "      <td>6.881787</td>\n",
       "      <td>9.870730</td>\n",
       "      <td>0.0</td>\n",
       "      <td>6.972130</td>\n",
       "      <td>0.452595</td>\n",
       "      <td>0.0</td>\n",
       "      <td>0.0</td>\n",
       "      <td>...</td>\n",
       "      <td>5.125213</td>\n",
       "      <td>8.127123</td>\n",
       "      <td>10.908640</td>\n",
       "      <td>5.401607</td>\n",
       "      <td>9.911597</td>\n",
       "      <td>9.045255</td>\n",
       "      <td>9.788359</td>\n",
       "      <td>10.090470</td>\n",
       "      <td>1.683023</td>\n",
       "      <td>0.0</td>\n",
       "    </tr>\n",
       "    <tr>\n",
       "      <th>3</th>\n",
       "      <td>0.0</td>\n",
       "      <td>3.663618</td>\n",
       "      <td>4.507649</td>\n",
       "      <td>6.659068</td>\n",
       "      <td>10.196184</td>\n",
       "      <td>0.0</td>\n",
       "      <td>7.843375</td>\n",
       "      <td>0.434882</td>\n",
       "      <td>0.0</td>\n",
       "      <td>0.0</td>\n",
       "      <td>...</td>\n",
       "      <td>6.076566</td>\n",
       "      <td>8.792959</td>\n",
       "      <td>10.141520</td>\n",
       "      <td>8.942805</td>\n",
       "      <td>9.601208</td>\n",
       "      <td>11.392682</td>\n",
       "      <td>9.694814</td>\n",
       "      <td>9.684365</td>\n",
       "      <td>3.292001</td>\n",
       "      <td>0.0</td>\n",
       "    </tr>\n",
       "    <tr>\n",
       "      <th>4</th>\n",
       "      <td>0.0</td>\n",
       "      <td>2.655741</td>\n",
       "      <td>2.821547</td>\n",
       "      <td>6.539454</td>\n",
       "      <td>9.738265</td>\n",
       "      <td>0.0</td>\n",
       "      <td>6.566967</td>\n",
       "      <td>0.360982</td>\n",
       "      <td>0.0</td>\n",
       "      <td>0.0</td>\n",
       "      <td>...</td>\n",
       "      <td>5.996032</td>\n",
       "      <td>8.891425</td>\n",
       "      <td>10.373790</td>\n",
       "      <td>7.181162</td>\n",
       "      <td>9.846910</td>\n",
       "      <td>11.922439</td>\n",
       "      <td>9.217749</td>\n",
       "      <td>9.461191</td>\n",
       "      <td>5.110372</td>\n",
       "      <td>0.0</td>\n",
       "    </tr>\n",
       "  </tbody>\n",
       "</table>\n",
       "<p>5 rows × 20531 columns</p>\n",
       "</div>"
      ],
      "text/plain": [
       "   gene_0    gene_1    gene_2    gene_3     gene_4  gene_5    gene_6  \\\n",
       "0     0.0  2.017209  3.265527  5.478487  10.431999     0.0  7.175175   \n",
       "1     0.0  0.592732  1.588421  7.586157   9.623011     0.0  6.816049   \n",
       "2     0.0  3.511759  4.327199  6.881787   9.870730     0.0  6.972130   \n",
       "3     0.0  3.663618  4.507649  6.659068  10.196184     0.0  7.843375   \n",
       "4     0.0  2.655741  2.821547  6.539454   9.738265     0.0  6.566967   \n",
       "\n",
       "     gene_7  gene_8  gene_9  ...  gene_20521  gene_20522  gene_20523  \\\n",
       "0  0.591871     0.0     0.0  ...    4.926711    8.210257    9.723516   \n",
       "1  0.000000     0.0     0.0  ...    4.593372    7.323865    9.740931   \n",
       "2  0.452595     0.0     0.0  ...    5.125213    8.127123   10.908640   \n",
       "3  0.434882     0.0     0.0  ...    6.076566    8.792959   10.141520   \n",
       "4  0.360982     0.0     0.0  ...    5.996032    8.891425   10.373790   \n",
       "\n",
       "   gene_20524  gene_20525  gene_20526  gene_20527  gene_20528  gene_20529  \\\n",
       "0    7.220030    9.119813   12.003135    9.650743    8.921326    5.286759   \n",
       "1    6.256586    8.381612   12.674552   10.517059    9.397854    2.094168   \n",
       "2    5.401607    9.911597    9.045255    9.788359   10.090470    1.683023   \n",
       "3    8.942805    9.601208   11.392682    9.694814    9.684365    3.292001   \n",
       "4    7.181162    9.846910   11.922439    9.217749    9.461191    5.110372   \n",
       "\n",
       "   gene_20530  \n",
       "0         0.0  \n",
       "1         0.0  \n",
       "2         0.0  \n",
       "3         0.0  \n",
       "4         0.0  \n",
       "\n",
       "[5 rows x 20531 columns]"
      ]
     },
     "execution_count": 74,
     "metadata": {},
     "output_type": "execute_result"
    }
   ],
   "source": [
    "features=master_data.drop(['Unnamed: 0'],axis=1)\n",
    "features=features.drop(['Class'],axis=1)\n",
    "target=master_data['Class']\n",
    "features.head()"
   ]
  },
  {
   "cell_type": "code",
   "execution_count": 75,
   "id": "94299181",
   "metadata": {
    "execution": {
     "iopub.execute_input": "2021-12-10T16:08:19.229410Z",
     "iopub.status.busy": "2021-12-10T16:08:19.228476Z",
     "iopub.status.idle": "2021-12-10T16:08:19.232066Z",
     "shell.execute_reply": "2021-12-10T16:08:19.232619Z",
     "shell.execute_reply.started": "2021-12-10T15:59:58.437654Z"
    },
    "papermill": {
     "duration": 0.142853,
     "end_time": "2021-12-10T16:08:19.232803",
     "exception": false,
     "start_time": "2021-12-10T16:08:19.089950",
     "status": "completed"
    },
    "tags": []
   },
   "outputs": [
    {
     "data": {
      "text/plain": [
       "0    1\n",
       "1    2\n",
       "2    1\n",
       "3    1\n",
       "4    3\n",
       "Name: Class, dtype: int64"
      ]
     },
     "execution_count": 75,
     "metadata": {},
     "output_type": "execute_result"
    }
   ],
   "source": [
    "target.head()"
   ]
  },
  {
   "cell_type": "code",
   "execution_count": 76,
   "id": "ebd491ee",
   "metadata": {
    "execution": {
     "iopub.execute_input": "2021-12-10T16:08:19.508202Z",
     "iopub.status.busy": "2021-12-10T16:08:19.507524Z",
     "iopub.status.idle": "2021-12-10T16:08:19.510098Z",
     "shell.execute_reply": "2021-12-10T16:08:19.509523Z",
     "shell.execute_reply.started": "2021-12-10T15:59:58.983079Z"
    },
    "papermill": {
     "duration": 0.142314,
     "end_time": "2021-12-10T16:08:19.510243",
     "exception": false,
     "start_time": "2021-12-10T16:08:19.367929",
     "status": "completed"
    },
    "tags": []
   },
   "outputs": [],
   "source": [
    "f1=features.values"
   ]
  },
  {
   "cell_type": "code",
   "execution_count": 77,
   "id": "f4eca2db",
   "metadata": {
    "execution": {
     "iopub.execute_input": "2021-12-10T16:08:19.780694Z",
     "iopub.status.busy": "2021-12-10T16:08:19.779963Z",
     "iopub.status.idle": "2021-12-10T16:08:19.784839Z",
     "shell.execute_reply": "2021-12-10T16:08:19.785355Z",
     "shell.execute_reply.started": "2021-12-10T16:00:01.522404Z"
    },
    "papermill": {
     "duration": 0.141777,
     "end_time": "2021-12-10T16:08:19.785536",
     "exception": false,
     "start_time": "2021-12-10T16:08:19.643759",
     "status": "completed"
    },
    "tags": []
   },
   "outputs": [],
   "source": [
    "y1 = pd.get_dummies(y_lda)"
   ]
  },
  {
   "cell_type": "code",
   "execution_count": 78,
   "id": "53f8b011",
   "metadata": {
    "execution": {
     "iopub.execute_input": "2021-12-10T16:08:20.055886Z",
     "iopub.status.busy": "2021-12-10T16:08:20.055191Z",
     "iopub.status.idle": "2021-12-10T16:08:20.268954Z",
     "shell.execute_reply": "2021-12-10T16:08:20.269577Z",
     "shell.execute_reply.started": "2021-12-10T16:00:02.208011Z"
    },
    "papermill": {
     "duration": 0.350584,
     "end_time": "2021-12-10T16:08:20.269775",
     "exception": false,
     "start_time": "2021-12-10T16:08:19.919191",
     "status": "completed"
    },
    "tags": []
   },
   "outputs": [],
   "source": [
    "from sklearn.model_selection import train_test_split\n",
    "\n",
    "#y1 = pd.get_dummies(Xg_fea.Pos_Neg)\n",
    "\n",
    "X1_train, X1_valid, y1_train, y1_valid = train_test_split(f1,y1, test_size = 0.10, random_state=42)"
   ]
  },
  {
   "cell_type": "code",
   "execution_count": 79,
   "id": "98c95a16",
   "metadata": {
    "execution": {
     "iopub.execute_input": "2021-12-10T16:08:20.541696Z",
     "iopub.status.busy": "2021-12-10T16:08:20.540997Z",
     "iopub.status.idle": "2021-12-10T16:08:20.546688Z",
     "shell.execute_reply": "2021-12-10T16:08:20.547332Z",
     "shell.execute_reply.started": "2021-12-10T16:00:04.028196Z"
    },
    "papermill": {
     "duration": 0.142835,
     "end_time": "2021-12-10T16:08:20.547508",
     "exception": false,
     "start_time": "2021-12-10T16:08:20.404673",
     "status": "completed"
    },
    "tags": []
   },
   "outputs": [
    {
     "data": {
      "text/plain": [
       "((720, 20531), (81, 20531), (81, 5), (720, 5))"
      ]
     },
     "execution_count": 79,
     "metadata": {},
     "output_type": "execute_result"
    }
   ],
   "source": [
    "X1_train.shape,X1_valid.shape,y1_valid.shape,y1_train.shape"
   ]
  },
  {
   "cell_type": "markdown",
   "id": "c996c353",
   "metadata": {
    "papermill": {
     "duration": 0.132508,
     "end_time": "2021-12-10T16:08:20.813557",
     "exception": false,
     "start_time": "2021-12-10T16:08:20.681049",
     "status": "completed"
    },
    "tags": []
   },
   "source": [
    "### Define the model \n",
    "\n",
    "#### The ReLU function is f(x)=max(0,x). Usually this is applied element-wise to the output of some other function, such as a matrix-vector product. In MLP usages, rectifier units replace all other activation functions except perhaps the readout layer. But I suppose you could mix-and-match them if you'd like. One way ReLUs improve neural networks is by speeding up training. The gradient computation is very simple (either 0 or 1 depending on the sign of x). Also, the computational step of a ReLU is easy: any negative elements are set to 0.0 -- no exponentials, no multiplication or division operations. Gradients of logistic and hyperbolic tangent networks are smaller than the positive portion of the ReLU. This means that the positive portion is updated more rapidly as training progresses. However, this comes at a cost. The 0 gradient on the left-hand side is has its own problem, called \"dead neurons,\" in which a gradient update sets the incoming values to a ReLU such that the output is always zero; modified ReLU units such as ELU (or Leaky ReLU etc.) can minimize this. Source : StackExchange\n",
    "\n",
    "#### Optimizer is chosen SGD\n",
    "\n"
   ]
  },
  {
   "cell_type": "code",
   "execution_count": 80,
   "id": "425df4c3",
   "metadata": {
    "execution": {
     "iopub.execute_input": "2021-12-10T16:08:21.084192Z",
     "iopub.status.busy": "2021-12-10T16:08:21.083535Z",
     "iopub.status.idle": "2021-12-10T16:08:26.088595Z",
     "shell.execute_reply": "2021-12-10T16:08:26.089134Z",
     "shell.execute_reply.started": "2021-12-10T16:00:23.734486Z"
    },
    "papermill": {
     "duration": 5.143165,
     "end_time": "2021-12-10T16:08:26.089317",
     "exception": false,
     "start_time": "2021-12-10T16:08:20.946152",
     "status": "completed"
    },
    "tags": []
   },
   "outputs": [],
   "source": [
    "import tensorflow as tf"
   ]
  },
  {
   "cell_type": "code",
   "execution_count": 81,
   "id": "abc824db",
   "metadata": {
    "collapsed": true,
    "execution": {
     "iopub.execute_input": "2021-12-10T16:08:26.359639Z",
     "iopub.status.busy": "2021-12-10T16:08:26.358955Z",
     "iopub.status.idle": "2021-12-10T16:08:29.182457Z",
     "shell.execute_reply": "2021-12-10T16:08:29.181856Z",
     "shell.execute_reply.started": "2021-12-10T16:00:29.864870Z"
    },
    "jupyter": {
     "outputs_hidden": true
    },
    "papermill": {
     "duration": 2.95983,
     "end_time": "2021-12-10T16:08:29.182660",
     "exception": false,
     "start_time": "2021-12-10T16:08:26.222830",
     "status": "completed"
    },
    "tags": []
   },
   "outputs": [
    {
     "name": "stderr",
     "output_type": "stream",
     "text": [
      "\n",
      "User settings:\n",
      "\n",
      "   KMP_AFFINITY=granularity=fine,verbose,compact,1,0\n",
      "   KMP_BLOCKTIME=0\n",
      "   KMP_DUPLICATE_LIB_OK=True\n",
      "   KMP_INIT_AT_FORK=FALSE\n",
      "   KMP_SETTINGS=1\n",
      "   KMP_WARNINGS=0\n",
      "\n",
      "Effective settings:\n",
      "\n",
      "   KMP_ABORT_DELAY=0\n",
      "   KMP_ADAPTIVE_LOCK_PROPS='1,1024'\n",
      "   KMP_ALIGN_ALLOC=64\n",
      "   KMP_ALL_THREADPRIVATE=128\n",
      "   KMP_ATOMIC_MODE=2\n",
      "   KMP_BLOCKTIME=0\n",
      "   KMP_CPUINFO_FILE: value is not defined\n",
      "   KMP_DETERMINISTIC_REDUCTION=false\n",
      "   KMP_DEVICE_THREAD_LIMIT=2147483647\n",
      "   KMP_DISP_NUM_BUFFERS=7\n",
      "   KMP_DUPLICATE_LIB_OK=true\n",
      "   KMP_ENABLE_TASK_THROTTLING=true\n",
      "   KMP_FORCE_REDUCTION: value is not defined\n",
      "   KMP_FOREIGN_THREADS_THREADPRIVATE=true\n",
      "   KMP_FORKJOIN_BARRIER='2,2'\n",
      "   KMP_FORKJOIN_BARRIER_PATTERN='hyper,hyper'\n",
      "   KMP_GTID_MODE=3\n",
      "   KMP_HANDLE_SIGNALS=false\n",
      "   KMP_HOT_TEAMS_MAX_LEVEL=1\n",
      "   KMP_HOT_TEAMS_MODE=0\n",
      "   KMP_INIT_AT_FORK=true\n",
      "   KMP_LIBRARY=throughput\n",
      "   KMP_LOCK_KIND=queuing\n",
      "   KMP_MALLOC_POOL_INCR=1M\n",
      "   KMP_NUM_LOCKS_IN_BLOCK=1\n",
      "   KMP_PLAIN_BARRIER='2,2'\n",
      "   KMP_PLAIN_BARRIER_PATTERN='hyper,hyper'\n",
      "   KMP_REDUCTION_BARRIER='1,1'\n",
      "   KMP_REDUCTION_BARRIER_PATTERN='hyper,hyper'\n",
      "   KMP_SCHEDULE='static,balanced;guided,iterative'\n",
      "   KMP_SETTINGS=true\n",
      "   KMP_SPIN_BACKOFF_PARAMS='4096,100'\n",
      "   KMP_STACKOFFSET=64\n",
      "   KMP_STACKPAD=0\n",
      "   KMP_STACKSIZE=8M\n",
      "   KMP_STORAGE_MAP=false\n",
      "   KMP_TASKING=2\n",
      "   KMP_TASKLOOP_MIN_TASKS=0\n",
      "   KMP_TASK_STEALING_CONSTRAINT=1\n",
      "   KMP_TEAMS_THREAD_LIMIT=4\n",
      "   KMP_TOPOLOGY_METHOD=all\n",
      "   KMP_USE_YIELD=1\n",
      "   KMP_VERSION=false\n",
      "   KMP_WARNINGS=false\n",
      "   OMP_AFFINITY_FORMAT='OMP: pid %P tid %i thread %n bound to OS proc set {%A}'\n",
      "   OMP_ALLOCATOR=omp_default_mem_alloc\n",
      "   OMP_CANCELLATION=false\n",
      "   OMP_DEFAULT_DEVICE=0\n",
      "   OMP_DISPLAY_AFFINITY=false\n",
      "   OMP_DISPLAY_ENV=false\n",
      "   OMP_DYNAMIC=false\n",
      "   OMP_MAX_ACTIVE_LEVELS=1\n",
      "   OMP_MAX_TASK_PRIORITY=0\n",
      "   OMP_NESTED: deprecated; max-active-levels-var=1\n",
      "   OMP_NUM_THREADS: value is not defined\n",
      "   OMP_PLACES: value is not defined\n",
      "   OMP_PROC_BIND='intel'\n",
      "   OMP_SCHEDULE='static'\n",
      "   OMP_STACKSIZE=8M\n",
      "   OMP_TARGET_OFFLOAD=DEFAULT\n",
      "   OMP_THREAD_LIMIT=2147483647\n",
      "   OMP_WAIT_POLICY=PASSIVE\n",
      "   KMP_AFFINITY='verbose,warnings,respect,granularity=fine,compact,1,0'\n",
      "\n",
      "2021-12-10 16:08:27.439884: I tensorflow/core/common_runtime/process_util.cc:146] Creating new thread pool with default inter op setting: 2. Tune using inter_op_parallelism_threads for best performance.\n"
     ]
    }
   ],
   "source": [
    "#Initialize Sequential model\n",
    "model = tf.keras.models.Sequential()\n",
    "\n",
    "#adding layers of inout\n",
    "model.add(tf.keras.layers.Dense(10000, input_dim=20531, activation='relu', kernel_initializer='he_uniform'))\n",
    "\n",
    "\n",
    "#Normalize the data\n",
    "model.add(tf.keras.layers.BatchNormalization())\n",
    "\n",
    "#Add 1st hidden layer\n",
    "model.add(tf.keras.layers.Dense(5000, activation='relu'))\n",
    "\n",
    "#Add 2nd hidden layer\n",
    "model.add(tf.keras.layers.Dense(2000, activation='relu'))\n",
    "\n",
    "#Add 3rd hidden layer\n",
    "model.add(tf.keras.layers.Dense(1000, activation='relu'))\n",
    "\n",
    "#Add 4th hidden layer\n",
    "model.add(tf.keras.layers.Dense(500, activation='relu'))\n",
    "\n",
    "#Add 5th hidden layer\n",
    "model.add(tf.keras.layers.Dense(200, activation='relu'))\n",
    "\n",
    "#Add 6th hidden layer\n",
    "model.add(tf.keras.layers.Dense(100, activation='relu'))\n",
    "\n",
    "#Add OUTPUT layer\n",
    "model.add(tf.keras.layers.Dense(5, activation='softmax'))\n",
    "\n",
    "#Create optimizer with non-default learning rate\n",
    "sgd_optimizer = tf.keras.optimizers.SGD(learning_rate=0.03)\n",
    "\n",
    "#Compile the model\n",
    "model.compile(optimizer=sgd_optimizer, loss='categorical_crossentropy', metrics=['accuracy'])\n"
   ]
  },
  {
   "cell_type": "code",
   "execution_count": 82,
   "id": "b0a7cd46",
   "metadata": {
    "execution": {
     "iopub.execute_input": "2021-12-10T16:08:29.463531Z",
     "iopub.status.busy": "2021-12-10T16:08:29.462850Z",
     "iopub.status.idle": "2021-12-10T16:08:29.476327Z",
     "shell.execute_reply": "2021-12-10T16:08:29.476946Z",
     "shell.execute_reply.started": "2021-12-10T16:01:57.098528Z"
    },
    "papermill": {
     "duration": 0.157724,
     "end_time": "2021-12-10T16:08:29.477137",
     "exception": false,
     "start_time": "2021-12-10T16:08:29.319413",
     "status": "completed"
    },
    "tags": []
   },
   "outputs": [
    {
     "name": "stdout",
     "output_type": "stream",
     "text": [
      "Model: \"sequential\"\n",
      "_________________________________________________________________\n",
      "Layer (type)                 Output Shape              Param #   \n",
      "=================================================================\n",
      "dense (Dense)                (None, 10000)             205320000 \n",
      "_________________________________________________________________\n",
      "batch_normalization (BatchNo (None, 10000)             40000     \n",
      "_________________________________________________________________\n",
      "dense_1 (Dense)              (None, 5000)              50005000  \n",
      "_________________________________________________________________\n",
      "dense_2 (Dense)              (None, 2000)              10002000  \n",
      "_________________________________________________________________\n",
      "dense_3 (Dense)              (None, 1000)              2001000   \n",
      "_________________________________________________________________\n",
      "dense_4 (Dense)              (None, 500)               500500    \n",
      "_________________________________________________________________\n",
      "dense_5 (Dense)              (None, 200)               100200    \n",
      "_________________________________________________________________\n",
      "dense_6 (Dense)              (None, 100)               20100     \n",
      "_________________________________________________________________\n",
      "dense_7 (Dense)              (None, 5)                 505       \n",
      "=================================================================\n",
      "Total params: 267,989,305\n",
      "Trainable params: 267,969,305\n",
      "Non-trainable params: 20,000\n",
      "_________________________________________________________________\n"
     ]
    }
   ],
   "source": [
    "model.summary()"
   ]
  },
  {
   "cell_type": "code",
   "execution_count": 83,
   "id": "dc8ce026",
   "metadata": {
    "execution": {
     "iopub.execute_input": "2021-12-10T16:08:29.757751Z",
     "iopub.status.busy": "2021-12-10T16:08:29.755186Z",
     "iopub.status.idle": "2021-12-10T16:09:40.611365Z",
     "shell.execute_reply": "2021-12-10T16:09:40.610734Z",
     "shell.execute_reply.started": "2021-12-10T16:00:33.994246Z"
    },
    "papermill": {
     "duration": 70.995535,
     "end_time": "2021-12-10T16:09:40.611525",
     "exception": false,
     "start_time": "2021-12-10T16:08:29.615990",
     "status": "completed"
    },
    "tags": []
   },
   "outputs": [
    {
     "name": "stderr",
     "output_type": "stream",
     "text": [
      "2021-12-10 16:08:29.884626: I tensorflow/compiler/mlir/mlir_graph_optimization_pass.cc:185] None of the MLIR Optimization Passes are enabled (registered 2)\n"
     ]
    },
    {
     "name": "stdout",
     "output_type": "stream",
     "text": [
      "Epoch 1/5\n",
      "23/23 [==============================] - 16s 641ms/step - loss: 0.3033 - accuracy: 0.9208 - val_loss: 6.4264 - val_accuracy: 0.3951\n",
      "Epoch 2/5\n",
      "23/23 [==============================] - 14s 596ms/step - loss: 0.0077 - accuracy: 1.0000 - val_loss: 2.5350 - val_accuracy: 0.6914\n",
      "Epoch 3/5\n",
      "23/23 [==============================] - 14s 594ms/step - loss: 0.0041 - accuracy: 1.0000 - val_loss: 1.0763 - val_accuracy: 0.7531\n",
      "Epoch 4/5\n",
      "23/23 [==============================] - 14s 604ms/step - loss: 0.0022 - accuracy: 1.0000 - val_loss: 0.2501 - val_accuracy: 0.8519\n",
      "Epoch 5/5\n",
      "23/23 [==============================] - 14s 592ms/step - loss: 0.0016 - accuracy: 1.0000 - val_loss: 0.0199 - val_accuracy: 1.0000\n"
     ]
    }
   ],
   "source": [
    "history = model.fit(X1_train,y1_train,          \n",
    "          validation_data=(X1_valid,y1_valid),\n",
    "          epochs=5,\n",
    "          batch_size=32)"
   ]
  },
  {
   "cell_type": "code",
   "execution_count": 84,
   "id": "3c7cb419",
   "metadata": {
    "execution": {
     "iopub.execute_input": "2021-12-10T16:09:40.972460Z",
     "iopub.status.busy": "2021-12-10T16:09:40.971705Z",
     "iopub.status.idle": "2021-12-10T16:09:41.686232Z",
     "shell.execute_reply": "2021-12-10T16:09:41.685469Z",
     "shell.execute_reply.started": "2021-12-10T16:02:38.028292Z"
    },
    "papermill": {
     "duration": 0.895522,
     "end_time": "2021-12-10T16:09:41.686394",
     "exception": false,
     "start_time": "2021-12-10T16:09:40.790872",
     "status": "completed"
    },
    "tags": []
   },
   "outputs": [],
   "source": [
    "xyz = model.predict(X1_valid)"
   ]
  },
  {
   "cell_type": "code",
   "execution_count": 85,
   "id": "49b316d0",
   "metadata": {
    "execution": {
     "iopub.execute_input": "2021-12-10T16:09:42.048020Z",
     "iopub.status.busy": "2021-12-10T16:09:42.044850Z",
     "iopub.status.idle": "2021-12-10T16:09:42.052673Z",
     "shell.execute_reply": "2021-12-10T16:09:42.052068Z",
     "shell.execute_reply.started": "2021-12-10T16:02:39.067224Z"
    },
    "papermill": {
     "duration": 0.189158,
     "end_time": "2021-12-10T16:09:42.052823",
     "exception": false,
     "start_time": "2021-12-10T16:09:41.863665",
     "status": "completed"
    },
    "tags": []
   },
   "outputs": [],
   "source": [
    "y_pr=[]\n",
    "for k in xyz:\n",
    "    #np.argmax(k)\n",
    "    #print(np.argmax(k))\n",
    "    y_pr.append(np.argmax(k))\n",
    "    \n",
    "y_val=[]\n",
    "for k in y1_valid.values:\n",
    "    #np.argmax(k)\n",
    "    #print(np.argmax(k))\n",
    "    y_val.append(np.argmax(k))"
   ]
  },
  {
   "cell_type": "code",
   "execution_count": 86,
   "id": "e64e46aa",
   "metadata": {
    "execution": {
     "iopub.execute_input": "2021-12-10T16:09:42.417880Z",
     "iopub.status.busy": "2021-12-10T16:09:42.415523Z",
     "iopub.status.idle": "2021-12-10T16:09:42.423361Z",
     "shell.execute_reply": "2021-12-10T16:09:42.424038Z",
     "shell.execute_reply.started": "2021-12-10T16:02:39.603438Z"
    },
    "papermill": {
     "duration": 0.193301,
     "end_time": "2021-12-10T16:09:42.424220",
     "exception": false,
     "start_time": "2021-12-10T16:09:42.230919",
     "status": "completed"
    },
    "tags": []
   },
   "outputs": [
    {
     "data": {
      "text/plain": [
       "array([[14,  0,  0,  0,  0],\n",
       "       [ 0, 17,  0,  0,  0],\n",
       "       [ 0,  0, 31,  0,  0],\n",
       "       [ 0,  0,  0, 12,  0],\n",
       "       [ 0,  0,  0,  0,  7]])"
      ]
     },
     "execution_count": 86,
     "metadata": {},
     "output_type": "execute_result"
    }
   ],
   "source": [
    "# Making the Confusion Matrix\n",
    "from sklearn.metrics import confusion_matrix\n",
    "confusion_matrix(y_val, y_pr)"
   ]
  },
  {
   "cell_type": "markdown",
   "id": "a05e4af4",
   "metadata": {
    "papermill": {
     "duration": 0.242284,
     "end_time": "2021-12-10T16:09:42.841425",
     "exception": false,
     "start_time": "2021-12-10T16:09:42.599141",
     "status": "completed"
    },
    "tags": []
   },
   "source": [
    "### Evaluvate the model "
   ]
  },
  {
   "cell_type": "code",
   "execution_count": 87,
   "id": "9186b631",
   "metadata": {
    "execution": {
     "iopub.execute_input": "2021-12-10T16:09:43.207922Z",
     "iopub.status.busy": "2021-12-10T16:09:43.206637Z",
     "iopub.status.idle": "2021-12-10T16:09:48.628823Z",
     "shell.execute_reply": "2021-12-10T16:09:48.629958Z",
     "shell.execute_reply.started": "2021-12-10T16:02:41.308319Z"
    },
    "papermill": {
     "duration": 5.610546,
     "end_time": "2021-12-10T16:09:48.630244",
     "exception": false,
     "start_time": "2021-12-10T16:09:43.019698",
     "status": "completed"
    },
    "tags": []
   },
   "outputs": [
    {
     "name": "stdout",
     "output_type": "stream",
     "text": [
      "Train: 0.982, Test: 1.000\n"
     ]
    }
   ],
   "source": [
    "_, train_acc = model.evaluate(X1_train, y1_train, verbose=0)\n",
    "_, test_acc = model.evaluate(X1_valid, y1_valid, verbose=0)\n",
    "print('Train: %.3f, Test: %.3f' % (train_acc, test_acc))"
   ]
  },
  {
   "cell_type": "markdown",
   "id": "2be3d11c",
   "metadata": {
    "papermill": {
     "duration": 0.17723,
     "end_time": "2021-12-10T16:09:48.988222",
     "exception": false,
     "start_time": "2021-12-10T16:09:48.810992",
     "status": "completed"
    },
    "tags": []
   },
   "source": [
    "### Plot History "
   ]
  },
  {
   "cell_type": "code",
   "execution_count": 88,
   "id": "a774f9cc",
   "metadata": {
    "execution": {
     "iopub.execute_input": "2021-12-10T16:09:49.360839Z",
     "iopub.status.busy": "2021-12-10T16:09:49.360134Z",
     "iopub.status.idle": "2021-12-10T16:09:49.611526Z",
     "shell.execute_reply": "2021-12-10T16:09:49.610862Z",
     "shell.execute_reply.started": "2021-12-10T16:02:46.619583Z"
    },
    "papermill": {
     "duration": 0.448026,
     "end_time": "2021-12-10T16:09:49.611698",
     "exception": false,
     "start_time": "2021-12-10T16:09:49.163672",
     "status": "completed"
    },
    "tags": []
   },
   "outputs": [
    {
     "data": {
      "image/png": "[encoded data removed]",
      "text/plain": [
       "<Figure size 432x288 with 1 Axes>"
      ]
     },
     "metadata": {
      "needs_background": "light"
     },
     "output_type": "display_data"
    }
   ],
   "source": [
    "plt.plot(history.history['accuracy'], label='train')\n",
    "plt.plot(history.history['val_accuracy'], label='test')\n",
    "plt.xlabel('# of epochs')\n",
    "plt.ylabel('Accuracy')\n",
    "plt.legend()\n",
    "plt.show()"
   ]
  },
  {
   "cell_type": "code",
   "execution_count": null,
   "id": "8f893250",
   "metadata": {
    "papermill": {
     "duration": 0.179424,
     "end_time": "2021-12-10T16:09:49.973303",
     "exception": false,
     "start_time": "2021-12-10T16:09:49.793879",
     "status": "completed"
    },
    "tags": []
   },
   "outputs": [],
   "source": []
  },
  {
   "cell_type": "code",
   "execution_count": null,
   "id": "bda55433",
   "metadata": {
    "papermill": {
     "duration": 0.199376,
     "end_time": "2021-12-10T16:09:50.352350",
     "exception": false,
     "start_time": "2021-12-10T16:09:50.152974",
     "status": "completed"
    },
    "tags": []
   },
   "outputs": [],
   "source": []
  }
 ],
 "metadata": {
  "kernelspec": {
   "display_name": "Python 3.11.0 64-bit",
   "language": "python",
   "name": "python3"
  },
  "language_info": {
   "codemirror_mode": {
    "name": "ipython",
    "version": 3
   },
   "file_extension": ".py",
   "mimetype": "text/x-python",
   "name": "python",
   "nbconvert_exporter": "python",
   "pygments_lexer": "ipython3",
   "version": "3.11.0"
  },
  "papermill": {
   "default_parameters": {},
   "duration": 398.287124,
   "end_time": "2021-12-10T16:09:53.690003",
   "environment_variables": {},
   "exception": null,
   "input_path": "__notebook__.ipynb",
   "output_path": "__notebook__.ipynb",
   "parameters": {},
   "start_time": "2021-12-10T16:03:15.402879",
   "version": "2.3.3"
  },
  "vscode": {
   "interpreter": {
    "hash": "aee8b7b246df8f9039afb4144a1f6fd8d2ca17a180786b69acc140d282b71a49"
   }
  }
 },
 "nbformat": 4,
 "nbformat_minor": 5
}
